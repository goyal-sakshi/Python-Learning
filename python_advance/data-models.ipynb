{
 "cells": [
  {
   "cell_type": "code",
   "execution_count": 109,
   "metadata": {},
   "outputs": [
    {
     "data": {
      "text/plain": [
       "3"
      ]
     },
     "execution_count": 109,
     "metadata": {},
     "output_type": "execute_result"
    }
   ],
   "source": [
    "class Polynomial:\n",
    "    \n",
    "    def __new__(cls):\n",
    "        print 'new' # -> never gets called like this\n",
    "        \n",
    "    def __init__(self, *coeffs):\n",
    "        self.coeffs = coeffs\n",
    "        \n",
    "    def __repr__(self):\n",
    "        print 'repr'\n",
    "        return \"{}\".format(self.coeffs)\n",
    "        \n",
    "    def __add__(self, others):\n",
    "        return Polynomial(*(x + y for x, y in zip(self.coeffs, others.coeffs)))\n",
    "    \n",
    "    def __len__(self):\n",
    "        return len(self.coeffs)\n",
    "    \n",
    "    def __call__(self, others):\n",
    "        print 'call called..'\n",
    "    \n",
    "    def __del__(self):\n",
    "        pass\n",
    "    \n",
    "p1 = Polynomial(1, 2, 3)\n",
    "p2 = Polynomial(3, 4, 4)\n",
    "len(p1)"
   ]
  },
  {
   "cell_type": "code",
   "execution_count": 34,
   "metadata": {},
   "outputs": [
    {
     "name": "stdout",
     "output_type": "stream",
     "text": [
      "2019-06-08 16:25:03.453677\n",
      "2019-06-08 16:25:03.453677\n",
      "datetime.datetime(2019, 6, 8, 16, 25, 3, 453677)\n",
      "'2019-06-08 16:25:03.453677'\n"
     ]
    }
   ],
   "source": [
    "import datetime\n",
    "\n",
    "a = datetime.datetime.now() # an object\n",
    "b = str(a) # a string\n",
    "\n",
    "# str basically print a nicely representation of the object or the string\n",
    "print str(a)\n",
    "print str(b)\n",
    "\n",
    "# repr prints the *offical* representation of a string. object=object, string=string\n",
    "# used for debugging purposes\n",
    "print repr(a)\n",
    "print repr(b)"
   ]
  },
  {
   "cell_type": "code",
   "execution_count": 43,
   "metadata": {},
   "outputs": [
    {
     "name": "stdout",
     "output_type": "stream",
     "text": [
      "A.__new__ is called.\n",
      "A.__init__ is called.\n"
     ]
    },
    {
     "data": {
      "text/plain": [
       "<__main__.A at 0x7f1fb8375e50>"
      ]
     },
     "execution_count": 43,
     "metadata": {},
     "output_type": "execute_result"
    }
   ],
   "source": [
    "class A(object):\n",
    "    \n",
    "    def __new__(cls):\n",
    "        print 'A.__new__ is called.'\n",
    "        return super(A, cls).__new__(cls)\n",
    "    \n",
    "    def __init__(self):\n",
    "        print 'A.__init__ is called.'\n",
    "    \n",
    "A()"
   ]
  },
  {
   "cell_type": "code",
   "execution_count": 60,
   "metadata": {},
   "outputs": [
    {
     "name": "stdout",
     "output_type": "stream",
     "text": [
      "A.__new__ is called.\n"
     ]
    },
    {
     "data": {
      "text/plain": [
       "29"
      ]
     },
     "execution_count": 60,
     "metadata": {},
     "output_type": "execute_result"
    }
   ],
   "source": [
    "class A(object):\n",
    "    \n",
    "    def __new__(cls):\n",
    "        print 'A.__new__ is called.'\n",
    "        return 29\n",
    "    \n",
    "    def __init__(self):\n",
    "        print 'A.__init__ is called.' # -> never called because __new__ does not return *the instance of the class*.\n",
    "    \n",
    "A()"
   ]
  },
  {
   "cell_type": "code",
   "execution_count": 75,
   "metadata": {},
   "outputs": [
    {
     "name": "stdout",
     "output_type": "stream",
     "text": [
      "B.__new__ is called.\n",
      "Sample.__str__ is called.\n",
      "SAMPLE\n",
      "---\n",
      "Sample.__new__ is called\n",
      "Sample.__init__ is called.\n",
      "Sample.__str__ is called.\n",
      "SAMPLE\n",
      "===\n",
      "B.__new__ is called.\n"
     ]
    },
    {
     "data": {
      "text/plain": [
       "<__main__.Sample at 0x7f1fb845bf50>"
      ]
     },
     "execution_count": 75,
     "metadata": {},
     "output_type": "execute_result"
    }
   ],
   "source": [
    "class Sample(object):\n",
    "    def __new__(cls):\n",
    "        print 'Sample.__new__ is called'\n",
    "        return super(Sample, cls).__new__(Sample)\n",
    "    \n",
    "    def __init__(self):\n",
    "        print 'Sample.__init__ is called.'\n",
    "    \n",
    "    def __str__(self):\n",
    "        print 'Sample.__str__ is called.'\n",
    "        return \"SAMPLE\"\n",
    "    \n",
    "class B(object):\n",
    "    def __new__(cls):\n",
    "        print 'B.__new__ is called.'\n",
    "        return super(B, cls).__new__(Sample)\n",
    "    \n",
    "print B()\n",
    "print '---'\n",
    "print Sample()\n",
    "print '==='\n",
    "B()"
   ]
  }
 ],
 "metadata": {
  "kernelspec": {
   "display_name": "Python 2",
   "language": "python",
   "name": "python2"
  },
  "language_info": {
   "codemirror_mode": {
    "name": "ipython",
    "version": 2
   },
   "file_extension": ".py",
   "mimetype": "text/x-python",
   "name": "python",
   "nbconvert_exporter": "python",
   "pygments_lexer": "ipython2",
   "version": "2.7.15rc1"
  }
 },
 "nbformat": 4,
 "nbformat_minor": 2
}
