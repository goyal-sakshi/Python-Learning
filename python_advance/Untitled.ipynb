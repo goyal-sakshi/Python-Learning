{
 "cells": [
  {
   "cell_type": "code",
   "execution_count": 1,
   "metadata": {},
   "outputs": [],
   "source": [
    "# library.py\n",
    "\n",
    "class Base(object):\n",
    "    \n",
    "    def foo(self):\n",
    "        return self.bar()"
   ]
  },
  {
   "cell_type": "code",
   "execution_count": 14,
   "metadata": {},
   "outputs": [],
   "source": [
    "# user.py\n",
    "\n",
    "#assert hasattr(Derived, 'bar'), \"No bar method\"\n",
    "\n",
    "class Derived(Base):\n",
    "    \n",
    "    def bar(self):\n",
    "        return 'bar'\n",
    "        "
   ]
  },
  {
   "cell_type": "code",
   "execution_count": 12,
   "metadata": {},
   "outputs": [],
   "source": [
    "#SOLUTION - \n",
    "\n",
    "# library.py\n",
    "import builtins\n",
    "class Base(object):\n",
    "    \n",
    "    def foo(self):\n",
    "        return self.bar()\n",
    "    \n",
    "old_bc = builtins.__build_class_\n",
    "def my_bc(*a, **kw):\n",
    "    print a, kw\n",
    "    return old_bc(*a, **kw)\n",
    "\n",
    "builtins.__build_class_ = my_bc"
   ]
  },
  {
   "cell_type": "code",
   "execution_count": 15,
   "metadata": {},
   "outputs": [
    {
     "ename": "SyntaxError",
     "evalue": "invalid syntax (<ipython-input-15-110abc95245e>, line 10)",
     "output_type": "error",
     "traceback": [
      "\u001b[0;36m  File \u001b[0;32m\"<ipython-input-15-110abc95245e>\"\u001b[0;36m, line \u001b[0;32m10\u001b[0m\n\u001b[0;31m    class Base(metaclass=BaseMeta, option=True):\u001b[0m\n\u001b[0m                        ^\u001b[0m\n\u001b[0;31mSyntaxError\u001b[0m\u001b[0;31m:\u001b[0m invalid syntax\n"
     ]
    }
   ],
   "source": [
    "class BaseMeta(type):\n",
    "    def __new__(cls, name, bases, attrs, **options):\n",
    "        # This is only necessary because type.__new__()\n",
    "        # doesn't know how to handle the extra arguments\n",
    "        return type.__new__(cls, name, bases, attrs)\n",
    "\n",
    "    def __init__(cls, name, bases, attrs, **options):\n",
    "        print(options)\n",
    "\n",
    "class Base(metaclass=BaseMeta, option=True):\n",
    "    pass"
   ]
  }
 ],
 "metadata": {
  "kernelspec": {
   "display_name": "Python 3",
   "language": "python",
   "name": "python3"
  },
  "language_info": {
   "codemirror_mode": {
    "name": "ipython",
    "version": 3
   },
   "file_extension": ".py",
   "mimetype": "text/x-python",
   "name": "python",
   "nbconvert_exporter": "python",
   "pygments_lexer": "ipython3",
   "version": "3.6.8"
  }
 },
 "nbformat": 4,
 "nbformat_minor": 2
}
