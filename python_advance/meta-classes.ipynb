{
 "cells": [
  {
   "cell_type": "code",
   "execution_count": 6,
   "metadata": {},
   "outputs": [],
   "source": [
    "# library.py\n",
    "\n",
    "class Base(object):\n",
    "    def food(self):\n",
    "        return 'foo'"
   ]
  },
  {
   "cell_type": "code",
   "execution_count": 5,
   "metadata": {},
   "outputs": [
    {
     "name": "stdout",
     "output_type": "stream",
     "text": [
      "foo\n"
     ]
    }
   ],
   "source": [
    "# user.py\n",
    "\n",
    "class Derived(Base):\n",
    "    \n",
    "    def bar(self):\n",
    "        print self.foo()\n",
    "    \n",
    "Derived().bar()"
   ]
  },
  {
   "cell_type": "raw",
   "metadata": {},
   "source": [
    "QUES- I am on the user side, i cannot touch the library code. Now where could the code break? And solutions to it?"
   ]
  },
  {
   "cell_type": "raw",
   "metadata": {},
   "source": [
    "The code would break if there is no foo() method in the library code. \n",
    "And now we have to prevent the user code to break before it goes to deployment.\n",
    "\n",
    "There is nothing like compile in python. Its only the run time where everything happend."
   ]
  },
  {
   "cell_type": "code",
   "execution_count": 9,
   "metadata": {},
   "outputs": [
    {
     "ename": "AssertionError",
     "evalue": "Oopsy no foo() method in Base",
     "output_type": "error",
     "traceback": [
      "\u001b[0;31m---------------------------------------------------------------------------\u001b[0m",
      "\u001b[0;31mAssertionError\u001b[0m                            Traceback (most recent call last)",
      "\u001b[0;32m<ipython-input-9-f62f5f485169>\u001b[0m in \u001b[0;36m<module>\u001b[0;34m()\u001b[0m\n\u001b[1;32m      3\u001b[0m \u001b[0;31m# user.py\u001b[0m\u001b[0;34m\u001b[0m\u001b[0;34m\u001b[0m\u001b[0m\n\u001b[1;32m      4\u001b[0m \u001b[0;34m\u001b[0m\u001b[0m\n\u001b[0;32m----> 5\u001b[0;31m \u001b[0;32massert\u001b[0m \u001b[0mhasattr\u001b[0m\u001b[0;34m(\u001b[0m\u001b[0mBase\u001b[0m\u001b[0;34m,\u001b[0m \u001b[0;34m'foo'\u001b[0m\u001b[0;34m)\u001b[0m\u001b[0;34m,\u001b[0m \u001b[0;34m\"Oopsy no foo() method in Base\"\u001b[0m\u001b[0;34m\u001b[0m\u001b[0m\n\u001b[0m\u001b[1;32m      6\u001b[0m \u001b[0;34m\u001b[0m\u001b[0m\n\u001b[1;32m      7\u001b[0m \u001b[0;32mclass\u001b[0m \u001b[0mDerived\u001b[0m\u001b[0;34m(\u001b[0m\u001b[0mBase\u001b[0m\u001b[0;34m)\u001b[0m\u001b[0;34m:\u001b[0m\u001b[0;34m\u001b[0m\u001b[0m\n",
      "\u001b[0;31mAssertionError\u001b[0m: Oopsy no foo() method in Base"
     ]
    }
   ],
   "source": [
    "# SOLUTION 2) using assert hasattr\n",
    "\n",
    "# user.py\n",
    "\n",
    "assert hasattr(Base, 'foo'), \"Oopsy no foo() method in Base\"\n",
    "\n",
    "class Derived(Base):\n",
    "    \n",
    "    def bar(self):\n",
    "        print self.foo()"
   ]
  },
  {
   "cell_type": "code",
   "execution_count": 7,
   "metadata": {},
   "outputs": [
    {
     "ename": "AttributeError",
     "evalue": "'Derived' object has no attribute 'foo'",
     "output_type": "error",
     "traceback": [
      "\u001b[0;31m---------------------------------------------------------------------------\u001b[0m",
      "\u001b[0;31mAttributeError\u001b[0m                            Traceback (most recent call last)",
      "\u001b[0;32m<ipython-input-7-c7c2e48f7f23>\u001b[0m in \u001b[0;36m<module>\u001b[0;34m()\u001b[0m\n\u001b[1;32m     11\u001b[0m         \u001b[0;32mprint\u001b[0m \u001b[0mself\u001b[0m\u001b[0;34m.\u001b[0m\u001b[0mfoo\u001b[0m\u001b[0;34m(\u001b[0m\u001b[0;34m)\u001b[0m\u001b[0;34m\u001b[0m\u001b[0m\n\u001b[1;32m     12\u001b[0m \u001b[0;34m\u001b[0m\u001b[0m\n\u001b[0;32m---> 13\u001b[0;31m \u001b[0mDerived\u001b[0m\u001b[0;34m(\u001b[0m\u001b[0;34m)\u001b[0m\u001b[0;34m.\u001b[0m\u001b[0mcheck_foo\u001b[0m\u001b[0;34m(\u001b[0m\u001b[0;34m)\u001b[0m\u001b[0;34m\u001b[0m\u001b[0m\n\u001b[0m\u001b[1;32m     14\u001b[0m \u001b[0mDerived\u001b[0m\u001b[0;34m(\u001b[0m\u001b[0;34m)\u001b[0m\u001b[0;34m.\u001b[0m\u001b[0mbar\u001b[0m\u001b[0;34m(\u001b[0m\u001b[0;34m)\u001b[0m\u001b[0;34m\u001b[0m\u001b[0m\n",
      "\u001b[0;32m<ipython-input-7-c7c2e48f7f23>\u001b[0m in \u001b[0;36mcheck_foo\u001b[0;34m(self)\u001b[0m\n\u001b[1;32m      6\u001b[0m \u001b[0;34m\u001b[0m\u001b[0m\n\u001b[1;32m      7\u001b[0m     \u001b[0;32mdef\u001b[0m \u001b[0mcheck_foo\u001b[0m\u001b[0;34m(\u001b[0m\u001b[0mself\u001b[0m\u001b[0;34m)\u001b[0m\u001b[0;34m:\u001b[0m\u001b[0;34m\u001b[0m\u001b[0m\n\u001b[0;32m----> 8\u001b[0;31m         \u001b[0mself\u001b[0m\u001b[0;34m.\u001b[0m\u001b[0mfoo\u001b[0m\u001b[0;34m(\u001b[0m\u001b[0;34m)\u001b[0m\u001b[0;34m\u001b[0m\u001b[0m\n\u001b[0m\u001b[1;32m      9\u001b[0m \u001b[0;34m\u001b[0m\u001b[0m\n\u001b[1;32m     10\u001b[0m     \u001b[0;32mdef\u001b[0m \u001b[0mbar\u001b[0m\u001b[0;34m(\u001b[0m\u001b[0mself\u001b[0m\u001b[0;34m)\u001b[0m\u001b[0;34m:\u001b[0m\u001b[0;34m\u001b[0m\u001b[0m\n",
      "\u001b[0;31mAttributeError\u001b[0m: 'Derived' object has no attribute 'foo'"
     ]
    }
   ],
   "source": [
    "# SOLUTION 1) creating a method to first check if the method exists\n",
    "\n",
    "# user.py\n",
    "\n",
    "class Derived(Base):\n",
    "    \n",
    "    def check_foo(self):\n",
    "        self.foo()\n",
    "\n",
    "    def bar(self):\n",
    "        print self.foo()\n",
    "    \n",
    "Derived().check_foo()\n",
    "Derived().bar()"
   ]
  },
  {
   "cell_type": "code",
   "execution_count": 10,
   "metadata": {},
   "outputs": [
    {
     "name": "stdout",
     "output_type": "stream",
     "text": [
      "  3           0 LOAD_CONST               1 ('Base')\n",
      "              3 LOAD_CONST               3 (())\n",
      "              6 LOAD_CONST               2 (<code object Base at 0x7f3bf4e69430, file \"<ipython-input-10-704c1c8bae67>\", line 3>)\n",
      "              9 MAKE_FUNCTION            0\n",
      "             12 CALL_FUNCTION            0\n",
      "             15 BUILD_CLASS         \n",
      "             16 STORE_FAST               0 (Base)\n",
      "             19 LOAD_CONST               0 (None)\n",
      "             22 RETURN_VALUE        \n"
     ]
    }
   ],
   "source": [
    "from dis import dis # dis assemble\n",
    "def fun():\n",
    "    class Base():\n",
    "        pass\n",
    "dis(fun)"
   ]
  },
  {
   "cell_type": "raw",
   "metadata": {},
   "source": [
    "QUES- I am on the library side, i cannot touch the user code. How will we make sure the user writing the user code\n",
    "      does not screwup."
   ]
  },
  {
   "cell_type": "raw",
   "metadata": {},
   "source": [
    "We want that the user has to implement the bar method."
   ]
  },
  {
   "cell_type": "code",
   "execution_count": 24,
   "metadata": {},
   "outputs": [],
   "source": [
    "# library.py\n",
    "\n",
    "class Base(object):\n",
    "    \n",
    "    def foo(self):\n",
    "        return self.bar()\n"
   ]
  },
  {
   "cell_type": "code",
   "execution_count": 30,
   "metadata": {},
   "outputs": [
    {
     "name": "stdout",
     "output_type": "stream",
     "text": [
      "<__main__.Derived instance at 0x7f5e9c1a5098>\n"
     ]
    }
   ],
   "source": [
    "# user.py\n",
    "\n",
    "#assert hasattr(Derived, 'bar'), \"No bar method\"\n",
    "\n",
    "class Derived(Base):\n",
    "    \n",
    "    def bar(self):\n",
    "        return 'bar'\n",
    "\n",
    "print Derived()"
   ]
  },
  {
   "cell_type": "code",
   "execution_count": 26,
   "metadata": {},
   "outputs": [],
   "source": [
    "class Base():\n",
    "    \n",
    "    def foo(self):\n",
    "        return self.bar()\n",
    "    \n",
    "    def __init_subclass__(self, *a, **kw):\n",
    "        print '__init_subclass__', a, kw\n",
    "        return super().__init_subclass__(*a, **kw)"
   ]
  },
  {
   "cell_type": "code",
   "execution_count": 19,
   "metadata": {},
   "outputs": [
    {
     "ename": "SyntaxError",
     "evalue": "invalid syntax (<ipython-input-19-a4d15fce0505>, line 12)",
     "output_type": "error",
     "traceback": [
      "\u001b[0;36m  File \u001b[0;32m\"<ipython-input-19-a4d15fce0505>\"\u001b[0;36m, line \u001b[0;32m12\u001b[0m\n\u001b[0;31m    class Base(metaclass=BaseMeta, option=True):\u001b[0m\n\u001b[0m                        ^\u001b[0m\n\u001b[0;31mSyntaxError\u001b[0m\u001b[0;31m:\u001b[0m invalid syntax\n"
     ]
    }
   ],
   "source": [
    "# SOLUTION 2\n",
    "\n",
    "# library.py\n",
    "\n",
    "class BaseMeta(type):\n",
    "    def __new__(cls, name, bases, body):\n",
    "        print 'BaseMeta.__new__', name, bases, body\n",
    "        if not 'bar' in body:\n",
    "            raise TypeError('Bad user class')\n",
    "        return super(BaseMeta, cls).__new__(cls, name, bases, body)\n",
    "\n",
    "class Base(metaclass=BaseMeta, option=True):\n",
    "    \n",
    "    def foo(self):\n",
    "        return self.bar()"
   ]
  },
  {
   "cell_type": "code",
   "execution_count": 20,
   "metadata": {},
   "outputs": [
    {
     "ename": "SyntaxError",
     "evalue": "invalid syntax (<ipython-input-20-110abc95245e>, line 10)",
     "output_type": "error",
     "traceback": [
      "\u001b[0;36m  File \u001b[0;32m\"<ipython-input-20-110abc95245e>\"\u001b[0;36m, line \u001b[0;32m10\u001b[0m\n\u001b[0;31m    class Base(metaclass=BaseMeta, option=True):\u001b[0m\n\u001b[0m                        ^\u001b[0m\n\u001b[0;31mSyntaxError\u001b[0m\u001b[0;31m:\u001b[0m invalid syntax\n"
     ]
    }
   ],
   "source": [
    "class BaseMeta(type):\n",
    "    def __new__(cls, name, bases, attrs, **options):\n",
    "        # This is only necessary because type.__new__()\n",
    "        # doesn't know how to handle the extra arguments\n",
    "        return type.__new__(cls, name, bases, attrs)\n",
    "\n",
    "    def __init__(cls, name, bases, attrs, **options):\n",
    "        print(options)\n",
    "\n",
    "class Base(metaclass=BaseMeta, option=True):\n",
    "    pass"
   ]
  },
  {
   "cell_type": "code",
   "execution_count": 13,
   "metadata": {},
   "outputs": [
    {
     "ename": "AttributeError",
     "evalue": "'module' object has no attribute '__build_class__'",
     "output_type": "error",
     "traceback": [
      "\u001b[0;31m---------------------------------------------------------------------------\u001b[0m",
      "\u001b[0;31mAttributeError\u001b[0m                            Traceback (most recent call last)",
      "\u001b[0;32m<ipython-input-13-4ff8bb207143>\u001b[0m in \u001b[0;36m<module>\u001b[0;34m()\u001b[0m\n\u001b[1;32m      8\u001b[0m         \u001b[0;32mreturn\u001b[0m \u001b[0mself\u001b[0m\u001b[0;34m.\u001b[0m\u001b[0mbar\u001b[0m\u001b[0;34m(\u001b[0m\u001b[0;34m)\u001b[0m\u001b[0;34m\u001b[0m\u001b[0m\n\u001b[1;32m      9\u001b[0m \u001b[0;34m\u001b[0m\u001b[0m\n\u001b[0;32m---> 10\u001b[0;31m \u001b[0mold_bc\u001b[0m \u001b[0;34m=\u001b[0m \u001b[0mbuiltins\u001b[0m\u001b[0;34m.\u001b[0m\u001b[0m__build_class__\u001b[0m\u001b[0;34m\u001b[0m\u001b[0m\n\u001b[0m\u001b[1;32m     11\u001b[0m \u001b[0;32mdef\u001b[0m \u001b[0mmy_bc\u001b[0m\u001b[0;34m(\u001b[0m\u001b[0;34m*\u001b[0m\u001b[0ma\u001b[0m\u001b[0;34m,\u001b[0m \u001b[0;34m**\u001b[0m\u001b[0mkw\u001b[0m\u001b[0;34m)\u001b[0m\u001b[0;34m:\u001b[0m\u001b[0;34m\u001b[0m\u001b[0m\n\u001b[1;32m     12\u001b[0m     \u001b[0;32mprint\u001b[0m \u001b[0ma\u001b[0m\u001b[0;34m,\u001b[0m \u001b[0mkw\u001b[0m\u001b[0;34m\u001b[0m\u001b[0m\n",
      "\u001b[0;31mAttributeError\u001b[0m: 'module' object has no attribute '__build_class__'"
     ]
    }
   ],
   "source": [
    "#SOLUTION 1- \n",
    "\n",
    "# library.py\n",
    "import builtins\n",
    "class Base(object):\n",
    "    \n",
    "    def foo(self):\n",
    "        return self.bar()\n",
    "    \n",
    "old_bc = builtins.__build_class__\n",
    "def my_bc(*a, **kw):\n",
    "    print a, kw\n",
    "    return old_bc(*a, **kw)\n",
    "\n",
    "builtins.__build_class__ = my_bc"
   ]
  }
 ],
 "metadata": {
  "kernelspec": {
   "display_name": "Python 2",
   "language": "python",
   "name": "python2"
  },
  "language_info": {
   "codemirror_mode": {
    "name": "ipython",
    "version": 2
   },
   "file_extension": ".py",
   "mimetype": "text/x-python",
   "name": "python",
   "nbconvert_exporter": "python",
   "pygments_lexer": "ipython2",
   "version": "2.7.15rc1"
  }
 },
 "nbformat": 4,
 "nbformat_minor": 2
}
