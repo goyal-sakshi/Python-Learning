{
 "cells": [
  {
   "cell_type": "markdown",
   "metadata": {},
   "source": [
    "*args (tuple) -> non keyword arguments (tuple contains all the non-keyword values passed)\n",
    "\n",
    "**kwargs(dict) -> keyword arguments (dict contains all the values passed with keyoword)"
   ]
  },
  {
   "cell_type": "code",
   "execution_count": 2,
   "metadata": {},
   "outputs": [
    {
     "name": "stdout",
     "output_type": "stream",
     "text": [
      "Sum: 6\n",
      "Sum: 150\n",
      "Sum: 66\n"
     ]
    }
   ],
   "source": [
    "def sum(*args, **kwargs):\n",
    "    out = 0\n",
    "    for n in args:\n",
    "        out = out + n\n",
    "    return 'Sum: ' + str(out)\n",
    "    \n",
    "print sum(1,2,3)\n",
    "print sum(10,20,30,40,50)\n",
    "print sum(11,22,33)"
   ]
  },
  {
   "cell_type": "code",
   "execution_count": 7,
   "metadata": {},
   "outputs": [
    {
     "name": "stdout",
     "output_type": "stream",
     "text": [
      "(1,) {'lastname': 'goyal', 'firstname': 'sakshi'}\n"
     ]
    }
   ],
   "source": [
    "def info(*args, **kwargs):\n",
    "    print args, kwargs\n",
    "    \n",
    "info(1, firstname='sakshi', lastname='goyal')"
   ]
  }
 ],
 "metadata": {
  "kernelspec": {
   "display_name": "Python 2",
   "language": "python",
   "name": "python2"
  },
  "language_info": {
   "codemirror_mode": {
    "name": "ipython",
    "version": 2
   },
   "file_extension": ".py",
   "mimetype": "text/x-python",
   "name": "python",
   "nbconvert_exporter": "python",
   "pygments_lexer": "ipython2",
   "version": "2.7.15rc1"
  }
 },
 "nbformat": 4,
 "nbformat_minor": 2
}
