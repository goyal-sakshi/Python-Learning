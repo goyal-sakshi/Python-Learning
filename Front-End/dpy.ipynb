{
 "cells": [
  {
   "cell_type": "code",
   "execution_count": null,
   "metadata": {},
   "outputs": [],
   "source": [
    "from dpyMaster import IN, Inject, Injectable, Scope\n",
    "\n",
    "class my_class():\n",
    "    def __init__(where=IN):\n",
    "        self.where = where\n",
    "\n",
    "    @Inject\n",
    "    def fun():\n",
    "        print 'Hello ' + where\n",
    "    \n",
    "#Scope\n",
    "#def testScope(reqest)\n",
    "    \n",
    "Injectable.value(where='here')\n",
    "my_class(where='here').fun()"
   ]
  },
  {
   "cell_type": "code",
   "execution_count": null,
   "metadata": {},
   "outputs": [],
   "source": [
    "@Inject\n",
    "def newInject(where=IN):\n",
    "    print where\n",
    "newInject()"
   ]
  }
 ],
 "metadata": {
  "kernelspec": {
   "display_name": "Python 2",
   "language": "python",
   "name": "python2"
  },
  "language_info": {
   "codemirror_mode": {
    "name": "ipython",
    "version": 2
   },
   "file_extension": ".py",
   "mimetype": "text/x-python",
   "name": "python",
   "nbconvert_exporter": "python",
   "pygments_lexer": "ipython2",
   "version": "2.7.15"
  }
 },
 "nbformat": 4,
 "nbformat_minor": 2
}
