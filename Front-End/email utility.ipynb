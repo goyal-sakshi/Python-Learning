{
 "cells": [
  {
   "cell_type": "code",
   "execution_count": null,
   "metadata": {},
   "outputs": [],
   "source": [
    "from email.MIMEMultipart import MIMEMultipart\n",
    "from email.MIMEText import MIMEText\n",
    "import smtplib\n",
    "\n",
    "msgRoot = MIMEMultipart('realted')\n",
    "msgRoot['Subject'] = 'abc'\n",
    "msgRoot['From'] = 'sakshig.1032@gmail.com'\n",
    "msgRoot['To'] = 'sakshigoyal.1032@gmail.com'\n",
    "\n",
    "msgpart = MIMEText('text', 'html')\n",
    "msgRoot.attach(msgpart)\n",
    "smtp = smtplib.SMTP('mail')\n",
    "smtp.sendmail('sakshig.1032@gmail.com', 'sakshigoyal.1032@gmail.com', msgRoot.as_string())\n",
    "smtp.quit()"
   ]
  },
  {
   "cell_type": "code",
   "execution_count": null,
   "metadata": {},
   "outputs": [],
   "source": [
    "\n",
    "# Get each user detail and send the email:\n",
    "for name, email in zip(names, emails):\n",
    "    multipart_msg = MIMEMultipart()       # create a message\n",
    "\n",
    "    # substitute user name with template String\n",
    "    message = message_template.substitute(USER_NAME=name.title())\n",
    "\n",
    "    # message parameter definition\n",
    "    multipart_msg['From']='sakshig.1032@gmail.com'\n",
    "    multipart_msg['To']='sakshigoyal.1032@gmail.com'\n",
    "    multipart_msg['Subject']=\"JournalDev Subject\"\n",
    "        \n",
    "    # add in the message body\n",
    "    multipart_msg.attach(MIMEText(message, 'plain'))\n",
    "    \n",
    "    # send the message via the server\n",
    "    smtp_server.send_message(multipart_msg)\n",
    "    del multipart_msg\n",
    "    \n",
    "# Terminate the SMTP session and close the connection\n",
    "smtp_server.quit()\n",
    "    \n",
    "if __name__ == '__main__':\n",
    "    main()"
   ]
  }
 ],
 "metadata": {
  "kernelspec": {
   "display_name": "Python 2",
   "language": "python",
   "name": "python2"
  },
  "language_info": {
   "codemirror_mode": {
    "name": "ipython",
    "version": 2
   },
   "file_extension": ".py",
   "mimetype": "text/x-python",
   "name": "python",
   "nbconvert_exporter": "python",
   "pygments_lexer": "ipython2",
   "version": "2.7.15"
  }
 },
 "nbformat": 4,
 "nbformat_minor": 2
}
