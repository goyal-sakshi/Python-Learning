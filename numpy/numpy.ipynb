{
 "cells": [
  {
   "cell_type": "code",
   "execution_count": 21,
   "metadata": {},
   "outputs": [
    {
     "name": "stdout",
     "output_type": "stream",
     "text": [
      "Python list of 1000 elements use memory of 24000\n",
      "Numpy array of 1000 elements use memory of 8000 \n",
      "\n"
     ]
    }
   ],
   "source": [
    "import numpy as np\n",
    "import time\n",
    "import sys\n",
    "\n",
    "#### uses less memory\n",
    "\n",
    "# without numpy\n",
    "ll = range(1000)\n",
    "print 'Python list of 1000 elements use memory of', sys.getsizeof(ll[0]) * len(ll)\n",
    "\n",
    "# numpy\n",
    "array = np.arange(1000)\n",
    "print 'Numpy array of 1000 elements use memory of', array.size * array.itemsize, '\\n'"
   ]
  },
  {
   "cell_type": "code",
   "execution_count": 22,
   "metadata": {},
   "outputs": [
    {
     "name": "stdout",
     "output_type": "stream",
     "text": [
      "Python list took:  9.54866409302\n",
      "Numpy took:  3.03983688354 \n",
      "\n"
     ]
    }
   ],
   "source": [
    "#### fast\n",
    "\n",
    "SIZE = 1000\n",
    "\n",
    "l1 = range(SIZE)\n",
    "l2 = range(SIZE)\n",
    "\n",
    "a1 = np.arange(SIZE)\n",
    "a2 = np.arange(SIZE)\n",
    "\n",
    "start = time.time()\n",
    "result = [(x+y) for x,y in zip(l1, l2)]\n",
    "print 'Python list took: ', (time.time() - start)*10000      # 1M\n",
    "\n",
    "start = time.time()\n",
    "result = a1 + a2\n",
    "print 'Numpy took: ', (time.time() - start)*10000,'\\n'"
   ]
  },
  {
   "cell_type": "code",
   "execution_count": 23,
   "metadata": {},
   "outputs": [
    {
     "name": "stdout",
     "output_type": "stream",
     "text": [
      "1\n",
      "2\n",
      "Each item size:  8\n",
      "datatype of each element:  int64 \n",
      "\n"
     ]
    }
   ],
   "source": [
    "## basic array operations\n",
    "arr1 = np.array([1,2,4,5,6])\n",
    "print arr1.ndim     # dimension\n",
    "\n",
    "arr2 = np.array([[1,2],[3,4],[6,5]])\n",
    "print arr2.ndim\n",
    "\n",
    "print 'Each item size: ', arr2.itemsize\n",
    "print 'datatype of each element: ', arr2.dtype,'\\n'"
   ]
  },
  {
   "cell_type": "code",
   "execution_count": 25,
   "metadata": {},
   "outputs": [
    {
     "name": "stdout",
     "output_type": "stream",
     "text": [
      "[[1. 2.]\n",
      " [3. 4.]\n",
      " [5. 6.]]\n",
      "6\n",
      "(3, 2)\n"
     ]
    }
   ],
   "source": [
    "arr3 = np.array([[1,2], [3,4], [5,6]], dtype=np.float64)\n",
    "print arr3\n",
    "\n",
    "print arr3.size     # number of elements\n",
    "print arr3.shape        # matrix size"
   ]
  },
  {
   "cell_type": "code",
   "execution_count": 27,
   "metadata": {},
   "outputs": [
    {
     "name": "stdout",
     "output_type": "stream",
     "text": [
      "[1 3 5 7 9] \n",
      "\n",
      "[[1. 2. 3.]\n",
      " [4. 5. 6.]] \n",
      "\n",
      "[1. 2. 3. 4. 5. 6.]\n"
     ]
    }
   ],
   "source": [
    "arr4 = np.arange(1,10,2)\n",
    "print arr4,'\\n'\n",
    "\n",
    "arr5 = arr3.reshape(2,3)        # reshape the matrix\n",
    "print arr5,'\\n'\n",
    "\n",
    "arr6 = arr5.ravel()             # flaten the matrix\n",
    "print arr6"
   ]
  },
  {
   "cell_type": "code",
   "execution_count": 31,
   "metadata": {},
   "outputs": [
    {
     "name": "stdout",
     "output_type": "stream",
     "text": [
      "max:  6.0\n",
      "min: 1.0\n",
      "sum of columns [ 9. 12.]\n",
      "sum of rows [ 3.  7. 11.]\n",
      "2.0\n",
      "[2. 5.]\n",
      "[4. 5.] \n",
      "\n",
      "[[1. 2.]\n",
      " [4. 5.]] \n",
      "\n"
     ]
    }
   ],
   "source": [
    "print 'max: ',arr3.max()\n",
    "print 'min:',arr3.min()\n",
    "print 'sum of columns', arr3.sum(axis=0)      # sum of columns\n",
    "print 'sum of rows', arr3.sum(axis=1)      # sum of rows\n",
    "\n",
    "print arr5[0,1]        # row, column\n",
    "print arr5[0:2, 1]      # 1st index element of 0,1 rows\n",
    "\n",
    "print arr5[-1, 0:2],'\\n'      # last row\n",
    "print arr5[:,0:2], '\\n'"
   ]
  },
  {
   "cell_type": "code",
   "execution_count": 33,
   "metadata": {},
   "outputs": [
    {
     "name": "stdout",
     "output_type": "stream",
     "text": [
      "[[0 1]\n",
      " [2 3]\n",
      " [4 5]] \n",
      "\n",
      "[[0 1]\n",
      " [2 3]\n",
      " [4 5]] \n",
      "\n",
      "[[0 1]\n",
      " [2 3]\n",
      " [4 5]\n",
      " [0 1]\n",
      " [2 3]\n",
      " [4 5]]\n"
     ]
    }
   ],
   "source": [
    "a1 = np.arange(6).reshape(3,2)\n",
    "b1 = np.arange(6).reshape(3,2)\n",
    "print a1,'\\n'\n",
    "print b1,'\\n'\n",
    "\n",
    "c1 = np.vstack((a1,b1))\n",
    "# c1 = np.hstack((a1,b1))\n",
    "print c1"
   ]
  }
 ],
 "metadata": {
  "kernelspec": {
   "display_name": "Python 2",
   "language": "python",
   "name": "python2"
  },
  "language_info": {
   "codemirror_mode": {
    "name": "ipython",
    "version": 2
   },
   "file_extension": ".py",
   "mimetype": "text/x-python",
   "name": "python",
   "nbconvert_exporter": "python",
   "pygments_lexer": "ipython2",
   "version": "2.7.15"
  }
 },
 "nbformat": 4,
 "nbformat_minor": 2
}
