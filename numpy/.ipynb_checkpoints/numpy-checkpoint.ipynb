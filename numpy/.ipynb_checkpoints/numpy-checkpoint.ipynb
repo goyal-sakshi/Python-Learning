{
 "cells": [
  {
   "cell_type": "code",
   "execution_count": 2,
   "metadata": {},
   "outputs": [
    {
     "name": "stdout",
     "output_type": "stream",
     "text": [
      " Python list of 1000 elements use memory of 24000\n",
      "Numpy array of 1000 elements use memory of 8000 \n",
      "\n"
     ]
    }
   ],
   "source": [
    "import numpy as np\n",
    "import time\n",
    "import sys\n",
    "\n",
    "#### uses less memory\n",
    "\n",
    "# without numpy\n",
    "ll = range(1000)\n",
    "print 'Python list of 1000 elements use memory of', sys.getsizeof(ll[0]) * len(ll)\n",
    "\n",
    "# numpy\n",
    "array = np.arange(1000)\n",
    "print 'Numpy array of 1000 elements use memory of', array.size * array.itemsize, '\\n'"
   ]
  },
  {
   "cell_type": "code",
   "execution_count": 3,
   "metadata": {},
   "outputs": [
    {
     "name": "stdout",
     "output_type": "stream",
     "text": [
      "Python list took:  21.2407112122\n",
      "Numpy took:  9.64879989624 \n",
      "\n"
     ]
    }
   ],
   "source": [
    "#### fast\n",
    "\n",
    "SIZE = 1000\n",
    "\n",
    "l1 = range(SIZE)\n",
    "l2 = range(SIZE)\n",
    "\n",
    "a1 = np.arange(SIZE)\n",
    "a2 = np.arange(SIZE)\n",
    "\n",
    "start = time.time()\n",
    "result = [(x+y) for x,y in zip(l1, l2)]\n",
    "print 'Python list took: ', (time.time() - start)*10000      # 1M\n",
    "\n",
    "start = time.time()\n",
    "result = a1 + a2\n",
    "print 'Numpy took: ', (time.time() - start)*10000,'\\n'"
   ]
  },
  {
   "cell_type": "code",
   "execution_count": 4,
   "metadata": {},
   "outputs": [
    {
     "name": "stdout",
     "output_type": "stream",
     "text": [
      "1\n",
      "2\n",
      "Each item size:  8\n",
      "datatype of each element:  int64 \n",
      "\n"
     ]
    }
   ],
   "source": [
    "## basic array operations\n",
    "arr1 = np.array([1,2,4,5,6])\n",
    "print arr1.ndim     # dimension\n",
    "\n",
    "arr2 = np.array([[1,2],[3,4],[6,5]])\n",
    "print arr2.ndim\n",
    "\n",
    "print 'Each item size: ', arr2.itemsize\n",
    "print 'datatype of each element: ', arr2.dtype,'\\n'"
   ]
  },
  {
   "cell_type": "code",
   "execution_count": 5,
   "metadata": {},
   "outputs": [
    {
     "name": "stdout",
     "output_type": "stream",
     "text": [
      "[[1. 2.]\n",
      " [3. 4.]\n",
      " [5. 6.]]\n",
      "6\n",
      "(3, 2)\n"
     ]
    }
   ],
   "source": [
    "arr3 = np.array([[1,2], [3,4], [5,6]], dtype=np.float64)\n",
    "print arr3\n",
    "\n",
    "print arr3.size     # number of elements\n",
    "print arr3.shape        # matrix size"
   ]
  },
  {
   "cell_type": "code",
   "execution_count": 6,
   "metadata": {},
   "outputs": [
    {
     "name": "stdout",
     "output_type": "stream",
     "text": [
      "[1 3 5 7 9] \n",
      "\n",
      "[[1. 2. 3.]\n",
      " [4. 5. 6.]] \n",
      "\n",
      "[1. 2. 3. 4. 5. 6.]\n"
     ]
    }
   ],
   "source": [
    "arr4 = np.arange(1,10,2)\n",
    "print arr4,'\\n'\n",
    "\n",
    "arr5 = arr3.reshape(2,3)        # reshape the matrix\n",
    "print arr5,'\\n'\n",
    "\n",
    "arr6 = arr5.ravel()             # flaten the matrix\n",
    "print arr6"
   ]
  },
  {
   "cell_type": "code",
   "execution_count": 7,
   "metadata": {},
   "outputs": [
    {
     "name": "stdout",
     "output_type": "stream",
     "text": [
      "max:  6.0\n",
      "min: 1.0\n",
      "sum of columns [ 9. 12.]\n",
      "sum of rows [ 3.  7. 11.]\n",
      "2.0 \n",
      "\n",
      "[2. 5.] \n",
      "\n",
      "[4. 5.] \n",
      "\n",
      "[[1. 2.]\n",
      " [4. 5.]] \n",
      "\n"
     ]
    }
   ],
   "source": [
    "print 'max: ',arr3.max()\n",
    "print 'min:',arr3.min()\n",
    "print 'sum of columns', arr3.sum(axis=0)      # sum of columns\n",
    "print 'sum of rows', arr3.sum(axis=1)      # sum of rows\n",
    "\n",
    "print arr5[0,1],'\\n'       # row, column\n",
    "print arr5[0:2, 1],'\\n'    # 1st index element of 0,1 rows\n",
    "\n",
    "print arr5[-1, 0:2],'\\n'      # last row\n",
    "print arr5[:,0:2], '\\n'"
   ]
  },
  {
   "cell_type": "code",
   "execution_count": 9,
   "metadata": {},
   "outputs": [
    {
     "name": "stdout",
     "output_type": "stream",
     "text": [
      "[[0 1]\n",
      " [2 3]\n",
      " [4 5]] \n",
      "\n",
      "[[0 1]\n",
      " [2 3]\n",
      " [4 5]] \n",
      "\n",
      "[[0 1]\n",
      " [2 3]\n",
      " [4 5]\n",
      " [0 1]\n",
      " [2 3]\n",
      " [4 5]]\n"
     ]
    }
   ],
   "source": [
    "a1 = np.arange(6).reshape(3,2)\n",
    "b1 = np.arange(6).reshape(3,2)\n",
    "print a1,'\\n'\n",
    "print b1,'\\n'\n",
    "\n",
    "c1 = np.vstack((a1,b1))\n",
    "# c1 = np.hstack((a1,b1))\n",
    "print c1"
   ]
  },
  {
   "cell_type": "code",
   "execution_count": 34,
   "metadata": {},
   "outputs": [
    {
     "data": {
      "text/plain": [
       "array([[ 0,  1,  2,  3,  4,  5,  6,  7,  8,  9, 10, 11, 12, 13, 14],\n",
       "       [15, 16, 17, 18, 19, 20, 21, 22, 23, 24, 25, 26, 27, 28, 29]])"
      ]
     },
     "execution_count": 34,
     "metadata": {},
     "output_type": "execute_result"
    }
   ],
   "source": [
    "d1 = np.arange(30).reshape(2,15)\n",
    "d1"
   ]
  },
  {
   "cell_type": "code",
   "execution_count": 49,
   "metadata": {},
   "outputs": [
    {
     "name": "stdout",
     "output_type": "stream",
     "text": [
      "[[ 0  1  2  3  4]\n",
      " [15 16 17 18 19]]\n",
      "[[ 5  6  7  8  9]\n",
      " [20 21 22 23 24]]\n",
      "[[10 11 12 13 14]\n",
      " [25 26 27 28 29]]\n"
     ]
    }
   ],
   "source": [
    "e1 = np.hsplit(d1,3)\n",
    "print e1[0]\n",
    "print e1[1]\n",
    "print e1[2]"
   ]
  },
  {
   "cell_type": "code",
   "execution_count": 37,
   "metadata": {},
   "outputs": [
    {
     "data": {
      "text/plain": [
       "[array([[ 0,  1,  2,  3,  4,  5,  6,  7,  8,  9, 10, 11, 12, 13, 14]]),\n",
       " array([[15, 16, 17, 18, 19, 20, 21, 22, 23, 24, 25, 26, 27, 28, 29]])]"
      ]
     },
     "execution_count": 37,
     "metadata": {},
     "output_type": "execute_result"
    }
   ],
   "source": [
    "f1 = np.vsplit(d1,2)\n",
    "f1"
   ]
  },
  {
   "cell_type": "code",
   "execution_count": 147,
   "metadata": {},
   "outputs": [
    {
     "data": {
      "text/plain": [
       "array([[ 0,  1,  2,  3],\n",
       "       [ 4,  5,  6,  7],\n",
       "       [ 8,  9, 10, 11]])"
      ]
     },
     "execution_count": 147,
     "metadata": {},
     "output_type": "execute_result"
    }
   ],
   "source": [
    "aa = np.arange(12).reshape(3,4)\n",
    "aa"
   ]
  },
  {
   "cell_type": "code",
   "execution_count": 148,
   "metadata": {},
   "outputs": [
    {
     "data": {
      "text/plain": [
       "array([[1],\n",
       "       [4],\n",
       "       [7]])"
      ]
     },
     "execution_count": 148,
     "metadata": {},
     "output_type": "execute_result"
    }
   ],
   "source": [
    "bb = np.arange(1,8,3).reshape(3,1)\n",
    "bb"
   ]
  },
  {
   "cell_type": "code",
   "execution_count": 149,
   "metadata": {},
   "outputs": [
    {
     "data": {
      "text/plain": [
       "array([[False],\n",
       "       [False],\n",
       "       [ True]])"
      ]
     },
     "execution_count": 149,
     "metadata": {},
     "output_type": "execute_result"
    }
   ],
   "source": [
    "cc = bb > 4\n",
    "cc"
   ]
  },
  {
   "cell_type": "code",
   "execution_count": 150,
   "metadata": {},
   "outputs": [
    {
     "data": {
      "text/plain": [
       "array([7])"
      ]
     },
     "execution_count": 150,
     "metadata": {},
     "output_type": "execute_result"
    }
   ],
   "source": [
    "bb[cc]     # values that have true "
   ]
  },
  {
   "cell_type": "code",
   "execution_count": 151,
   "metadata": {},
   "outputs": [
    {
     "data": {
      "text/plain": [
       "array([[ 1],\n",
       "       [ 4],\n",
       "       [-1]])"
      ]
     },
     "execution_count": 151,
     "metadata": {},
     "output_type": "execute_result"
    }
   ],
   "source": [
    "bb[cc] = -1\n",
    "bb"
   ]
  },
  {
   "cell_type": "code",
   "execution_count": 152,
   "metadata": {},
   "outputs": [
    {
     "data": {
      "text/plain": [
       "array([ 0,  1,  2,  3,  4,  5,  6,  7,  8,  9, 10, 11])"
      ]
     },
     "execution_count": 152,
     "metadata": {},
     "output_type": "execute_result"
    }
   ],
   "source": [
    "aa.flatten()"
   ]
  },
  {
   "cell_type": "code",
   "execution_count": 153,
   "metadata": {},
   "outputs": [
    {
     "name": "stdout",
     "output_type": "stream",
     "text": [
      "0\n",
      "1\n",
      "2\n",
      "3\n",
      "4\n",
      "5\n",
      "6\n",
      "7\n",
      "8\n",
      "9\n",
      "10\n",
      "11\n"
     ]
    }
   ],
   "source": [
    "for cell in aa.flatten():\n",
    "    print cell"
   ]
  },
  {
   "cell_type": "code",
   "execution_count": 154,
   "metadata": {},
   "outputs": [
    {
     "name": "stdout",
     "output_type": "stream",
     "text": [
      "[0 4 8]\n",
      "[1 5 9]\n",
      "[ 2  6 10]\n",
      "[ 3  7 11]\n"
     ]
    }
   ],
   "source": [
    "for x in np.nditer(aa, order='F', flags=['external_loop']):    # fortran order\n",
    "    print x"
   ]
  },
  {
   "cell_type": "code",
   "execution_count": 155,
   "metadata": {},
   "outputs": [
    {
     "data": {
      "text/plain": [
       "array([[  0,   1,   4,   9],\n",
       "       [ 16,  25,  36,  49],\n",
       "       [ 64,  81, 100, 121]])"
      ]
     },
     "execution_count": 155,
     "metadata": {},
     "output_type": "execute_result"
    }
   ],
   "source": [
    "for x in np.nditer(aa, op_flags=['readwrite']):\n",
    "    x[...] = x*x\n",
    "\n",
    "aa"
   ]
  },
  {
   "cell_type": "code",
   "execution_count": 159,
   "metadata": {},
   "outputs": [
    {
     "name": "stdout",
     "output_type": "stream",
     "text": [
      "[[  0   1   4   9]\n",
      " [ 16  25  36  49]\n",
      " [ 64  81 100 121]] \n",
      "\n",
      "[[ 1]\n",
      " [ 4]\n",
      " [-1]] \n",
      "\n",
      "(array(0), array(1))\n",
      "(array(1), array(1))\n",
      "(array(4), array(1))\n",
      "(array(9), array(1))\n",
      "(array(16), array(4))\n",
      "(array(25), array(4))\n",
      "(array(36), array(4))\n",
      "(array(49), array(4))\n",
      "(array(64), array(-1))\n",
      "(array(81), array(-1))\n",
      "(array(100), array(-1))\n",
      "(array(121), array(-1))\n"
     ]
    }
   ],
   "source": [
    "print aa,'\\n'\n",
    "print bb,'\\n'\n",
    "for x,y in np.nditer([aa,bb]):     # number of rows should be same to broadcast\n",
    "    print (x,y)"
   ]
  }
 ],
 "metadata": {
  "kernelspec": {
   "display_name": "Python 2",
   "language": "python",
   "name": "python2"
  },
  "language_info": {
   "codemirror_mode": {
    "name": "ipython",
    "version": 2
   },
   "file_extension": ".py",
   "mimetype": "text/x-python",
   "name": "python",
   "nbconvert_exporter": "python",
   "pygments_lexer": "ipython2",
   "version": "2.7.15"
  }
 },
 "nbformat": 4,
 "nbformat_minor": 2
}
