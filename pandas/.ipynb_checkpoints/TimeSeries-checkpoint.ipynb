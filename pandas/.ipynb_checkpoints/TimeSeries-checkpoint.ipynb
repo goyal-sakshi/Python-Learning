{
 "cells": [
  {
   "cell_type": "code",
   "execution_count": 2,
   "metadata": {},
   "outputs": [
    {
     "data": {
      "text/html": [
       "<div>\n",
       "<style scoped>\n",
       "    .dataframe tbody tr th:only-of-type {\n",
       "        vertical-align: middle;\n",
       "    }\n",
       "\n",
       "    .dataframe tbody tr th {\n",
       "        vertical-align: top;\n",
       "    }\n",
       "\n",
       "    .dataframe thead th {\n",
       "        text-align: right;\n",
       "    }\n",
       "</style>\n",
       "<table border=\"1\" class=\"dataframe\">\n",
       "  <thead>\n",
       "    <tr style=\"text-align: right;\">\n",
       "      <th></th>\n",
       "      <th>Open</th>\n",
       "      <th>High</th>\n",
       "      <th>Low</th>\n",
       "      <th>Close</th>\n",
       "      <th>Adj Close</th>\n",
       "      <th>Volume</th>\n",
       "    </tr>\n",
       "    <tr>\n",
       "      <th>Date</th>\n",
       "      <th></th>\n",
       "      <th></th>\n",
       "      <th></th>\n",
       "      <th></th>\n",
       "      <th></th>\n",
       "      <th></th>\n",
       "    </tr>\n",
       "  </thead>\n",
       "  <tbody>\n",
       "    <tr>\n",
       "      <th>2018-06-13</th>\n",
       "      <td>192.419998</td>\n",
       "      <td>192.880005</td>\n",
       "      <td>190.440002</td>\n",
       "      <td>190.699997</td>\n",
       "      <td>190.699997</td>\n",
       "      <td>21638400</td>\n",
       "    </tr>\n",
       "    <tr>\n",
       "      <th>2018-06-14</th>\n",
       "      <td>191.550003</td>\n",
       "      <td>191.570007</td>\n",
       "      <td>190.220001</td>\n",
       "      <td>190.800003</td>\n",
       "      <td>190.800003</td>\n",
       "      <td>21610100</td>\n",
       "    </tr>\n",
       "    <tr>\n",
       "      <th>2018-06-15</th>\n",
       "      <td>190.029999</td>\n",
       "      <td>190.160004</td>\n",
       "      <td>188.259995</td>\n",
       "      <td>188.839996</td>\n",
       "      <td>188.839996</td>\n",
       "      <td>61719200</td>\n",
       "    </tr>\n",
       "    <tr>\n",
       "      <th>2018-06-18</th>\n",
       "      <td>187.880005</td>\n",
       "      <td>189.220001</td>\n",
       "      <td>187.199997</td>\n",
       "      <td>188.740005</td>\n",
       "      <td>188.740005</td>\n",
       "      <td>18484900</td>\n",
       "    </tr>\n",
       "    <tr>\n",
       "      <th>2018-06-19</th>\n",
       "      <td>185.139999</td>\n",
       "      <td>186.330002</td>\n",
       "      <td>183.449997</td>\n",
       "      <td>185.690002</td>\n",
       "      <td>185.690002</td>\n",
       "      <td>33578500</td>\n",
       "    </tr>\n",
       "    <tr>\n",
       "      <th>2018-06-20</th>\n",
       "      <td>186.350006</td>\n",
       "      <td>187.199997</td>\n",
       "      <td>185.729996</td>\n",
       "      <td>186.500000</td>\n",
       "      <td>186.500000</td>\n",
       "      <td>20628700</td>\n",
       "    </tr>\n",
       "    <tr>\n",
       "      <th>2018-06-21</th>\n",
       "      <td>187.250000</td>\n",
       "      <td>188.350006</td>\n",
       "      <td>184.940002</td>\n",
       "      <td>185.460007</td>\n",
       "      <td>185.460007</td>\n",
       "      <td>25711900</td>\n",
       "    </tr>\n",
       "    <tr>\n",
       "      <th>2018-06-22</th>\n",
       "      <td>186.119995</td>\n",
       "      <td>186.149994</td>\n",
       "      <td>184.699997</td>\n",
       "      <td>184.919998</td>\n",
       "      <td>184.919998</td>\n",
       "      <td>27200400</td>\n",
       "    </tr>\n",
       "    <tr>\n",
       "      <th>2018-06-25</th>\n",
       "      <td>183.399994</td>\n",
       "      <td>184.919998</td>\n",
       "      <td>180.729996</td>\n",
       "      <td>182.169998</td>\n",
       "      <td>182.169998</td>\n",
       "      <td>31663100</td>\n",
       "    </tr>\n",
       "    <tr>\n",
       "      <th>2018-06-26</th>\n",
       "      <td>182.990005</td>\n",
       "      <td>186.529999</td>\n",
       "      <td>182.539993</td>\n",
       "      <td>184.429993</td>\n",
       "      <td>184.429993</td>\n",
       "      <td>24569200</td>\n",
       "    </tr>\n",
       "    <tr>\n",
       "      <th>2018-06-27</th>\n",
       "      <td>185.229996</td>\n",
       "      <td>187.279999</td>\n",
       "      <td>184.029999</td>\n",
       "      <td>184.160004</td>\n",
       "      <td>184.160004</td>\n",
       "      <td>25285300</td>\n",
       "    </tr>\n",
       "    <tr>\n",
       "      <th>2018-06-28</th>\n",
       "      <td>184.100006</td>\n",
       "      <td>186.210007</td>\n",
       "      <td>183.800003</td>\n",
       "      <td>185.500000</td>\n",
       "      <td>185.500000</td>\n",
       "      <td>17365200</td>\n",
       "    </tr>\n",
       "    <tr>\n",
       "      <th>2018-06-29</th>\n",
       "      <td>186.289993</td>\n",
       "      <td>187.190002</td>\n",
       "      <td>182.910004</td>\n",
       "      <td>185.110001</td>\n",
       "      <td>185.110001</td>\n",
       "      <td>22737700</td>\n",
       "    </tr>\n",
       "    <tr>\n",
       "      <th>2018-07-02</th>\n",
       "      <td>183.820007</td>\n",
       "      <td>187.300003</td>\n",
       "      <td>183.419998</td>\n",
       "      <td>187.179993</td>\n",
       "      <td>187.179993</td>\n",
       "      <td>17731300</td>\n",
       "    </tr>\n",
       "    <tr>\n",
       "      <th>2018-07-03</th>\n",
       "      <td>187.789993</td>\n",
       "      <td>187.949997</td>\n",
       "      <td>183.539993</td>\n",
       "      <td>183.919998</td>\n",
       "      <td>183.919998</td>\n",
       "      <td>13954800</td>\n",
       "    </tr>\n",
       "    <tr>\n",
       "      <th>2018-07-05</th>\n",
       "      <td>185.259995</td>\n",
       "      <td>186.410004</td>\n",
       "      <td>184.279999</td>\n",
       "      <td>185.399994</td>\n",
       "      <td>185.399994</td>\n",
       "      <td>16604200</td>\n",
       "    </tr>\n",
       "    <tr>\n",
       "      <th>2018-07-06</th>\n",
       "      <td>185.419998</td>\n",
       "      <td>188.429993</td>\n",
       "      <td>185.199997</td>\n",
       "      <td>187.970001</td>\n",
       "      <td>187.970001</td>\n",
       "      <td>17485200</td>\n",
       "    </tr>\n",
       "    <tr>\n",
       "      <th>2018-07-09</th>\n",
       "      <td>189.500000</td>\n",
       "      <td>190.679993</td>\n",
       "      <td>189.300003</td>\n",
       "      <td>190.580002</td>\n",
       "      <td>190.580002</td>\n",
       "      <td>19756600</td>\n",
       "    </tr>\n",
       "    <tr>\n",
       "      <th>2018-07-10</th>\n",
       "      <td>190.710007</td>\n",
       "      <td>191.279999</td>\n",
       "      <td>190.179993</td>\n",
       "      <td>190.350006</td>\n",
       "      <td>190.350006</td>\n",
       "      <td>15939100</td>\n",
       "    </tr>\n",
       "    <tr>\n",
       "      <th>2018-07-11</th>\n",
       "      <td>188.500000</td>\n",
       "      <td>189.779999</td>\n",
       "      <td>187.610001</td>\n",
       "      <td>187.880005</td>\n",
       "      <td>187.880005</td>\n",
       "      <td>18831500</td>\n",
       "    </tr>\n",
       "    <tr>\n",
       "      <th>2018-07-12</th>\n",
       "      <td>189.529999</td>\n",
       "      <td>191.410004</td>\n",
       "      <td>189.309998</td>\n",
       "      <td>191.029999</td>\n",
       "      <td>191.029999</td>\n",
       "      <td>18002600</td>\n",
       "    </tr>\n",
       "  </tbody>\n",
       "</table>\n",
       "</div>"
      ],
      "text/plain": [
       "                  Open        High         Low       Close   Adj Close  \\\n",
       "Date                                                                     \n",
       "2018-06-13  192.419998  192.880005  190.440002  190.699997  190.699997   \n",
       "2018-06-14  191.550003  191.570007  190.220001  190.800003  190.800003   \n",
       "2018-06-15  190.029999  190.160004  188.259995  188.839996  188.839996   \n",
       "2018-06-18  187.880005  189.220001  187.199997  188.740005  188.740005   \n",
       "2018-06-19  185.139999  186.330002  183.449997  185.690002  185.690002   \n",
       "2018-06-20  186.350006  187.199997  185.729996  186.500000  186.500000   \n",
       "2018-06-21  187.250000  188.350006  184.940002  185.460007  185.460007   \n",
       "2018-06-22  186.119995  186.149994  184.699997  184.919998  184.919998   \n",
       "2018-06-25  183.399994  184.919998  180.729996  182.169998  182.169998   \n",
       "2018-06-26  182.990005  186.529999  182.539993  184.429993  184.429993   \n",
       "2018-06-27  185.229996  187.279999  184.029999  184.160004  184.160004   \n",
       "2018-06-28  184.100006  186.210007  183.800003  185.500000  185.500000   \n",
       "2018-06-29  186.289993  187.190002  182.910004  185.110001  185.110001   \n",
       "2018-07-02  183.820007  187.300003  183.419998  187.179993  187.179993   \n",
       "2018-07-03  187.789993  187.949997  183.539993  183.919998  183.919998   \n",
       "2018-07-05  185.259995  186.410004  184.279999  185.399994  185.399994   \n",
       "2018-07-06  185.419998  188.429993  185.199997  187.970001  187.970001   \n",
       "2018-07-09  189.500000  190.679993  189.300003  190.580002  190.580002   \n",
       "2018-07-10  190.710007  191.279999  190.179993  190.350006  190.350006   \n",
       "2018-07-11  188.500000  189.779999  187.610001  187.880005  187.880005   \n",
       "2018-07-12  189.529999  191.410004  189.309998  191.029999  191.029999   \n",
       "\n",
       "              Volume  \n",
       "Date                  \n",
       "2018-06-13  21638400  \n",
       "2018-06-14  21610100  \n",
       "2018-06-15  61719200  \n",
       "2018-06-18  18484900  \n",
       "2018-06-19  33578500  \n",
       "2018-06-20  20628700  \n",
       "2018-06-21  25711900  \n",
       "2018-06-22  27200400  \n",
       "2018-06-25  31663100  \n",
       "2018-06-26  24569200  \n",
       "2018-06-27  25285300  \n",
       "2018-06-28  17365200  \n",
       "2018-06-29  22737700  \n",
       "2018-07-02  17731300  \n",
       "2018-07-03  13954800  \n",
       "2018-07-05  16604200  \n",
       "2018-07-06  17485200  \n",
       "2018-07-09  19756600  \n",
       "2018-07-10  15939100  \n",
       "2018-07-11  18831500  \n",
       "2018-07-12  18002600  "
      ]
     },
     "execution_count": 2,
     "metadata": {},
     "output_type": "execute_result"
    }
   ],
   "source": [
    "import pandas as pd\n",
    "df = pd.read_csv('files/AAPL.csv', parse_dates=['Date'], index_col='Date')\n",
    "df"
   ]
  },
  {
   "cell_type": "code",
   "execution_count": 3,
   "metadata": {},
   "outputs": [
    {
     "data": {
      "text/plain": [
       "DatetimeIndex(['2018-06-13', '2018-06-14', '2018-06-15', '2018-06-18',\n",
       "               '2018-06-19', '2018-06-20', '2018-06-21', '2018-06-22',\n",
       "               '2018-06-25', '2018-06-26', '2018-06-27', '2018-06-28',\n",
       "               '2018-06-29', '2018-07-02', '2018-07-03', '2018-07-05',\n",
       "               '2018-07-06', '2018-07-09', '2018-07-10', '2018-07-11',\n",
       "               '2018-07-12'],\n",
       "              dtype='datetime64[ns]', name=u'Date', freq=None)"
      ]
     },
     "execution_count": 3,
     "metadata": {},
     "output_type": "execute_result"
    }
   ],
   "source": [
    "df.index"
   ]
  },
  {
   "cell_type": "code",
   "execution_count": 4,
   "metadata": {},
   "outputs": [
    {
     "data": {
      "text/plain": [
       "188.03874975"
      ]
     },
     "execution_count": 4,
     "metadata": {},
     "output_type": "execute_result"
    }
   ],
   "source": [
    "df['2018-07'].Close.mean()"
   ]
  },
  {
   "cell_type": "code",
   "execution_count": 36,
   "metadata": {},
   "outputs": [
    {
     "data": {
      "text/html": [
       "<div>\n",
       "<style scoped>\n",
       "    .dataframe tbody tr th:only-of-type {\n",
       "        vertical-align: middle;\n",
       "    }\n",
       "\n",
       "    .dataframe tbody tr th {\n",
       "        vertical-align: top;\n",
       "    }\n",
       "\n",
       "    .dataframe thead th {\n",
       "        text-align: right;\n",
       "    }\n",
       "</style>\n",
       "<table border=\"1\" class=\"dataframe\">\n",
       "  <thead>\n",
       "    <tr style=\"text-align: right;\">\n",
       "      <th></th>\n",
       "      <th>Open</th>\n",
       "      <th>High</th>\n",
       "      <th>Low</th>\n",
       "      <th>Close</th>\n",
       "      <th>Adj Close</th>\n",
       "      <th>Volume</th>\n",
       "    </tr>\n",
       "    <tr>\n",
       "      <th>Date</th>\n",
       "      <th></th>\n",
       "      <th></th>\n",
       "      <th></th>\n",
       "      <th></th>\n",
       "      <th></th>\n",
       "      <th></th>\n",
       "    </tr>\n",
       "  </thead>\n",
       "  <tbody>\n",
       "    <tr>\n",
       "      <th>2018-06-14</th>\n",
       "      <td>191.550003</td>\n",
       "      <td>191.570007</td>\n",
       "      <td>190.220001</td>\n",
       "      <td>190.800003</td>\n",
       "      <td>190.800003</td>\n",
       "      <td>21610100</td>\n",
       "    </tr>\n",
       "    <tr>\n",
       "      <th>2018-06-15</th>\n",
       "      <td>190.029999</td>\n",
       "      <td>190.160004</td>\n",
       "      <td>188.259995</td>\n",
       "      <td>188.839996</td>\n",
       "      <td>188.839996</td>\n",
       "      <td>61719200</td>\n",
       "    </tr>\n",
       "    <tr>\n",
       "      <th>2018-06-18</th>\n",
       "      <td>187.880005</td>\n",
       "      <td>189.220001</td>\n",
       "      <td>187.199997</td>\n",
       "      <td>188.740005</td>\n",
       "      <td>188.740005</td>\n",
       "      <td>18484900</td>\n",
       "    </tr>\n",
       "  </tbody>\n",
       "</table>\n",
       "</div>"
      ],
      "text/plain": [
       "                  Open        High         Low       Close   Adj Close  \\\n",
       "Date                                                                     \n",
       "2018-06-14  191.550003  191.570007  190.220001  190.800003  190.800003   \n",
       "2018-06-15  190.029999  190.160004  188.259995  188.839996  188.839996   \n",
       "2018-06-18  187.880005  189.220001  187.199997  188.740005  188.740005   \n",
       "\n",
       "              Volume  \n",
       "Date                  \n",
       "2018-06-14  21610100  \n",
       "2018-06-15  61719200  \n",
       "2018-06-18  18484900  "
      ]
     },
     "execution_count": 36,
     "metadata": {},
     "output_type": "execute_result"
    }
   ],
   "source": [
    "df['2018-06-14':'2018-06-18']"
   ]
  },
  {
   "cell_type": "code",
   "execution_count": 82,
   "metadata": {},
   "outputs": [
    {
     "data": {
      "text/plain": [
       "<matplotlib.axes._subplots.AxesSubplot at 0x7f9973964b10>"
      ]
     },
     "execution_count": 82,
     "metadata": {},
     "output_type": "execute_result"
    },
    {
     "data": {
      "image/png": "[encoded data removed]",
      "text/plain": [
       "<Figure size 432x288 with 1 Axes>"
      ]
     },
     "metadata": {},
     "output_type": "display_data"
    }
   ],
   "source": [
    "%matplotlib inline\n",
    "df.Close.resample('W').mean().plot(kind='bar')"
   ]
  },
  {
   "cell_type": "code",
   "execution_count": 50,
   "metadata": {},
   "outputs": [
    {
     "data": {
      "text/plain": [
       "<matplotlib.axes._subplots.AxesSubplot at 0x7f9973a507d0>"
      ]
     },
     "execution_count": 50,
     "metadata": {},
     "output_type": "execute_result"
    },
    {
     "data": {
      "image/png": "[encoded data removed]",
      "text/plain": [
       "<Figure size 432x288 with 1 Axes>"
      ]
     },
     "metadata": {},
     "output_type": "display_data"
    }
   ],
   "source": [
    "df.Close.plot()"
   ]
  },
  {
   "cell_type": "code",
   "execution_count": 55,
   "metadata": {},
   "outputs": [
    {
     "data": {
      "text/plain": [
       "DatetimeIndex(['2017-01-02', '2017-01-03', '2017-01-04', '2017-01-05',\n",
       "               '2017-01-06', '2017-01-09', '2017-01-10', '2017-01-11',\n",
       "               '2017-01-12', '2017-01-13', '2017-01-16', '2017-01-17',\n",
       "               '2017-01-18', '2017-01-19', '2017-01-20', '2017-01-23',\n",
       "               '2017-01-24', '2017-01-25', '2017-01-26', '2017-01-27',\n",
       "               '2017-01-30', '2017-01-31', '2017-02-01'],\n",
       "              dtype='datetime64[ns]', freq='B')"
      ]
     },
     "execution_count": 55,
     "metadata": {},
     "output_type": "execute_result"
    }
   ],
   "source": [
    "pd.date_range(start='2017-01-01',end='2017-02-01', freq='B')"
   ]
  },
  {
   "cell_type": "code",
   "execution_count": 83,
   "metadata": {},
   "outputs": [
    {
     "data": {
      "text/html": [
       "<div>\n",
       "<style scoped>\n",
       "    .dataframe tbody tr th:only-of-type {\n",
       "        vertical-align: middle;\n",
       "    }\n",
       "\n",
       "    .dataframe tbody tr th {\n",
       "        vertical-align: top;\n",
       "    }\n",
       "\n",
       "    .dataframe thead th {\n",
       "        text-align: right;\n",
       "    }\n",
       "</style>\n",
       "<table border=\"1\" class=\"dataframe\">\n",
       "  <thead>\n",
       "    <tr style=\"text-align: right;\">\n",
       "      <th></th>\n",
       "      <th>Open</th>\n",
       "      <th>High</th>\n",
       "      <th>Low</th>\n",
       "      <th>Close</th>\n",
       "      <th>Adj Close</th>\n",
       "      <th>Volume</th>\n",
       "    </tr>\n",
       "    <tr>\n",
       "      <th>Date</th>\n",
       "      <th></th>\n",
       "      <th></th>\n",
       "      <th></th>\n",
       "      <th></th>\n",
       "      <th></th>\n",
       "      <th></th>\n",
       "    </tr>\n",
       "  </thead>\n",
       "  <tbody>\n",
       "    <tr>\n",
       "      <th>2018-06-13</th>\n",
       "      <td>192.419998</td>\n",
       "      <td>192.880005</td>\n",
       "      <td>190.440002</td>\n",
       "      <td>190.699997</td>\n",
       "      <td>190.699997</td>\n",
       "      <td>21638400</td>\n",
       "    </tr>\n",
       "    <tr>\n",
       "      <th>2018-06-14</th>\n",
       "      <td>191.550003</td>\n",
       "      <td>191.570007</td>\n",
       "      <td>190.220001</td>\n",
       "      <td>190.800003</td>\n",
       "      <td>190.800003</td>\n",
       "      <td>21610100</td>\n",
       "    </tr>\n",
       "    <tr>\n",
       "      <th>2018-06-15</th>\n",
       "      <td>190.029999</td>\n",
       "      <td>190.160004</td>\n",
       "      <td>188.259995</td>\n",
       "      <td>188.839996</td>\n",
       "      <td>188.839996</td>\n",
       "      <td>61719200</td>\n",
       "    </tr>\n",
       "    <tr>\n",
       "      <th>2018-06-18</th>\n",
       "      <td>187.880005</td>\n",
       "      <td>189.220001</td>\n",
       "      <td>187.199997</td>\n",
       "      <td>188.740005</td>\n",
       "      <td>188.740005</td>\n",
       "      <td>18484900</td>\n",
       "    </tr>\n",
       "    <tr>\n",
       "      <th>2018-06-19</th>\n",
       "      <td>185.139999</td>\n",
       "      <td>186.330002</td>\n",
       "      <td>183.449997</td>\n",
       "      <td>185.690002</td>\n",
       "      <td>185.690002</td>\n",
       "      <td>33578500</td>\n",
       "    </tr>\n",
       "    <tr>\n",
       "      <th>2018-06-20</th>\n",
       "      <td>186.350006</td>\n",
       "      <td>187.199997</td>\n",
       "      <td>185.729996</td>\n",
       "      <td>186.500000</td>\n",
       "      <td>186.500000</td>\n",
       "      <td>20628700</td>\n",
       "    </tr>\n",
       "    <tr>\n",
       "      <th>2018-06-21</th>\n",
       "      <td>187.250000</td>\n",
       "      <td>188.350006</td>\n",
       "      <td>184.940002</td>\n",
       "      <td>185.460007</td>\n",
       "      <td>185.460007</td>\n",
       "      <td>25711900</td>\n",
       "    </tr>\n",
       "    <tr>\n",
       "      <th>2018-06-22</th>\n",
       "      <td>186.119995</td>\n",
       "      <td>186.149994</td>\n",
       "      <td>184.699997</td>\n",
       "      <td>184.919998</td>\n",
       "      <td>184.919998</td>\n",
       "      <td>27200400</td>\n",
       "    </tr>\n",
       "    <tr>\n",
       "      <th>2018-06-25</th>\n",
       "      <td>183.399994</td>\n",
       "      <td>184.919998</td>\n",
       "      <td>180.729996</td>\n",
       "      <td>182.169998</td>\n",
       "      <td>182.169998</td>\n",
       "      <td>31663100</td>\n",
       "    </tr>\n",
       "    <tr>\n",
       "      <th>2018-06-26</th>\n",
       "      <td>182.990005</td>\n",
       "      <td>186.529999</td>\n",
       "      <td>182.539993</td>\n",
       "      <td>184.429993</td>\n",
       "      <td>184.429993</td>\n",
       "      <td>24569200</td>\n",
       "    </tr>\n",
       "    <tr>\n",
       "      <th>2018-06-27</th>\n",
       "      <td>185.229996</td>\n",
       "      <td>187.279999</td>\n",
       "      <td>184.029999</td>\n",
       "      <td>184.160004</td>\n",
       "      <td>184.160004</td>\n",
       "      <td>25285300</td>\n",
       "    </tr>\n",
       "    <tr>\n",
       "      <th>2018-06-28</th>\n",
       "      <td>184.100006</td>\n",
       "      <td>186.210007</td>\n",
       "      <td>183.800003</td>\n",
       "      <td>185.500000</td>\n",
       "      <td>185.500000</td>\n",
       "      <td>17365200</td>\n",
       "    </tr>\n",
       "    <tr>\n",
       "      <th>2018-06-29</th>\n",
       "      <td>186.289993</td>\n",
       "      <td>187.190002</td>\n",
       "      <td>182.910004</td>\n",
       "      <td>185.110001</td>\n",
       "      <td>185.110001</td>\n",
       "      <td>22737700</td>\n",
       "    </tr>\n",
       "    <tr>\n",
       "      <th>2018-07-02</th>\n",
       "      <td>183.820007</td>\n",
       "      <td>187.300003</td>\n",
       "      <td>183.419998</td>\n",
       "      <td>187.179993</td>\n",
       "      <td>187.179993</td>\n",
       "      <td>17731300</td>\n",
       "    </tr>\n",
       "    <tr>\n",
       "      <th>2018-07-03</th>\n",
       "      <td>187.789993</td>\n",
       "      <td>187.949997</td>\n",
       "      <td>183.539993</td>\n",
       "      <td>183.919998</td>\n",
       "      <td>183.919998</td>\n",
       "      <td>13954800</td>\n",
       "    </tr>\n",
       "    <tr>\n",
       "      <th>2018-07-04</th>\n",
       "      <td>187.789993</td>\n",
       "      <td>187.949997</td>\n",
       "      <td>183.539993</td>\n",
       "      <td>183.919998</td>\n",
       "      <td>183.919998</td>\n",
       "      <td>13954800</td>\n",
       "    </tr>\n",
       "    <tr>\n",
       "      <th>2018-07-05</th>\n",
       "      <td>185.259995</td>\n",
       "      <td>186.410004</td>\n",
       "      <td>184.279999</td>\n",
       "      <td>185.399994</td>\n",
       "      <td>185.399994</td>\n",
       "      <td>16604200</td>\n",
       "    </tr>\n",
       "    <tr>\n",
       "      <th>2018-07-06</th>\n",
       "      <td>185.419998</td>\n",
       "      <td>188.429993</td>\n",
       "      <td>185.199997</td>\n",
       "      <td>187.970001</td>\n",
       "      <td>187.970001</td>\n",
       "      <td>17485200</td>\n",
       "    </tr>\n",
       "    <tr>\n",
       "      <th>2018-07-09</th>\n",
       "      <td>189.500000</td>\n",
       "      <td>190.679993</td>\n",
       "      <td>189.300003</td>\n",
       "      <td>190.580002</td>\n",
       "      <td>190.580002</td>\n",
       "      <td>19756600</td>\n",
       "    </tr>\n",
       "    <tr>\n",
       "      <th>2018-07-10</th>\n",
       "      <td>190.710007</td>\n",
       "      <td>191.279999</td>\n",
       "      <td>190.179993</td>\n",
       "      <td>190.350006</td>\n",
       "      <td>190.350006</td>\n",
       "      <td>15939100</td>\n",
       "    </tr>\n",
       "    <tr>\n",
       "      <th>2018-07-11</th>\n",
       "      <td>188.500000</td>\n",
       "      <td>189.779999</td>\n",
       "      <td>187.610001</td>\n",
       "      <td>187.880005</td>\n",
       "      <td>187.880005</td>\n",
       "      <td>18831500</td>\n",
       "    </tr>\n",
       "    <tr>\n",
       "      <th>2018-07-12</th>\n",
       "      <td>189.529999</td>\n",
       "      <td>191.410004</td>\n",
       "      <td>189.309998</td>\n",
       "      <td>191.029999</td>\n",
       "      <td>191.029999</td>\n",
       "      <td>18002600</td>\n",
       "    </tr>\n",
       "  </tbody>\n",
       "</table>\n",
       "</div>"
      ],
      "text/plain": [
       "                  Open        High         Low       Close   Adj Close  \\\n",
       "Date                                                                     \n",
       "2018-06-13  192.419998  192.880005  190.440002  190.699997  190.699997   \n",
       "2018-06-14  191.550003  191.570007  190.220001  190.800003  190.800003   \n",
       "2018-06-15  190.029999  190.160004  188.259995  188.839996  188.839996   \n",
       "2018-06-18  187.880005  189.220001  187.199997  188.740005  188.740005   \n",
       "2018-06-19  185.139999  186.330002  183.449997  185.690002  185.690002   \n",
       "2018-06-20  186.350006  187.199997  185.729996  186.500000  186.500000   \n",
       "2018-06-21  187.250000  188.350006  184.940002  185.460007  185.460007   \n",
       "2018-06-22  186.119995  186.149994  184.699997  184.919998  184.919998   \n",
       "2018-06-25  183.399994  184.919998  180.729996  182.169998  182.169998   \n",
       "2018-06-26  182.990005  186.529999  182.539993  184.429993  184.429993   \n",
       "2018-06-27  185.229996  187.279999  184.029999  184.160004  184.160004   \n",
       "2018-06-28  184.100006  186.210007  183.800003  185.500000  185.500000   \n",
       "2018-06-29  186.289993  187.190002  182.910004  185.110001  185.110001   \n",
       "2018-07-02  183.820007  187.300003  183.419998  187.179993  187.179993   \n",
       "2018-07-03  187.789993  187.949997  183.539993  183.919998  183.919998   \n",
       "2018-07-04  187.789993  187.949997  183.539993  183.919998  183.919998   \n",
       "2018-07-05  185.259995  186.410004  184.279999  185.399994  185.399994   \n",
       "2018-07-06  185.419998  188.429993  185.199997  187.970001  187.970001   \n",
       "2018-07-09  189.500000  190.679993  189.300003  190.580002  190.580002   \n",
       "2018-07-10  190.710007  191.279999  190.179993  190.350006  190.350006   \n",
       "2018-07-11  188.500000  189.779999  187.610001  187.880005  187.880005   \n",
       "2018-07-12  189.529999  191.410004  189.309998  191.029999  191.029999   \n",
       "\n",
       "              Volume  \n",
       "Date                  \n",
       "2018-06-13  21638400  \n",
       "2018-06-14  21610100  \n",
       "2018-06-15  61719200  \n",
       "2018-06-18  18484900  \n",
       "2018-06-19  33578500  \n",
       "2018-06-20  20628700  \n",
       "2018-06-21  25711900  \n",
       "2018-06-22  27200400  \n",
       "2018-06-25  31663100  \n",
       "2018-06-26  24569200  \n",
       "2018-06-27  25285300  \n",
       "2018-06-28  17365200  \n",
       "2018-06-29  22737700  \n",
       "2018-07-02  17731300  \n",
       "2018-07-03  13954800  \n",
       "2018-07-04  13954800  \n",
       "2018-07-05  16604200  \n",
       "2018-07-06  17485200  \n",
       "2018-07-09  19756600  \n",
       "2018-07-10  15939100  \n",
       "2018-07-11  18831500  \n",
       "2018-07-12  18002600  "
      ]
     },
     "execution_count": 83,
     "metadata": {},
     "output_type": "execute_result"
    }
   ],
   "source": [
    "df.asfreq('B',method='pad')     # carray forwards the previous value to next empty values"
   ]
  },
  {
   "cell_type": "code",
   "execution_count": 77,
   "metadata": {},
   "outputs": [
    {
     "data": {
      "text/plain": [
       "DatetimeIndex(['2018-01-01', '2018-01-02', '2018-01-03', '2018-01-04',\n",
       "               '2018-01-05', '2018-01-08', '2018-01-09', '2018-01-10',\n",
       "               '2018-01-11', '2018-01-12', '2018-01-15', '2018-01-16',\n",
       "               '2018-01-17', '2018-01-18', '2018-01-19', '2018-01-22',\n",
       "               '2018-01-23', '2018-01-24', '2018-01-25', '2018-01-26',\n",
       "               '2018-01-29', '2018-01-30', '2018-01-31', '2018-02-01',\n",
       "               '2018-02-02', '2018-02-05', '2018-02-06', '2018-02-07',\n",
       "               '2018-02-08', '2018-02-09'],\n",
       "              dtype='datetime64[ns]', freq='B')"
      ]
     },
     "execution_count": 77,
     "metadata": {},
     "output_type": "execute_result"
    }
   ],
   "source": [
    "d_rng = pd.date_range(start='2018-01-01', periods=30, freq='B')\n",
    "d_rng"
   ]
  },
  {
   "cell_type": "code",
   "execution_count": 84,
   "metadata": {},
   "outputs": [
    {
     "data": {
      "text/plain": [
       "2018-01-01    7\n",
       "2018-01-02    3\n",
       "2018-01-03    5\n",
       "2018-01-04    5\n",
       "2018-01-05    3\n",
       "2018-01-08    2\n",
       "2018-01-09    9\n",
       "2018-01-10    1\n",
       "2018-01-11    5\n",
       "2018-01-12    4\n",
       "2018-01-15    3\n",
       "2018-01-16    1\n",
       "2018-01-17    2\n",
       "2018-01-18    6\n",
       "2018-01-19    8\n",
       "2018-01-22    5\n",
       "2018-01-23    9\n",
       "2018-01-24    2\n",
       "2018-01-25    2\n",
       "2018-01-26    5\n",
       "2018-01-29    8\n",
       "2018-01-30    7\n",
       "2018-01-31    7\n",
       "2018-02-01    6\n",
       "2018-02-02    8\n",
       "2018-02-05    5\n",
       "2018-02-06    3\n",
       "2018-02-07    2\n",
       "2018-02-08    7\n",
       "2018-02-09    7\n",
       "Freq: B, dtype: int64"
      ]
     },
     "execution_count": 84,
     "metadata": {},
     "output_type": "execute_result"
    }
   ],
   "source": [
    "import numpy as np\n",
    "pd.Series(np.random.randint(1,10,len(d_rng)), index=d_rng)"
   ]
  },
  {
   "cell_type": "code",
   "execution_count": 130,
   "metadata": {},
   "outputs": [
    {
     "data": {
      "text/plain": [
       "<CustomBusinessDay>"
      ]
     },
     "execution_count": 130,
     "metadata": {},
     "output_type": "execute_result"
    }
   ],
   "source": [
    "from pandas.tseries.holiday import AbstractHolidayCalendar, nearest_workday, Holiday\n",
    "from pandas.tseries.offsets import CustomBusinessDay\n",
    "\n",
    "class MyBirthdayCalender(AbstractHolidayCalendar):\n",
    "    \"\"\" US Federal Government Holiday Calendar based \n",
    "    on rules specified by: https://www.opm.gov/policy-data-oversight/ \n",
    "    snow-dismissal-procedures/federal-holidays/ \"\"\" \n",
    "    rules = [\n",
    "        \n",
    "        Holiday('Sakshi\\'s Birthday', month=3, day=11, observance=nearest_workday), \n",
    "        \n",
    "    ] \n",
    "my_cal = CustomBusinessDay(calendar=MyBirthdayCalender())\n",
    "my_cal"
   ]
  },
  {
   "cell_type": "code",
   "execution_count": 129,
   "metadata": {},
   "outputs": [
    {
     "data": {
      "text/plain": [
       "DatetimeIndex(['2018-03-01', '2018-03-02', '2018-03-05', '2018-03-06',\n",
       "               '2018-03-07', '2018-03-08', '2018-03-09', '2018-03-13',\n",
       "               '2018-03-14', '2018-03-15', '2018-03-16', '2018-03-19',\n",
       "               '2018-03-20', '2018-03-21', '2018-03-22', '2018-03-23',\n",
       "               '2018-03-26', '2018-03-27', '2018-03-28', '2018-03-29',\n",
       "               '2018-03-30'],\n",
       "              dtype='datetime64[ns]', freq='C')"
      ]
     },
     "execution_count": 129,
     "metadata": {},
     "output_type": "execute_result"
    }
   ],
   "source": [
    "rng1 = pd.date_range(start='2018-03-01', end='2018-04-01', freq=my_cal)\n",
    "rng1"
   ]
  },
  {
   "cell_type": "code",
   "execution_count": 126,
   "metadata": {},
   "outputs": [
    {
     "data": {
      "text/plain": [
       "DatetimeIndex(['2018-01-02', '2018-01-03', '2018-01-04', '2018-01-07',\n",
       "               '2018-01-08', '2018-01-09', '2018-01-10', '2018-01-11',\n",
       "               '2018-01-14', '2018-01-15', '2018-01-16', '2018-01-17',\n",
       "               '2018-01-18', '2018-01-21', '2018-01-22', '2018-01-23',\n",
       "               '2018-01-24', '2018-01-25', '2018-01-28', '2018-01-29',\n",
       "               '2018-01-30', '2018-01-31', '2018-02-01'],\n",
       "              dtype='datetime64[ns]', freq='C')"
      ]
     },
     "execution_count": 126,
     "metadata": {},
     "output_type": "execute_result"
    }
   ],
   "source": [
    "cd = CustomBusinessDay(weekmask=('Sun Mon Tue Wed Thu'), holidays=['2018-01-01'])\n",
    "pd.date_range(start='2018-01-01', end='2018-02-02', freq=cd)"
   ]
  },
  {
   "cell_type": "code",
   "execution_count": null,
   "metadata": {},
   "outputs": [],
   "source": [
    "## date time variations"
   ]
  },
  {
   "cell_type": "code",
   "execution_count": 144,
   "metadata": {},
   "outputs": [
    {
     "data": {
      "text/plain": [
       "DatetimeIndex(['2018-03-09 14:30:00', '2018-03-09 05:40:00',\n",
       "               '2018-03-09 00:00:00', '2018-03-09 00:00:00',\n",
       "               '2018-03-09 00:00:00', '2018-03-09 00:00:00',\n",
       "                               'NaT'],\n",
       "              dtype='datetime64[ns]', freq=None)"
      ]
     },
     "execution_count": 144,
     "metadata": {},
     "output_type": "execute_result"
    }
   ],
   "source": [
    "dates = ['2018-03-09 2:30:00 PM','Mar 9, 2018 5:40:00','03/09/2018','2018.03.09','2018/03/09','20180309', 'abc']\n",
    "pd.to_datetime(dates, errors='coerce')"
   ]
  },
  {
   "cell_type": "code",
   "execution_count": 138,
   "metadata": {},
   "outputs": [
    {
     "data": {
      "text/plain": [
       "Timestamp('2018-03-09 00:00:00')"
      ]
     },
     "execution_count": 138,
     "metadata": {},
     "output_type": "execute_result"
    }
   ],
   "source": [
    "# 9th March\n",
    "pd.to_datetime('09/03/2018', dayfirst=True)"
   ]
  },
  {
   "cell_type": "code",
   "execution_count": 145,
   "metadata": {},
   "outputs": [
    {
     "data": {
      "text/plain": [
       "Timestamp('2018-03-09 00:00:00')"
      ]
     },
     "execution_count": 145,
     "metadata": {},
     "output_type": "execute_result"
    }
   ],
   "source": [
    "pd.to_datetime('09^03^2018', format='%d^%m^%Y')"
   ]
  },
  {
   "cell_type": "code",
   "execution_count": 146,
   "metadata": {},
   "outputs": [],
   "source": [
    "### EPOCH time => number of seconds passed since Jan 1, 1970 00:00:00"
   ]
  },
  {
   "cell_type": "code",
   "execution_count": 154,
   "metadata": {},
   "outputs": [
    {
     "data": {
      "text/plain": [
       "DatetimeIndex(['2018-07-13 11:34:00'], dtype='datetime64[ns]', freq=None)"
      ]
     },
     "execution_count": 154,
     "metadata": {},
     "output_type": "execute_result"
    }
   ],
   "source": [
    "t = 1531481640\n",
    "dt = pd.to_datetime([t], unit='s')\n",
    "dt"
   ]
  },
  {
   "cell_type": "code",
   "execution_count": 159,
   "metadata": {},
   "outputs": [
    {
     "data": {
      "text/plain": [
       "array([1531481640000000000])"
      ]
     },
     "execution_count": 159,
     "metadata": {},
     "output_type": "execute_result"
    }
   ],
   "source": [
    "dt.view('int64')"
   ]
  },
  {
   "cell_type": "code",
   "execution_count": 1,
   "metadata": {},
   "outputs": [
    {
     "ename": "NameError",
     "evalue": "name 'pd' is not defined",
     "output_type": "error",
     "traceback": [
      "\u001b[0;31m---------------------------------------------------------------------------\u001b[0m",
      "\u001b[0;31mNameError\u001b[0m                                 Traceback (most recent call last)",
      "\u001b[0;32m<ipython-input-1-9e432b6b6039>\u001b[0m in \u001b[0;36m<module>\u001b[0;34m()\u001b[0m\n\u001b[0;32m----> 1\u001b[0;31m \u001b[0my\u001b[0m \u001b[0;34m=\u001b[0m \u001b[0mpd\u001b[0m\u001b[0;34m.\u001b[0m\u001b[0mPeriod\u001b[0m\u001b[0;34m(\u001b[0m\u001b[0;34m'2018'\u001b[0m\u001b[0;34m)\u001b[0m\u001b[0;34m\u001b[0m\u001b[0m\n\u001b[0m\u001b[1;32m      2\u001b[0m \u001b[0my\u001b[0m\u001b[0;34m\u001b[0m\u001b[0m\n",
      "\u001b[0;31mNameError\u001b[0m: name 'pd' is not defined"
     ]
    }
   ],
   "source": [
    "y = pd.Period('2018')\n",
    "y"
   ]
  },
  {
   "cell_type": "code",
   "execution_count": 170,
   "metadata": {},
   "outputs": [
    {
     "data": {
      "text/plain": [
       "['__add__',\n",
       " '__class__',\n",
       " '__delattr__',\n",
       " '__dict__',\n",
       " '__doc__',\n",
       " '__eq__',\n",
       " '__format__',\n",
       " '__ge__',\n",
       " '__getattribute__',\n",
       " '__gt__',\n",
       " '__hash__',\n",
       " '__init__',\n",
       " '__le__',\n",
       " '__lt__',\n",
       " '__module__',\n",
       " '__ne__',\n",
       " '__new__',\n",
       " '__qualname__',\n",
       " '__radd__',\n",
       " '__reduce__',\n",
       " '__reduce_ex__',\n",
       " '__repr__',\n",
       " '__rsub__',\n",
       " '__setattr__',\n",
       " '__setstate__',\n",
       " '__sizeof__',\n",
       " '__str__',\n",
       " '__sub__',\n",
       " '__subclasshook__',\n",
       " '__unicode__',\n",
       " '__weakref__',\n",
       " '_add_delta',\n",
       " '_from_ordinal',\n",
       " '_maybe_convert_freq',\n",
       " '_typ',\n",
       " 'asfreq',\n",
       " 'day',\n",
       " 'dayofweek',\n",
       " 'dayofyear',\n",
       " 'days_in_month',\n",
       " 'daysinmonth',\n",
       " 'end_time',\n",
       " 'freq',\n",
       " 'freqstr',\n",
       " 'hour',\n",
       " 'is_leap_year',\n",
       " 'minute',\n",
       " 'month',\n",
       " 'now',\n",
       " 'ordinal',\n",
       " 'quarter',\n",
       " 'qyear',\n",
       " 'second',\n",
       " 'start_time',\n",
       " 'strftime',\n",
       " 'to_timestamp',\n",
       " 'week',\n",
       " 'weekday',\n",
       " 'weekofyear',\n",
       " 'year']"
      ]
     },
     "execution_count": 170,
     "metadata": {},
     "output_type": "execute_result"
    }
   ],
   "source": [
    "dir(y)"
   ]
  },
  {
   "cell_type": "code",
   "execution_count": 172,
   "metadata": {},
   "outputs": [
    {
     "data": {
      "text/plain": [
       "Timestamp('2018-01-01 00:00:00')"
      ]
     },
     "execution_count": 172,
     "metadata": {},
     "output_type": "execute_result"
    }
   ],
   "source": [
    "y.start_time"
   ]
  },
  {
   "cell_type": "code",
   "execution_count": 174,
   "metadata": {},
   "outputs": [
    {
     "data": {
      "text/plain": [
       "Timestamp('2018-12-31 23:59:59.999999999')"
      ]
     },
     "execution_count": 174,
     "metadata": {},
     "output_type": "execute_result"
    }
   ],
   "source": [
    "y.end_time"
   ]
  },
  {
   "cell_type": "code",
   "execution_count": 178,
   "metadata": {},
   "outputs": [
    {
     "data": {
      "text/plain": [
       "Timestamp('2018-03-01 00:00:00')"
      ]
     },
     "execution_count": 178,
     "metadata": {},
     "output_type": "execute_result"
    }
   ],
   "source": [
    "m = pd.Period('2018-03')\n",
    "m.start_time"
   ]
  },
  {
   "cell_type": "code",
   "execution_count": 183,
   "metadata": {},
   "outputs": [
    {
     "data": {
      "text/plain": [
       "Period('2018-04', 'M')"
      ]
     },
     "execution_count": 183,
     "metadata": {},
     "output_type": "execute_result"
    }
   ],
   "source": [
    "m + 1"
   ]
  },
  {
   "cell_type": "code",
   "execution_count": 193,
   "metadata": {},
   "outputs": [
    {
     "data": {
      "text/plain": [
       "Period('2018-03-09 03:00', 'H')"
      ]
     },
     "execution_count": 193,
     "metadata": {},
     "output_type": "execute_result"
    }
   ],
   "source": [
    "h = pd.Period('2018-03-09 03:00:00', freq='H')\n",
    "h"
   ]
  },
  {
   "cell_type": "code",
   "execution_count": 195,
   "metadata": {},
   "outputs": [
    {
     "data": {
      "text/plain": [
       "Period('2018-03-09 08:00', 'H')"
      ]
     },
     "execution_count": 195,
     "metadata": {},
     "output_type": "execute_result"
    }
   ],
   "source": [
    "h + 5"
   ]
  },
  {
   "cell_type": "code",
   "execution_count": 196,
   "metadata": {},
   "outputs": [
    {
     "data": {
      "text/plain": [
       "Period('2018-03-09 08:00', 'H')"
      ]
     },
     "execution_count": 196,
     "metadata": {},
     "output_type": "execute_result"
    }
   ],
   "source": [
    "h + pd.offsets.Hour(5)"
   ]
  },
  {
   "cell_type": "code",
   "execution_count": 200,
   "metadata": {},
   "outputs": [
    {
     "data": {
      "text/plain": [
       "Period('2018Q1', 'Q-JAN')"
      ]
     },
     "execution_count": 200,
     "metadata": {},
     "output_type": "execute_result"
    }
   ],
   "source": [
    "q = pd.Period('2018Q1', freq='Q-Jan')\n",
    "q"
   ]
  },
  {
   "cell_type": "code",
   "execution_count": 201,
   "metadata": {},
   "outputs": [
    {
     "data": {
      "text/plain": [
       "Timestamp('2017-02-01 00:00:00')"
      ]
     },
     "execution_count": 201,
     "metadata": {},
     "output_type": "execute_result"
    }
   ],
   "source": [
    "q.start_time"
   ]
  },
  {
   "cell_type": "code",
   "execution_count": 202,
   "metadata": {},
   "outputs": [
    {
     "data": {
      "text/plain": [
       "Timestamp('2017-04-30 23:59:59.999999999')"
      ]
     },
     "execution_count": 202,
     "metadata": {},
     "output_type": "execute_result"
    }
   ],
   "source": [
    "q.end_time"
   ]
  },
  {
   "cell_type": "code",
   "execution_count": 212,
   "metadata": {},
   "outputs": [
    {
     "data": {
      "text/plain": [
       "Timestamp('2009-11-01 00:00:00')"
      ]
     },
     "execution_count": 212,
     "metadata": {},
     "output_type": "execute_result"
    }
   ],
   "source": [
    "ind = pd.period_range('2010',periods=10, freq='Q-Jan')\n",
    "\n",
    "# ind = pd.period_range('2010','2018', freq='Q-Jan')\n",
    "ind[0].start_time"
   ]
  },
  {
   "cell_type": "code",
   "execution_count": 213,
   "metadata": {},
   "outputs": [
    {
     "data": {
      "text/plain": [
       "2010Q4    3.074803\n",
       "2011Q1    2.060251\n",
       "2011Q2   -1.138168\n",
       "2011Q3   -1.178358\n",
       "2011Q4    0.436034\n",
       "2012Q1   -0.111304\n",
       "2012Q2    0.097619\n",
       "2012Q3    0.989342\n",
       "2012Q4    0.696163\n",
       "2013Q1    0.600864\n",
       "Freq: Q-JAN, dtype: float64"
      ]
     },
     "execution_count": 213,
     "metadata": {},
     "output_type": "execute_result"
    }
   ],
   "source": [
    "import numpy as np\n",
    "ps = pd.Series(np.random.randn(len(ind)), ind)\n",
    "ps"
   ]
  },
  {
   "cell_type": "code",
   "execution_count": 214,
   "metadata": {},
   "outputs": [
    {
     "data": {
      "text/plain": [
       "PeriodIndex(['2010Q4', '2011Q1', '2011Q2', '2011Q3', '2011Q4', '2012Q1',\n",
       "             '2012Q2', '2012Q3', '2012Q4', '2013Q1'],\n",
       "            dtype='period[Q-JAN]', freq='Q-JAN')"
      ]
     },
     "execution_count": 214,
     "metadata": {},
     "output_type": "execute_result"
    }
   ],
   "source": [
    "ps.index"
   ]
  },
  {
   "cell_type": "code",
   "execution_count": 215,
   "metadata": {},
   "outputs": [
    {
     "data": {
      "text/plain": [
       "2010Q4    3.074803\n",
       "2011Q1    2.060251\n",
       "2011Q2   -1.138168\n",
       "2011Q3   -1.178358\n",
       "2011Q4    0.436034\n",
       "2012Q1   -0.111304\n",
       "2012Q2    0.097619\n",
       "2012Q3    0.989342\n",
       "2012Q4    0.696163\n",
       "2013Q1    0.600864\n",
       "Freq: Q-JAN, dtype: float64"
      ]
     },
     "execution_count": 215,
     "metadata": {},
     "output_type": "execute_result"
    }
   ],
   "source": [
    "ps['2010':'2012']"
   ]
  },
  {
   "cell_type": "code",
   "execution_count": 219,
   "metadata": {},
   "outputs": [
    {
     "data": {
      "text/plain": [
       "2009-11-01    3.074803\n",
       "2010-02-01    2.060251\n",
       "2010-05-01   -1.138168\n",
       "2010-08-01   -1.178358\n",
       "2010-11-01    0.436034\n",
       "2011-02-01   -0.111304\n",
       "2011-05-01    0.097619\n",
       "2011-08-01    0.989342\n",
       "2011-11-01    0.696163\n",
       "2012-02-01    0.600864\n",
       "Freq: QS-NOV, dtype: float64"
      ]
     },
     "execution_count": 219,
     "metadata": {},
     "output_type": "execute_result"
    }
   ],
   "source": [
    "psts = ps.to_timestamp()\n",
    "psts"
   ]
  },
  {
   "cell_type": "code",
   "execution_count": 220,
   "metadata": {},
   "outputs": [
    {
     "data": {
      "text/plain": [
       "DatetimeIndex(['2009-11-01', '2010-02-01', '2010-05-01', '2010-08-01',\n",
       "               '2010-11-01', '2011-02-01', '2011-05-01', '2011-08-01',\n",
       "               '2011-11-01', '2012-02-01'],\n",
       "              dtype='datetime64[ns]', freq='QS-NOV')"
      ]
     },
     "execution_count": 220,
     "metadata": {},
     "output_type": "execute_result"
    }
   ],
   "source": [
    "psts.index"
   ]
  },
  {
   "cell_type": "code",
   "execution_count": 222,
   "metadata": {},
   "outputs": [
    {
     "data": {
      "text/plain": [
       "<bound method Series.to_period of 2009-11-01    3.074803\n",
       "2010-02-01    2.060251\n",
       "2010-05-01   -1.138168\n",
       "2010-08-01   -1.178358\n",
       "2010-11-01    0.436034\n",
       "2011-02-01   -0.111304\n",
       "2011-05-01    0.097619\n",
       "2011-08-01    0.989342\n",
       "2011-11-01    0.696163\n",
       "2012-02-01    0.600864\n",
       "Freq: QS-NOV, dtype: float64>"
      ]
     },
     "execution_count": 222,
     "metadata": {},
     "output_type": "execute_result"
    }
   ],
   "source": [
    "psts.to_period"
   ]
  },
  {
   "cell_type": "code",
   "execution_count": 248,
   "metadata": {},
   "outputs": [
    {
     "data": {
      "text/html": [
       "<div>\n",
       "<style scoped>\n",
       "    .dataframe tbody tr th:only-of-type {\n",
       "        vertical-align: middle;\n",
       "    }\n",
       "\n",
       "    .dataframe tbody tr th {\n",
       "        vertical-align: top;\n",
       "    }\n",
       "\n",
       "    .dataframe thead th {\n",
       "        text-align: right;\n",
       "    }\n",
       "</style>\n",
       "<table border=\"1\" class=\"dataframe\">\n",
       "  <thead>\n",
       "    <tr style=\"text-align: right;\">\n",
       "      <th></th>\n",
       "      <th>line item</th>\n",
       "      <th>2017Q1</th>\n",
       "      <th>2017Q2</th>\n",
       "      <th>2017Q3</th>\n",
       "      <th>2017Q4</th>\n",
       "      <th>2018Q1</th>\n",
       "    </tr>\n",
       "  </thead>\n",
       "  <tbody>\n",
       "    <tr>\n",
       "      <th>0</th>\n",
       "      <td>Revenue</td>\n",
       "      <td>115904</td>\n",
       "      <td>120854</td>\n",
       "      <td>118179</td>\n",
       "      <td>130936</td>\n",
       "      <td>117542</td>\n",
       "    </tr>\n",
       "    <tr>\n",
       "      <th>1</th>\n",
       "      <td>Expenses</td>\n",
       "      <td>86544</td>\n",
       "      <td>89485</td>\n",
       "      <td>87484</td>\n",
       "      <td>97743</td>\n",
       "      <td>87688</td>\n",
       "    </tr>\n",
       "    <tr>\n",
       "      <th>2</th>\n",
       "      <td>Profit</td>\n",
       "      <td>29360</td>\n",
       "      <td>31369</td>\n",
       "      <td>30695</td>\n",
       "      <td>33193</td>\n",
       "      <td>29854</td>\n",
       "    </tr>\n",
       "  </tbody>\n",
       "</table>\n",
       "</div>"
      ],
      "text/plain": [
       "  line item  2017Q1  2017Q2  2017Q3  2017Q4  2018Q1\n",
       "0   Revenue  115904  120854  118179  130936  117542\n",
       "1  Expenses   86544   89485   87484   97743   87688\n",
       "2    Profit   29360   31369   30695   33193   29854"
      ]
     },
     "execution_count": 248,
     "metadata": {},
     "output_type": "execute_result"
    }
   ],
   "source": [
    "WMT = pd.read_csv(\"files/WMT_report.csv\")\n",
    "WMT"
   ]
  },
  {
   "cell_type": "code",
   "execution_count": 249,
   "metadata": {},
   "outputs": [
    {
     "data": {
      "text/html": [
       "<div>\n",
       "<style scoped>\n",
       "    .dataframe tbody tr th:only-of-type {\n",
       "        vertical-align: middle;\n",
       "    }\n",
       "\n",
       "    .dataframe tbody tr th {\n",
       "        vertical-align: top;\n",
       "    }\n",
       "\n",
       "    .dataframe thead th {\n",
       "        text-align: right;\n",
       "    }\n",
       "</style>\n",
       "<table border=\"1\" class=\"dataframe\">\n",
       "  <thead>\n",
       "    <tr style=\"text-align: right;\">\n",
       "      <th></th>\n",
       "      <th>2017Q1</th>\n",
       "      <th>2017Q2</th>\n",
       "      <th>2017Q3</th>\n",
       "      <th>2017Q4</th>\n",
       "      <th>2018Q1</th>\n",
       "    </tr>\n",
       "    <tr>\n",
       "      <th>line item</th>\n",
       "      <th></th>\n",
       "      <th></th>\n",
       "      <th></th>\n",
       "      <th></th>\n",
       "      <th></th>\n",
       "    </tr>\n",
       "  </thead>\n",
       "  <tbody>\n",
       "    <tr>\n",
       "      <th>Revenue</th>\n",
       "      <td>115904</td>\n",
       "      <td>120854</td>\n",
       "      <td>118179</td>\n",
       "      <td>130936</td>\n",
       "      <td>117542</td>\n",
       "    </tr>\n",
       "    <tr>\n",
       "      <th>Expenses</th>\n",
       "      <td>86544</td>\n",
       "      <td>89485</td>\n",
       "      <td>87484</td>\n",
       "      <td>97743</td>\n",
       "      <td>87688</td>\n",
       "    </tr>\n",
       "    <tr>\n",
       "      <th>Profit</th>\n",
       "      <td>29360</td>\n",
       "      <td>31369</td>\n",
       "      <td>30695</td>\n",
       "      <td>33193</td>\n",
       "      <td>29854</td>\n",
       "    </tr>\n",
       "  </tbody>\n",
       "</table>\n",
       "</div>"
      ],
      "text/plain": [
       "           2017Q1  2017Q2  2017Q3  2017Q4  2018Q1\n",
       "line item                                        \n",
       "Revenue    115904  120854  118179  130936  117542\n",
       "Expenses    86544   89485   87484   97743   87688\n",
       "Profit      29360   31369   30695   33193   29854"
      ]
     },
     "execution_count": 249,
     "metadata": {},
     "output_type": "execute_result"
    }
   ],
   "source": [
    "WMT.set_index('line item', inplace=True)\n",
    "WMT"
   ]
  },
  {
   "cell_type": "code",
   "execution_count": 250,
   "metadata": {},
   "outputs": [
    {
     "data": {
      "text/html": [
       "<div>\n",
       "<style scoped>\n",
       "    .dataframe tbody tr th:only-of-type {\n",
       "        vertical-align: middle;\n",
       "    }\n",
       "\n",
       "    .dataframe tbody tr th {\n",
       "        vertical-align: top;\n",
       "    }\n",
       "\n",
       "    .dataframe thead th {\n",
       "        text-align: right;\n",
       "    }\n",
       "</style>\n",
       "<table border=\"1\" class=\"dataframe\">\n",
       "  <thead>\n",
       "    <tr style=\"text-align: right;\">\n",
       "      <th>line item</th>\n",
       "      <th>Revenue</th>\n",
       "      <th>Expenses</th>\n",
       "      <th>Profit</th>\n",
       "    </tr>\n",
       "  </thead>\n",
       "  <tbody>\n",
       "    <tr>\n",
       "      <th>2017Q1</th>\n",
       "      <td>115904</td>\n",
       "      <td>86544</td>\n",
       "      <td>29360</td>\n",
       "    </tr>\n",
       "    <tr>\n",
       "      <th>2017Q2</th>\n",
       "      <td>120854</td>\n",
       "      <td>89485</td>\n",
       "      <td>31369</td>\n",
       "    </tr>\n",
       "    <tr>\n",
       "      <th>2017Q3</th>\n",
       "      <td>118179</td>\n",
       "      <td>87484</td>\n",
       "      <td>30695</td>\n",
       "    </tr>\n",
       "    <tr>\n",
       "      <th>2017Q4</th>\n",
       "      <td>130936</td>\n",
       "      <td>97743</td>\n",
       "      <td>33193</td>\n",
       "    </tr>\n",
       "    <tr>\n",
       "      <th>2018Q1</th>\n",
       "      <td>117542</td>\n",
       "      <td>87688</td>\n",
       "      <td>29854</td>\n",
       "    </tr>\n",
       "  </tbody>\n",
       "</table>\n",
       "</div>"
      ],
      "text/plain": [
       "line item  Revenue  Expenses  Profit\n",
       "2017Q1      115904     86544   29360\n",
       "2017Q2      120854     89485   31369\n",
       "2017Q3      118179     87484   30695\n",
       "2017Q4      130936     97743   33193\n",
       "2018Q1      117542     87688   29854"
      ]
     },
     "execution_count": 250,
     "metadata": {},
     "output_type": "execute_result"
    }
   ],
   "source": [
    "WMT = WMT.T\n",
    "WMT"
   ]
  },
  {
   "cell_type": "code",
   "execution_count": 267,
   "metadata": {},
   "outputs": [
    {
     "data": {
      "text/plain": [
       "PeriodIndex(['2017Q1', '2017Q2', '2017Q3', '2017Q4', '2018Q1'], dtype='period[Q-JAN]', freq='Q-JAN')"
      ]
     },
     "execution_count": 267,
     "metadata": {},
     "output_type": "execute_result"
    }
   ],
   "source": [
    "WMT.index = pd.PeriodIndex(WMT.index, freq='Q-JAN')\n",
    "WMT.index"
   ]
  },
  {
   "cell_type": "code",
   "execution_count": 269,
   "metadata": {},
   "outputs": [],
   "source": [
    "WMT['start date'] = map(lambda x : x.start_time, WMT.index)\n",
    "WMT['end date'] = map(lambda x : x.end_time, WMT.index)"
   ]
  },
  {
   "cell_type": "code",
   "execution_count": 270,
   "metadata": {},
   "outputs": [
    {
     "data": {
      "text/html": [
       "<div>\n",
       "<style scoped>\n",
       "    .dataframe tbody tr th:only-of-type {\n",
       "        vertical-align: middle;\n",
       "    }\n",
       "\n",
       "    .dataframe tbody tr th {\n",
       "        vertical-align: top;\n",
       "    }\n",
       "\n",
       "    .dataframe thead th {\n",
       "        text-align: right;\n",
       "    }\n",
       "</style>\n",
       "<table border=\"1\" class=\"dataframe\">\n",
       "  <thead>\n",
       "    <tr style=\"text-align: right;\">\n",
       "      <th>line item</th>\n",
       "      <th>Revenue</th>\n",
       "      <th>Expenses</th>\n",
       "      <th>Profit</th>\n",
       "      <th>start date</th>\n",
       "      <th>end date</th>\n",
       "    </tr>\n",
       "  </thead>\n",
       "  <tbody>\n",
       "    <tr>\n",
       "      <th>2017Q1</th>\n",
       "      <td>115904</td>\n",
       "      <td>86544</td>\n",
       "      <td>29360</td>\n",
       "      <td>2016-02-01</td>\n",
       "      <td>2016-04-30 23:59:59.999999999</td>\n",
       "    </tr>\n",
       "    <tr>\n",
       "      <th>2017Q2</th>\n",
       "      <td>120854</td>\n",
       "      <td>89485</td>\n",
       "      <td>31369</td>\n",
       "      <td>2016-05-01</td>\n",
       "      <td>2016-07-31 23:59:59.999999999</td>\n",
       "    </tr>\n",
       "    <tr>\n",
       "      <th>2017Q3</th>\n",
       "      <td>118179</td>\n",
       "      <td>87484</td>\n",
       "      <td>30695</td>\n",
       "      <td>2016-08-01</td>\n",
       "      <td>2016-10-31 23:59:59.999999999</td>\n",
       "    </tr>\n",
       "    <tr>\n",
       "      <th>2017Q4</th>\n",
       "      <td>130936</td>\n",
       "      <td>97743</td>\n",
       "      <td>33193</td>\n",
       "      <td>2016-11-01</td>\n",
       "      <td>2017-01-31 23:59:59.999999999</td>\n",
       "    </tr>\n",
       "    <tr>\n",
       "      <th>2018Q1</th>\n",
       "      <td>117542</td>\n",
       "      <td>87688</td>\n",
       "      <td>29854</td>\n",
       "      <td>2017-02-01</td>\n",
       "      <td>2017-04-30 23:59:59.999999999</td>\n",
       "    </tr>\n",
       "  </tbody>\n",
       "</table>\n",
       "</div>"
      ],
      "text/plain": [
       "line item  Revenue  Expenses  Profit start date                      end date\n",
       "2017Q1      115904     86544   29360 2016-02-01 2016-04-30 23:59:59.999999999\n",
       "2017Q2      120854     89485   31369 2016-05-01 2016-07-31 23:59:59.999999999\n",
       "2017Q3      118179     87484   30695 2016-08-01 2016-10-31 23:59:59.999999999\n",
       "2017Q4      130936     97743   33193 2016-11-01 2017-01-31 23:59:59.999999999\n",
       "2018Q1      117542     87688   29854 2017-02-01 2017-04-30 23:59:59.999999999"
      ]
     },
     "execution_count": 270,
     "metadata": {},
     "output_type": "execute_result"
    }
   ],
   "source": [
    "WMT"
   ]
  },
  {
   "cell_type": "code",
   "execution_count": null,
   "metadata": {},
   "outputs": [],
   "source": []
  }
 ],
 "metadata": {
  "kernelspec": {
   "display_name": "Python 2",
   "language": "python",
   "name": "python2"
  },
  "language_info": {
   "codemirror_mode": {
    "name": "ipython",
    "version": 2
   },
   "file_extension": ".py",
   "mimetype": "text/x-python",
   "name": "python",
   "nbconvert_exporter": "python",
   "pygments_lexer": "ipython2",
   "version": "2.7.15"
  }
 },
 "nbformat": 4,
 "nbformat_minor": 2
}
