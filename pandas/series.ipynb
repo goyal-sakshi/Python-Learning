{
 "cells": [
  {
   "cell_type": "code",
   "execution_count": 8,
   "metadata": {},
   "outputs": [
    {
     "data": {
      "text/plain": [
       "a    1\n",
       "b    2\n",
       "c    2\n",
       "d    3\n",
       "e    4\n",
       "f    9\n",
       "dtype: int64"
      ]
     },
     "execution_count": 8,
     "metadata": {},
     "output_type": "execute_result"
    }
   ],
   "source": [
    "import pandas as pd\n",
    "import numpy as np\n",
    "\n",
    "obj1 = pd.Series([1, 2, 2, 3, 4, 9], index=['a','b','c','d','e','f'])\n",
    "obj1"
   ]
  },
  {
   "cell_type": "code",
   "execution_count": 9,
   "metadata": {},
   "outputs": [
    {
     "name": "stdout",
     "output_type": "stream",
     "text": [
      "[1 2 2 3 4 9]\n",
      "Index([u'a', u'b', u'c', u'd', u'e', u'f'], dtype='object')\n",
      "1\n",
      "a    1\n",
      "b    2\n",
      "dtype: int64\n"
     ]
    }
   ],
   "source": [
    "print obj1.values\n",
    "print obj1.index\n",
    "print obj1['a']\n",
    "print obj1[['a','b']]"
   ]
  },
  {
   "cell_type": "code",
   "execution_count": 10,
   "metadata": {},
   "outputs": [
    {
     "data": {
      "text/plain": [
       "0    23\n",
       "1    54\n",
       "2     3\n",
       "3     4\n",
       "4    56\n",
       "5    43\n",
       "dtype: int64"
      ]
     },
     "execution_count": 10,
     "metadata": {},
     "output_type": "execute_result"
    }
   ],
   "source": [
    "obj2 = pd.Series([23, 54, 3, 4, 56, 43])\n",
    "obj2"
   ]
  },
  {
   "cell_type": "code",
   "execution_count": 11,
   "metadata": {},
   "outputs": [
    {
     "name": "stdout",
     "output_type": "stream",
     "text": [
      "0    23\n",
      "1    54\n",
      "4    56\n",
      "5    43\n",
      "dtype: int64\n",
      "0     46\n",
      "1    108\n",
      "2      6\n",
      "3      8\n",
      "4    112\n",
      "5     86\n",
      "dtype: int64\n",
      "0    9.744803e+09\n",
      "1    2.830753e+23\n",
      "2    2.008554e+01\n",
      "3    5.459815e+01\n",
      "4    2.091659e+24\n",
      "5    4.727839e+18\n",
      "dtype: float64\n",
      "True\n"
     ]
    }
   ],
   "source": [
    "print obj2[obj2 > 20]\n",
    "print obj2 * 2\n",
    "print np.exp(obj2)\n",
    "print 'a' in obj1    # checks for the index in series"
   ]
  },
  {
   "cell_type": "code",
   "execution_count": 15,
   "metadata": {},
   "outputs": [
    {
     "data": {
      "text/plain": [
       "country\n",
       "app    100\n",
       "bpp    200\n",
       "cpp    300\n",
       "Name: population, dtype: int64"
      ]
     },
     "execution_count": 15,
     "metadata": {},
     "output_type": "execute_result"
    }
   ],
   "source": [
    "obj3 = pd.Series({'app' : 100, 'bpp' : 200, 'cpp' : 300})\n",
    "obj3.name = 'population'\n",
    "obj3.index.name = 'country'\n",
    "obj3"
   ]
  },
  {
   "cell_type": "code",
   "execution_count": 16,
   "metadata": {},
   "outputs": [
    {
     "data": {
      "text/plain": [
       "app    100.0\n",
       "bpp    200.0\n",
       "cpp    300.0\n",
       "dpp      NaN\n",
       "epp      NaN\n",
       "Name: population, dtype: float64"
      ]
     },
     "execution_count": 16,
     "metadata": {},
     "output_type": "execute_result"
    }
   ],
   "source": [
    "ind = ['app', 'bpp', 'cpp','dpp','epp']\n",
    "obj4 = pd.Series(obj3, index=ind)\n",
    "obj4"
   ]
  },
  {
   "cell_type": "code",
   "execution_count": 19,
   "metadata": {},
   "outputs": [
    {
     "name": "stdout",
     "output_type": "stream",
     "text": [
      "app    False\n",
      "bpp    False\n",
      "cpp    False\n",
      "dpp     True\n",
      "epp     True\n",
      "Name: population, dtype: bool\n",
      "app     True\n",
      "bpp     True\n",
      "cpp     True\n",
      "dpp    False\n",
      "epp    False\n",
      "Name: population, dtype: bool\n",
      "False\n",
      "app    200.0\n",
      "bpp    400.0\n",
      "cpp    600.0\n",
      "dpp      NaN\n",
      "epp      NaN\n",
      "Name: population, dtype: float64\n"
     ]
    }
   ],
   "source": [
    "print obj4.isnull()\n",
    "print obj4.notnull()\n",
    "print 'fpp' in obj4\n",
    "print obj3 + obj4"
   ]
  },
  {
   "cell_type": "code",
   "execution_count": null,
   "metadata": {},
   "outputs": [],
   "source": []
  }
 ],
 "metadata": {
  "kernelspec": {
   "display_name": "Python 2",
   "language": "python",
   "name": "python2"
  },
  "language_info": {
   "codemirror_mode": {
    "name": "ipython",
    "version": 2
   },
   "file_extension": ".py",
   "mimetype": "text/x-python",
   "name": "python",
   "nbconvert_exporter": "python",
   "pygments_lexer": "ipython2",
   "version": "2.7.15"
  }
 },
 "nbformat": 4,
 "nbformat_minor": 2
}
