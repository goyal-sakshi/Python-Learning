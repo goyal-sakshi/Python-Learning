{
 "cells": [
  {
   "cell_type": "code",
   "execution_count": 21,
   "metadata": {},
   "outputs": [
    {
     "name": "stdout",
     "output_type": "stream",
     "text": [
      "hello\\n\n"
     ]
    }
   ],
   "source": [
    "print r'hello\\n'"
   ]
  },
  {
   "cell_type": "code",
   "execution_count": null,
   "metadata": {},
   "outputs": [],
   "source": []
  },
  {
   "cell_type": "code",
   "execution_count": 1,
   "metadata": {},
   "outputs": [
    {
     "data": {
      "text/plain": [
       "<_sre.SRE_Match at 0x7f0d283e6f38>"
      ]
     },
     "execution_count": 1,
     "metadata": {},
     "output_type": "execute_result"
    }
   ],
   "source": [
    "import re\n",
    "re.search(r'\\n','\\n')   # pattern then string\n",
    "                       # appying a raw string to pattern does not effect, it will remain the newline"
   ]
  },
  {
   "cell_type": "code",
   "execution_count": 31,
   "metadata": {},
   "outputs": [
    {
     "data": {
      "text/plain": [
       "'gdf=hrh=rj'"
      ]
     },
     "execution_count": 31,
     "metadata": {},
     "output_type": "execute_result"
    }
   ],
   "source": [
    "re.match('(.*?)=(\\S+)','nfe=gdf=hrh=rj').group(2)   # searches in the beginning of the string"
   ]
  },
  {
   "cell_type": "code",
   "execution_count": 107,
   "metadata": {},
   "outputs": [
    {
     "data": {
      "text/plain": [
       "True"
      ]
     },
     "execution_count": 107,
     "metadata": {},
     "output_type": "execute_result"
    }
   ],
   "source": [
    "bool(re.match('.+and','njbjand'))"
   ]
  },
  {
   "cell_type": "code",
   "execution_count": 116,
   "metadata": {},
   "outputs": [
    {
     "data": {
      "text/plain": [
       "2"
      ]
     },
     "execution_count": 116,
     "metadata": {},
     "output_type": "execute_result"
    }
   ],
   "source": [
    "re.search('n','cnjwfnejfhn').start()   # strat index\n",
    "re.search('n','cnjwfnejfhn').end()     # end index, meaning next index of string end"
   ]
  },
  {
   "cell_type": "code",
   "execution_count": 124,
   "metadata": {},
   "outputs": [
    {
     "data": {
      "text/plain": [
       "True"
      ]
     },
     "execution_count": 124,
     "metadata": {},
     "output_type": "execute_result"
    }
   ],
   "source": [
    "bool(re.search('n|j','cnpjwfnejfhn'))"
   ]
  },
  {
   "cell_type": "code",
   "execution_count": 46,
   "metadata": {},
   "outputs": [
    {
     "data": {
      "text/plain": [
       "['print ekvef', 'print n']"
      ]
     },
     "execution_count": 46,
     "metadata": {},
     "output_type": "execute_result"
    }
   ],
   "source": [
    "re.findall('print \\S+','print ekvef   print n')"
   ]
  },
  {
   "cell_type": "markdown",
   "metadata": {},
   "source": [
    "# Character set"
   ]
  },
  {
   "cell_type": "code",
   "execution_count": 12,
   "metadata": {},
   "outputs": [
    {
     "data": {
      "text/plain": [
       "'cn_jwfnejf3hn'"
      ]
     },
     "execution_count": 12,
     "metadata": {},
     "output_type": "execute_result"
    }
   ],
   "source": [
    "re.search('(\\S+)\\d$','cn_jwfnejf3hn2').group(1)    # \\w -> alphanumeric words a-zA-Z0-9_"
   ]
  },
  {
   "cell_type": "code",
   "execution_count": 22,
   "metadata": {},
   "outputs": [
    {
     "data": {
      "text/plain": [
       "'Ornado'"
      ]
     },
     "execution_count": 22,
     "metadata": {},
     "output_type": "execute_result"
    }
   ],
   "source": [
    "re.search('\\d+$','Ornado2').group()\n",
    "\n",
    "re.sub('\\d+$','','Ornado2')"
   ]
  },
  {
   "cell_type": "markdown",
   "metadata": {},
   "source": [
    "# Quantifiers"
   ]
  },
  {
   "cell_type": "code",
   "execution_count": 155,
   "metadata": {},
   "outputs": [],
   "source": [
    "# '+' -> 1 or more\n",
    "# '*' -> 0 or more\n",
    "# '?' -> 0 or 1\n",
    "# {n,m} -> n to m repetations=={least number of repetations, most number of repetations}"
   ]
  },
  {
   "cell_type": "code",
   "execution_count": 163,
   "metadata": {},
   "outputs": [
    {
     "data": {
      "text/plain": [
       "'wj ojc'"
      ]
     },
     "execution_count": 163,
     "metadata": {},
     "output_type": "execute_result"
    }
   ],
   "source": [
    "re.search('\\w+\\W+\\w+','wj ojc').group()"
   ]
  },
  {
   "cell_type": "code",
   "execution_count": 208,
   "metadata": {},
   "outputs": [
    {
     "data": {
      "text/plain": [
       "'/edu/languages/google-python-class/images/puzzle/a-baaa.jpg'"
      ]
     },
     "execution_count": 208,
     "metadata": {},
     "output_type": "execute_result"
    }
   ],
   "source": [
    "stri = '10.254.254.58 - - [06/Aug/2007:00:10:05 -0700] \"GET /edu/languages/google-python-class/images/puzzle/a-baaa.jpg HTTP/1.0\" 200 2309 \"-\" \"googlebot-mscrawl-moma (enterprise; bar-XYZ; foo123@google.com,foo123@google.com,foo123@google.com,foo123@google.com)\"\\n'\n",
    "re.search('/\\S*',re.search('GET\\s\\S*',stri).group()).group()"
   ]
  },
  {
   "cell_type": "code",
   "execution_count": 211,
   "metadata": {},
   "outputs": [
    {
     "ename": "TypeError",
     "evalue": "expected string or buffer",
     "output_type": "error",
     "traceback": [
      "\u001b[0;31m---------------------------------------------------------------------------\u001b[0m",
      "\u001b[0;31mTypeError\u001b[0m                                 Traceback (most recent call last)",
      "\u001b[0;32m<ipython-input-211-05e85c2e782e>\u001b[0m in \u001b[0;36m<module>\u001b[0;34m()\u001b[0m\n\u001b[0;32m----> 1\u001b[0;31m \u001b[0mre\u001b[0m\u001b[0;34m.\u001b[0m\u001b[0msearch\u001b[0m\u001b[0;34m(\u001b[0m\u001b[0;34m'/\\S*'\u001b[0m\u001b[0;34m,\u001b[0m\u001b[0mre\u001b[0m\u001b[0;34m.\u001b[0m\u001b[0msearch\u001b[0m\u001b[0;34m(\u001b[0m\u001b[0;34m'GET\\s\\S*'\u001b[0m\u001b[0;34m,\u001b[0m\u001b[0mre\u001b[0m\u001b[0;34m.\u001b[0m\u001b[0msearch\u001b[0m\u001b[0;34m(\u001b[0m\u001b[0;34m'\\w*puzzle\\w*'\u001b[0m\u001b[0;34m,\u001b[0m\u001b[0mstri\u001b[0m\u001b[0;34m)\u001b[0m\u001b[0;34m)\u001b[0m\u001b[0;34m.\u001b[0m\u001b[0mgroup\u001b[0m\u001b[0;34m(\u001b[0m\u001b[0;34m)\u001b[0m\u001b[0;34m)\u001b[0m\u001b[0;34m.\u001b[0m\u001b[0mgroup\u001b[0m\u001b[0;34m(\u001b[0m\u001b[0;34m)\u001b[0m\u001b[0;34m\u001b[0m\u001b[0m\n\u001b[0m",
      "\u001b[0;32m/home/sa.goyal/anaconda2/lib/python2.7/re.pyc\u001b[0m in \u001b[0;36msearch\u001b[0;34m(pattern, string, flags)\u001b[0m\n\u001b[1;32m    144\u001b[0m     \"\"\"Scan through string looking for a match to the pattern, returning\n\u001b[1;32m    145\u001b[0m     a match object, or None if no match was found.\"\"\"\n\u001b[0;32m--> 146\u001b[0;31m     \u001b[0;32mreturn\u001b[0m \u001b[0m_compile\u001b[0m\u001b[0;34m(\u001b[0m\u001b[0mpattern\u001b[0m\u001b[0;34m,\u001b[0m \u001b[0mflags\u001b[0m\u001b[0;34m)\u001b[0m\u001b[0;34m.\u001b[0m\u001b[0msearch\u001b[0m\u001b[0;34m(\u001b[0m\u001b[0mstring\u001b[0m\u001b[0;34m)\u001b[0m\u001b[0;34m\u001b[0m\u001b[0m\n\u001b[0m\u001b[1;32m    147\u001b[0m \u001b[0;34m\u001b[0m\u001b[0m\n\u001b[1;32m    148\u001b[0m \u001b[0;32mdef\u001b[0m \u001b[0msub\u001b[0m\u001b[0;34m(\u001b[0m\u001b[0mpattern\u001b[0m\u001b[0;34m,\u001b[0m \u001b[0mrepl\u001b[0m\u001b[0;34m,\u001b[0m \u001b[0mstring\u001b[0m\u001b[0;34m,\u001b[0m \u001b[0mcount\u001b[0m\u001b[0;34m=\u001b[0m\u001b[0;36m0\u001b[0m\u001b[0;34m,\u001b[0m \u001b[0mflags\u001b[0m\u001b[0;34m=\u001b[0m\u001b[0;36m0\u001b[0m\u001b[0;34m)\u001b[0m\u001b[0;34m:\u001b[0m\u001b[0;34m\u001b[0m\u001b[0m\n",
      "\u001b[0;31mTypeError\u001b[0m: expected string or buffer"
     ]
    }
   ],
   "source": [
    "re.search('/\\S*',re.search('GET\\s\\S*',re.search('\\w*puzzle\\w*',stri)).group()).group()"
   ]
  },
  {
   "cell_type": "code",
   "execution_count": 235,
   "metadata": {},
   "outputs": [
    {
     "data": {
      "text/plain": [
       "'img.jpgeecf'"
      ]
     },
     "execution_count": 235,
     "metadata": {},
     "output_type": "execute_result"
    }
   ],
   "source": [
    "strii = ['img.jpg','eecf']\n",
    "str(''.join(strii))"
   ]
  },
  {
   "cell_type": "code",
   "execution_count": 246,
   "metadata": {},
   "outputs": [
    {
     "data": {
      "text/plain": [
       "'/edu/languages/google-python-class/images/puzzle/a-baaa.jpg'"
      ]
     },
     "execution_count": 246,
     "metadata": {},
     "output_type": "execute_result"
    }
   ],
   "source": [
    "stri = '10.254.254.58 - - [06/Aug/2007:00:10:05 -0700] \"GET /edu/languages/google-python-class/images/puzzle/a-baaa.jpg HTTP/1.0\" 200 2309 \"-\" \"googlebot-mscrawl-moma (enterprise; bar-XYZ; foo123@google.com,foo123@google.com,foo123@google.com,foo123@google.com)\"\\n'\n",
    "stri.index('.jpg')\n",
    "stri[52:111]"
   ]
  },
  {
   "cell_type": "code",
   "execution_count": 274,
   "metadata": {},
   "outputs": [
    {
     "name": "stdout",
     "output_type": "stream",
     "text": [
      "-bbfj.jpg\n",
      "-bbic.jpg\n",
      "-bajg.jpg\n"
     ]
    },
    {
     "data": {
      "text/plain": [
       "[('p-babf-bajg.jpg', '-bajg.jpg'),\n",
       " ('p-babd-bbfj.jpg', '-bbfj.jpg'),\n",
       " ('p-baah-bbic.jpg', '-bbic.jpg')]"
      ]
     },
     "execution_count": 274,
     "metadata": {},
     "output_type": "execute_result"
    }
   ],
   "source": [
    "d = {'p-baah-bbic.jpg':'-bbic.jpg','p-babd-bbfj.jpg':'-bbfj.jpg','p-babf-bajg.jpg':'-bajg.jpg'}\n",
    "for i in d:\n",
    "    print re.search('-\\w\\w\\w\\w.jpg',i).group()\n",
    "sorted(d.items(), key=lambda x : x[1])"
   ]
  },
  {
   "cell_type": "code",
   "execution_count": 275,
   "metadata": {},
   "outputs": [],
   "source": [
    "final_urls = ['p-baah-bbic.jpg','p-babd-bbfj.jpg','p-babf-bajg.jpg']"
   ]
  },
  {
   "cell_type": "code",
   "execution_count": 292,
   "metadata": {},
   "outputs": [
    {
     "name": "stdout",
     "output_type": "stream",
     "text": [
      "p-babf-bajg.jpg\n",
      "p-babd-bbfj.jpg\n",
      "p-baah-bbic.jpg\n"
     ]
    }
   ],
   "source": [
    "d = {}\n",
    "for i in final_urls:\n",
    "    d[i] = re.search('\\w\\w\\w\\w.jpg',i).group()\n",
    "\n",
    "l = sorted(d.items(), key=lambda x : x[1])\n",
    "for i in l:\n",
    "    print i[0]"
   ]
  },
  {
   "cell_type": "code",
   "execution_count": 34,
   "metadata": {},
   "outputs": [
    {
     "name": "stdout",
     "output_type": "stream",
     "text": [
      "delete from table ejnnfc\n"
     ]
    },
    {
     "data": {
      "text/plain": [
       "'table'"
      ]
     },
     "execution_count": 34,
     "metadata": {},
     "output_type": "execute_result"
    }
   ],
   "source": [
    "import re\n",
    "s = 'delete   FROM table ejnnfc'\n",
    "ss = \" \".join(s.split()).lower()\n",
    "print ss\n",
    "st = re.search('from (\\S+)',re.search('delete from \\S+',\" \".join(s.split()).lower()).group()).group(1)\n",
    "st"
   ]
  },
  {
   "cell_type": "code",
   "execution_count": 155,
   "metadata": {},
   "outputs": [
    {
     "name": "stdout",
     "output_type": "stream",
     "text": [
      "sys.path.insert(0,'vewvewvwe')\n"
     ]
    },
    {
     "data": {
      "text/plain": [
       "\"0,'vewvewvwe'\""
      ]
     },
     "execution_count": 155,
     "metadata": {},
     "output_type": "execute_result"
    }
   ],
   "source": [
    "import re\n",
    "s = \"sys.path.insert(0,'insert')\"\n",
    "t = re.search('sys.path.*',s)\n",
    "f = \" \".join(t.group().split())\n",
    "print f\n",
    "g = re.search('\\((.*)\\)',f).group(1)\n",
    "g"
   ]
  },
  {
   "cell_type": "code",
   "execution_count": 250,
   "metadata": {},
   "outputs": [
    {
     "data": {
      "text/plain": [
       "''"
      ]
     },
     "execution_count": 250,
     "metadata": {},
     "output_type": "execute_result"
    }
   ],
   "source": [
    "ss = '''#!fcjij\n",
    "'''\n",
    "re.search('\\n+(.*)',ss).group(1)"
   ]
  },
  {
   "cell_type": "code",
   "execution_count": 247,
   "metadata": {},
   "outputs": [],
   "source": [
    "import re\n",
    "import sys\n",
    "import fileinput\n",
    "\n",
    "import_list = []\n",
    "\n",
    "for line in fileinput.FileInput(\"/home/sa.goyal/Desktop/file.txt\", inplace=1):\n",
    "    if line is None:\n",
    "        break\n",
    "        \n",
    "    importSearch = re.search('import.*',line)\n",
    "    sysSearch = re.search('sys.path.*',line)\n",
    "    nextline = re.search('\\n(.*)',line)\n",
    "    if nextline:\n",
    "        print nextVar.group(1) + 'fc3f'\n",
    "        #sys.stdout.write(line)\n",
    "    '''if nextVar == 'imp' and nextVar == 'sys':\n",
    "        if importSearch:\n",
    "            import_list.append(importSearch.group())\n",
    "        if sysSearch:\n",
    "            import_list.append(sysSearch.group())\n",
    "    else:\n",
    "        if \"sys.path.insert(0,'insert')\" not in import_list:\n",
    "            line = \"sys.path.insert(0,'insert')\\nimport logger\\n\"\n",
    "        else:\n",
    "            if \"import logger\" not in import_list:\n",
    "                line = \"import logger\"'''\n",
    "         \n",
    "    #t = re.search('print.*',line)\n",
    "    #if t:\n",
    "    #    tb = \" \".join(t.group().split())\n",
    "    #    line = line.replace(t.group(),\"logger.info({ss})\".format(ss=re.search(' (.*)',tb).group(1)))\n",
    "    #sys.stdout.write(line)"
   ]
  },
  {
   "cell_type": "code",
   "execution_count": 3,
   "metadata": {},
   "outputs": [],
   "source": [
    "import re\n",
    "import sys\n",
    "import fileinput\n",
    "\n",
    "imp = []\n",
    "flag = False\n",
    "with open(\"/home/sa.goyal/Desktop/file.txt\", 'r') as fh:\n",
    "    lines = fh.readlines()\n",
    "    \n",
    "for f in lines:\n",
    "    s = re.search('import.*|sys.path.*',f)\n",
    "    if s:\n",
    "        imp.append(s.group())\n",
    "\n",
    "if \"sys.path.insert(0,'insert')\" not in imp and \"sys.path.append('insert')\" not in imp:\n",
    "    l1 = \"sys.path.insert(0,'insert')\\nimport logger\\n\"\n",
    "    flag = True\n",
    "elif \"import logger\" not in imp:\n",
    "    l1 = \"import logger\\n\"\n",
    "    flag = True\n",
    "\n",
    "count = 0\n",
    "for line in fileinput.FileInput(\"/home/sa.goyal/Desktop/file.txt\", inplace=1):\n",
    "    if line is None:\n",
    "        break\n",
    "    \n",
    "    if flag == True:\n",
    "        if len(imp) > 0 and line == imp[-1] + '\\n':\n",
    "            line = line +'\\n'+ l1\n",
    "        elif count == 1 and len(imp) == 0:\n",
    "            line = l1 + line\n",
    "        \n",
    "    t = re.search('print.*',line)\n",
    "    if t:\n",
    "        tb = \" \".join(t.group().split())\n",
    "        line = line.replace(t.group(),\"logger.info({ss})\".format(ss=re.search(' (.*)',tb).group(1)))\n",
    "    sys.stdout.write(line)\n",
    "    count += 1"
   ]
  },
  {
   "cell_type": "code",
   "execution_count": 1,
   "metadata": {},
   "outputs": [
    {
     "name": "stdout",
     "output_type": "stream",
     "text": [
      "['\\nrev', '\\nerv', '\\nemail_report:', '\\n    to:', '\\n        - rahul@123', '\\n        - sumit@123', '\\n    cc:', '\\n        - abc', '\\n        - abc', '\\n        - manish@123', '\\n        - surbhi@123', '\\n    email_error:', '\\nrfr', '\\nrg', '\\n4gv4', '\\nrt', '\\n']\n"
     ]
    }
   ],
   "source": [
    "import re\n",
    "with open(\"/home/sa.goyal/Desktop/ff.txt\",'r') as fh:\n",
    "    data = fh.read()\n",
    "    \n",
    "ll = re.findall(\"\\n.*\",data)\n",
    "for i in ll:\n",
    "    if i=='\\n    cc:':\n",
    "        cc_index = ll.index(i)\n",
    "        break\n",
    "ll.insert(cc_index+1,'\\n        - abc')\n",
    "print ll\n",
    "exit()\n",
    "with open(\"/home/sa.goyal/Desktop/ff.txt\",'w') as fh:\n",
    "    fh.writelines(ll)"
   ]
  },
  {
   "cell_type": "code",
   "execution_count": 144,
   "metadata": {
    "scrolled": true
   },
   "outputs": [
    {
     "name": "stdout",
     "output_type": "stream",
     "text": [
      "7\n"
     ]
    }
   ],
   "source": [
    "import re\n",
    "import sys\n",
    "import fileinput\n",
    "\n",
    "with open(\"/home/sa.goyal/Desktop/ff.txt\",'r') as fh:\n",
    "    data = fh.readlines()\n",
    "s = '    '\n",
    "d = '        '\n",
    "flag = False\n",
    "f=False\n",
    "for i in data:\n",
    "    if i.rstrip()=='    cc: []' or i.rstrip()=='    cc:':\n",
    "        cc_index = data.index(i)\n",
    "        break\n",
    "    elif i.rstrip()=='  cc:' or i.rstrip()=='  cc: []':\n",
    "        f = True \n",
    "        cc_index = data.index(i)\n",
    "        print cc_index\n",
    "        break\n",
    "        \n",
    "count=0\n",
    "if f==True:\n",
    "    s = '  '\n",
    "    d = '    '\n",
    "\n",
    "for line in fileinput.FileInput(\"/home/sa.goyal/Desktop/ff.txt\", inplace=1):\n",
    "    if line is None:\n",
    "        break\n",
    "\n",
    "    if line.rstrip() == s + 'cc: []':\n",
    "        flag = True\n",
    "        line = s + 'cc:\\n' + d + '- abc\\n'\n",
    "    elif count==cc_index+1 and line.rstrip() != d + '- abc' and flag==False:\n",
    "        line = d + \"- abc\\n\" + line\n",
    "    \n",
    "    sys.stdout.write(line)\n",
    "    count=count+1"
   ]
  },
  {
   "cell_type": "markdown",
   "metadata": {},
   "source": [
    "ernvcok\n",
    "rev\n",
    "erv\n",
    "email_report:\n",
    "    to:\n",
    "        - rahul@123\n",
    "        - sumit@123\n",
    "    cc:\n",
    "        - manish@123\n",
    "        - surbhi@123\n",
    "    email_error:\n",
    "rfr\n",
    "rg\n",
    "gv4\n",
    "rt"
   ]
  },
  {
   "cell_type": "code",
   "execution_count": 85,
   "metadata": {},
   "outputs": [
    {
     "data": {
      "text/plain": [
       "'ernvcok\\nrev\\nerv\\nemail_report:\\n    to:\\n        - rahul@123\\n        - sumit@123\\n    cc:\\n        - manish@123\\n        - surbhi@123\\n    email_error:\\nrfr\\nrg\\n4gv4\\nrt'"
      ]
     },
     "execution_count": 85,
     "metadata": {},
     "output_type": "execute_result"
    }
   ],
   "source": [
    "code"
   ]
  },
  {
   "cell_type": "code",
   "execution_count": 86,
   "metadata": {},
   "outputs": [],
   "source": [
    "import re\n",
    "ll = re.findall(\"\\n.*\",code)"
   ]
  },
  {
   "cell_type": "code",
   "execution_count": 87,
   "metadata": {},
   "outputs": [
    {
     "data": {
      "text/plain": [
       "['\\nrev',\n",
       " '\\nerv',\n",
       " '\\nemail_report:',\n",
       " '\\n    to:',\n",
       " '\\n        - rahul@123',\n",
       " '\\n        - sumit@123',\n",
       " '\\n    cc:',\n",
       " '\\n        - manish@123',\n",
       " '\\n        - surbhi@123',\n",
       " '\\n    email_error:',\n",
       " '\\nrfr',\n",
       " '\\nrg',\n",
       " '\\n4gv4',\n",
       " '\\nrt']"
      ]
     },
     "execution_count": 87,
     "metadata": {},
     "output_type": "execute_result"
    }
   ],
   "source": [
    "ll"
   ]
  },
  {
   "cell_type": "code",
   "execution_count": 89,
   "metadata": {},
   "outputs": [
    {
     "data": {
      "text/plain": [
       "['\\nrev',\n",
       " '\\nerv',\n",
       " '\\nemail_report:',\n",
       " '\\n    to:',\n",
       " '\\n        - rahul@123',\n",
       " '\\n        - sumit@123',\n",
       " '\\n    cc:',\n",
       " '\\n        - abc',\n",
       " '\\n        - abc',\n",
       " '\\n        - manish@123',\n",
       " '\\n        - surbhi@123',\n",
       " '\\n    email_error:',\n",
       " '\\nrfr',\n",
       " '\\nrg',\n",
       " '\\n4gv4',\n",
       " '\\nrt']"
      ]
     },
     "execution_count": 89,
     "metadata": {},
     "output_type": "execute_result"
    }
   ],
   "source": [
    "for i in ll:\n",
    "    if i=='\\n    cc:':\n",
    "        cc_index = ll.index(i)\n",
    "        break\n",
    "ll.insert(cc_index+1,'\\n        - abc')\n",
    "ll"
   ]
  },
  {
   "cell_type": "code",
   "execution_count": 32,
   "metadata": {},
   "outputs": [
    {
     "data": {
      "text/plain": [
       "'v\\n    r4tv\\n    <body>cr \\n    4t\\n    vt4\\n    g\\n    4g\\n        </body>\\n'"
      ]
     },
     "execution_count": 32,
     "metadata": {},
     "output_type": "execute_result"
    }
   ],
   "source": [
    "import re\n",
    "ss = '''v\n",
    "    r4tv\n",
    "    <body>cr \n",
    "    4t\n",
    "    vt4\n",
    "    g\n",
    "    4g\n",
    "        </body>\n",
    "'''\n",
    "ss"
   ]
  },
  {
   "cell_type": "code",
   "execution_count": 83,
   "metadata": {},
   "outputs": [],
   "source": [
    "s = 'e cvv <fewgwrg 12:34rg  r 56:78:12'"
   ]
  },
  {
   "cell_type": "code",
   "execution_count": 87,
   "metadata": {},
   "outputs": [
    {
     "data": {
      "text/plain": [
       "'56:78'"
      ]
     },
     "execution_count": 87,
     "metadata": {},
     "output_type": "execute_result"
    }
   ],
   "source": [
    "re.match('(.*)<.*(\\d\\d:\\d\\d).*(\\d\\d:\\d\\d):\\d\\d',s).group(3)"
   ]
  }
 ],
 "metadata": {
  "kernelspec": {
   "display_name": "Python 2",
   "language": "python",
   "name": "python2"
  },
  "language_info": {
   "codemirror_mode": {
    "name": "ipython",
    "version": 2
   },
   "file_extension": ".py",
   "mimetype": "text/x-python",
   "name": "python",
   "nbconvert_exporter": "python",
   "pygments_lexer": "ipython2",
   "version": "2.7.15"
  }
 },
 "nbformat": 4,
 "nbformat_minor": 2
}
