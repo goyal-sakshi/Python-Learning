{
 "cells": [
  {
   "cell_type": "code",
   "execution_count": 1,
   "metadata": {},
   "outputs": [],
   "source": [
    "l1 = ['my','name','is','sakshi']\n",
    "with open('test.txt','w') as fh:\n",
    "    for i in l1:\n",
    "        fh.write(i + \"\\n\")\n",
    "        \n",
    "with open('test.txt','r') as fh:\n",
    "    l2 = fh.readlines()\n",
    "    l2.reverse()\n",
    "    \n",
    "with open('test.txt','w') as fh:\n",
    "        fh.writelines(l2)\n",
    "        "
   ]
  },
  {
   "cell_type": "code",
   "execution_count": 84,
   "metadata": {},
   "outputs": [],
   "source": [
    "tot = 0\n",
    "with open('/home/sa.goyal/Desktop/abc.py','r') as fh:\n",
    "    con = fh.read().strip().splitlines()\n",
    "    \n",
    "os.chmod('/home/sa.goyal/Desktop/ff', 0o777) # for example"
   ]
  },
  {
   "cell_type": "code",
   "execution_count": 69,
   "metadata": {},
   "outputs": [
    {
     "name": "stdout",
     "output_type": "stream",
     "text": [
      "2019-01-06 11:20:56\n",
      "2019-01-07 10:12:32\n",
      "False\n"
     ]
    }
   ],
   "source": [
    "import os\n",
    "from datetime import timedelta, datetime\n",
    "ll = os.listdir('/home/sa.goyal/Desktop/')\n",
    "with open('/home/sa.goyal/Desktop/abc.py','r') as fh:\n",
    "    content = fh.read().splitlines()\n",
    "    last_modify = datetime.fromtimestamp(os.path.getctime('/home/sa.goyal/Desktop/abc.py'))\n",
    "    \n",
    "\n",
    "print datetime.now().replace(microsecond=0) - timedelta(days=1)\n",
    "print last_modify.replace(microsecond=0)\n",
    "print (last_modify) <= (datetime.now() - timedelta(days=1))\n",
    "if (last_modify) <= (datetime.now() - timedelta(days=1)):\n",
    "    print 'ok'"
   ]
  },
  {
   "cell_type": "code",
   "execution_count": 46,
   "metadata": {},
   "outputs": [
    {
     "data": {
      "text/plain": [
       "'seq :0, :1, :2, :3'"
      ]
     },
     "execution_count": 46,
     "metadata": {},
     "output_type": "execute_result"
    }
   ],
   "source": [
    "'seq ' + ', '.join([':' + str(i) for i in range(len(ll))])"
   ]
  },
  {
   "cell_type": "code",
   "execution_count": 63,
   "metadata": {},
   "outputs": [],
   "source": [
    "ll = ['table3','table1','table2']"
   ]
  },
  {
   "cell_type": "code",
   "execution_count": 64,
   "metadata": {},
   "outputs": [],
   "source": [
    "counter = {'table1':1,'table2':2,'table3':3}"
   ]
  },
  {
   "cell_type": "code",
   "execution_count": 65,
   "metadata": {},
   "outputs": [
    {
     "data": {
      "text/plain": [
       "['table1', 'table2', 'table3']"
      ]
     },
     "execution_count": 65,
     "metadata": {},
     "output_type": "execute_result"
    }
   ],
   "source": [
    "sorted(ll, key=lambda x: (counter[x], x))"
   ]
  },
  {
   "cell_type": "code",
   "execution_count": 68,
   "metadata": {},
   "outputs": [
    {
     "data": {
      "text/plain": [
       "[['a', 'a', 'a'], ['b', 'b', 'b'], ['c', 'c', 'c'], ['d', 'd', 'd']]"
      ]
     },
     "execution_count": 68,
     "metadata": {},
     "output_type": "execute_result"
    }
   ],
   "source": [
    "ll = [['a','a','a'],['b','b','b'],['c','c','c'],['d','d','d']]\n",
    "ll"
   ]
  },
  {
   "cell_type": "code",
   "execution_count": 77,
   "metadata": {},
   "outputs": [],
   "source": [
    "dd = []"
   ]
  },
  {
   "cell_type": "code",
   "execution_count": 78,
   "metadata": {},
   "outputs": [
    {
     "data": {
      "text/plain": [
       "[['a', 'a'], ['b', 'b'], ['c', 'c'], ['d', 'd']]"
      ]
     },
     "execution_count": 78,
     "metadata": {},
     "output_type": "execute_result"
    }
   ],
   "source": [
    "for i in ll:\n",
    "    dd.append([i[1],i[2]])\n",
    "dd"
   ]
  },
  {
   "cell_type": "code",
   "execution_count": 83,
   "metadata": {},
   "outputs": [
    {
     "data": {
      "text/plain": [
       "'asdas'"
      ]
     },
     "execution_count": 83,
     "metadata": {},
     "output_type": "execute_result"
    }
   ],
   "source": [
    "aa = 'asdas '\n",
    "aa.strip()"
   ]
  },
  {
   "cell_type": "code",
   "execution_count": 3,
   "metadata": {},
   "outputs": [],
   "source": [
    "#with open('/home/sa.goyal/Desktop/abc.py','rw') as fh:\n",
    "#    lines = fh.read()\n",
    "    \n",
    "with open('/home/sa.goyal/Desktop/abc.py','r+') as fh:\n",
    "        fh.write('<pre>')\n",
    "        fh.writelines(fh.read())\n",
    "        fh.write('</pre>')"
   ]
  }
 ],
 "metadata": {
  "kernelspec": {
   "display_name": "Python 2",
   "language": "python",
   "name": "python2"
  },
  "language_info": {
   "codemirror_mode": {
    "name": "ipython",
    "version": 2
   },
   "file_extension": ".py",
   "mimetype": "text/x-python",
   "name": "python",
   "nbconvert_exporter": "python",
   "pygments_lexer": "ipython2",
   "version": "2.7.15rc1"
  }
 },
 "nbformat": 4,
 "nbformat_minor": 2
}
