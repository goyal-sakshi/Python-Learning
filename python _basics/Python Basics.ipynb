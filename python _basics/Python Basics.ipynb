{
 "cells": [
  {
   "cell_type": "code",
   "execution_count": 5,
   "metadata": {},
   "outputs": [
    {
     "name": "stdout",
     "output_type": "stream",
     "text": [
      "hello world\n",
      "HEY\n",
      "Hi\n",
      "    I am Sakshi\n",
      "heyy! ok Byee!!\n",
      "heyy!ok Byee!!\n",
      "heyy!, I am SAKSHI\n",
      "-----\n",
      "18 - %d integer\n",
      "18.000000 - %f float\n",
      "12 - %x hexadecimal\n",
      "1.800000e+01 - %e exponential\n",
      "22 - %o octal\n",
      "**********\n",
      "I wanna TRY I\n",
      "My name is sakshi, I work at Gemini. I am from Mohali\n",
      "_A_A_A_A_A_A_A_A\n",
      "000003.01246\n",
      "3.055    \n"
     ]
    }
   ],
   "source": [
    "# print variations\n",
    "\n",
    "print \"hello world\"\n",
    "print 'HEY'\n",
    "print \"\"\"Hi\n",
    "    I am Sakshi\"\"\"   # triple quotes prints the way it is typed\n",
    "\n",
    "str1 = \"heyy!\"\n",
    "str2 = \"ok Byee!!\"\n",
    "print str1, str2 # , by default generates a space\n",
    "print str1 + str2 # + does not add a space, it concats the strings\n",
    "\n",
    "print \"%s, I am SAKSHI\" % str1 # %s referes to a variable containing string\n",
    "# %d -> integer\n",
    "# %f -> float\n",
    "# %x -> hexadecimal\n",
    "# %e -> exponential\n",
    "# %o -> octal\n",
    "\n",
    "print \"-----\"\n",
    "print \"\"\"%d - %%d integer\n",
    "%f - %%f float\n",
    "%x - %%x hexadecimal\n",
    "%e - %%e exponential\n",
    "%o - %%o octal\"\"\" % (18,18,18,18,18) # %% to print %, passing variables to coresponding data types\n",
    "\n",
    "print\"**********\"\n",
    "print \"{0} {1} TRY {0}\".format(\"I\", \"wanna\")\n",
    "l1 = \"My name is {my_name}, I work at {company_name}. I am from {location}\"\n",
    "print l1.format(my_name = 'sakshi', location = 'Mohali', company_name = 'Gemini')\n",
    "print \"_A\"*8\n",
    "print \"%012.5f\" % 3.012455214\n",
    "print \"%-9.3f\" % 3.054654"
   ]
  },
  {
   "cell_type": "code",
   "execution_count": 9,
   "metadata": {},
   "outputs": [
    {
     "data": {
      "text/plain": [
       "['/a/v/r/r/abc']"
      ]
     },
     "execution_count": 9,
     "metadata": {},
     "output_type": "execute_result"
    }
   ],
   "source": [
    "ss ='/a/v/r/r/abc/'\n",
    "filter(None,ss.rsplit('/',1))"
   ]
  },
  {
   "cell_type": "code",
   "execution_count": 54,
   "metadata": {},
   "outputs": [
    {
     "name": "stdout",
     "output_type": "stream",
     "text": [
      "ok\n"
     ]
    }
   ],
   "source": [
    "ll = [('aa',1),('bb',2)]\n",
    "', '.join(str(i) for i in ll)\n",
    "ll = []\n",
    "if not ll:\n",
    "    print 'ok'"
   ]
  },
  {
   "cell_type": "code",
   "execution_count": 3,
   "metadata": {},
   "outputs": [
    {
     "name": "stdout",
     "output_type": "stream",
     "text": [
      "PINT_cjnnjk\n"
     ]
    }
   ],
   "source": [
    "ll = ['INFRA_ncjdnvd','PIMCO_cce','PINT_cjnnjk']\n",
    "for i in ll:\n",
    "    if not ('INFRA' in i or'PIMCO' in i):\n",
    "        print i"
   ]
  },
  {
   "cell_type": "code",
   "execution_count": 3,
   "metadata": {},
   "outputs": [
    {
     "name": "stdout",
     "output_type": "stream",
     "text": [
      "/home/sa.goyal/Desktop/ abc.py\n"
     ]
    }
   ],
   "source": [
    "#fullpath = '/home/sa.goyal/Desktop/abc.py'\n",
    "#path, filename ='',''\n",
    "fullpath = filter(None,''.rsplit('/',1))\n",
    "path = '/home/sa.goyal/Desktop/'\n",
    "filename = 'abc.py'\n",
    "if fullpath:\n",
    "    path, filename = fullpath[0], fullpath[-1] \n",
    "print path, filename"
   ]
  },
  {
   "cell_type": "code",
   "execution_count": 26,
   "metadata": {},
   "outputs": [
    {
     "name": "stdout",
     "output_type": "stream",
     "text": [
      "bet\n"
     ]
    }
   ],
   "source": [
    "ss = '/appl/oora_stagedr/qaf/ugtf/bet/'\n",
    "if '/appl/ora_stagedr/qaf/' in ss:\n",
    "    ll = filter(None, ss.split('/appl/ora_stagedr/qaf/')[-1].split('/'))\n",
    "    print ll\n",
    "    dirlevel = len(ll)\n",
    "    print dirlevel\n",
    "else:\n",
    "    print filter(None,ss.split('/'))[-1]"
   ]
  },
  {
   "cell_type": "code",
   "execution_count": 48,
   "metadata": {},
   "outputs": [
    {
     "name": "stdout",
     "output_type": "stream",
     "text": [
      "[['file1', 'm'], ['file2', 's'], ['file3', 't']]\n"
     ]
    },
    {
     "data": {
      "text/plain": [
       "[['file2', 's'], ['file1', 'm'], ['file3', 't']]"
      ]
     },
     "execution_count": 48,
     "metadata": {},
     "output_type": "execute_result"
    }
   ],
   "source": [
    "d = {'s':1,'m':2,'t':3}\n",
    "l = ['file1,m','file2,s','file3,t']\n",
    "#sorted([('abc', 121),('abc', 231),('abc', 148), ('abc',221)], key=lambda x: x[1])\n",
    "ll = [ i.split(',') for i in l]\n",
    "print ll\n",
    "sorted(ll, key=lambda x: d.get(x[1]))"
   ]
  },
  {
   "cell_type": "code",
   "execution_count": 49,
   "metadata": {},
   "outputs": [
    {
     "name": "stdout",
     "output_type": "stream",
     "text": [
      "[(1, 'SU'), (2, 'FA')]\n",
      "[(1, 'SU'), (3, 'FA')]\n",
      "[(2, 'SU'), (3, 'FA')]\n"
     ]
    }
   ],
   "source": [
    "l1 = ['SU','FA']\n",
    "l2 = [1,2,3]\n",
    "import itertool\n",
    "for x in itertools.combinations(l2,len(l1)):\n",
    "    print zip(x,l1)"
   ]
  },
  {
   "cell_type": "code",
   "execution_count": 56,
   "metadata": {},
   "outputs": [
    {
     "data": {
      "text/plain": [
       "([('SU', 1), ('SU', 2), ('SU', 3), ('FA', 1), ('FA', 2), ('FA', 3)],\n",
       " [('RU', 2)])"
      ]
     },
     "execution_count": 56,
     "metadata": {},
     "output_type": "execute_result"
    }
   ],
   "source": [
    "ll = list(itertools.product(*[l1,l2]))\n",
    "l3 = [('RU',2)]\n",
    "ll,l3"
   ]
  },
  {
   "cell_type": "code",
   "execution_count": 31,
   "metadata": {},
   "outputs": [
    {
     "name": "stdout",
     "output_type": "stream",
     "text": [
      "[('SU', 2)]\n",
      "set([('SU', 2)])\n",
      "[('SU', 1), ('SU', 2), ('SU', 3), ('FA', 1), ('FA', 2), ('FA', 3)]\n"
     ]
    },
    {
     "data": {
      "text/plain": [
       "True"
      ]
     },
     "execution_count": 31,
     "metadata": {},
     "output_type": "execute_result"
    }
   ],
   "source": [
    "print l3\n",
    "print set(l3)\n",
    "print ll\n",
    "set(l3).issubset(ll)"
   ]
  },
  {
   "cell_type": "code",
   "execution_count": 48,
   "metadata": {},
   "outputs": [
    {
     "data": {
      "text/plain": [
       "[1]"
      ]
     },
     "execution_count": 48,
     "metadata": {},
     "output_type": "execute_result"
    }
   ],
   "source": [
    "l1 = [1,2] #s\n",
    "l2 = [2,3] #d\n",
    "list(set(l1) - set(l2))"
   ]
  },
  {
   "cell_type": "code",
   "execution_count": 57,
   "metadata": {},
   "outputs": [
    {
     "name": "stdout",
     "output_type": "stream",
     "text": [
      "[('SU', 1), ('SU', 2), ('SU', 3), ('FA', 1), ('FA', 2), ('FA', 3)]\n",
      "[('RU', 2)]\n"
     ]
    }
   ],
   "source": [
    "print ll\n",
    "print l3"
   ]
  },
  {
   "cell_type": "code",
   "execution_count": 62,
   "metadata": {},
   "outputs": [
    {
     "name": "stdout",
     "output_type": "stream",
     "text": [
      "['RU']\n",
      "ok\n"
     ]
    }
   ],
   "source": [
    "print dict(l3).keys()\n",
    "if 'RU' in dict(l3).keys():\n",
    "    print 'ok'"
   ]
  },
  {
   "cell_type": "code",
   "execution_count": null,
   "metadata": {},
   "outputs": [
    {
     "name": "stdout",
     "output_type": "stream",
     "text": [
      "Doing stuff...\n"
     ]
    }
   ],
   "source": [
    "import sched, time\n",
    "s = sched.scheduler(time.time, time.sleep)\n",
    "\n",
    "def do_something(sc): \n",
    "    print \"Doing stuff...\"\n",
    "    # do your stuff\n",
    "    s.enter(2, 1, do_something, (sc,))\n",
    "\n",
    "s.enter(2, 1, do_something, (s,))\n",
    "s.run()"
   ]
  },
  {
   "cell_type": "code",
   "execution_count": 53,
   "metadata": {},
   "outputs": [
    {
     "ename": "TypeError",
     "evalue": "'NoneType' object is not iterable",
     "output_type": "error",
     "traceback": [
      "\u001b[0;31m---------------------------------------------------------------------------\u001b[0m",
      "\u001b[0;31mTypeError\u001b[0m                                 Traceback (most recent call last)",
      "\u001b[0;32m<ipython-input-53-28b957c8426b>\u001b[0m in \u001b[0;36m<module>\u001b[0;34m()\u001b[0m\n\u001b[1;32m      5\u001b[0m     \u001b[0;32mprint\u001b[0m \u001b[0msorted\u001b[0m\u001b[0;34m(\u001b[0m\u001b[0mll\u001b[0m\u001b[0;34m,\u001b[0m \u001b[0mkey\u001b[0m\u001b[0;34m=\u001b[0m\u001b[0;32mlambda\u001b[0m \u001b[0mx\u001b[0m\u001b[0;34m:\u001b[0m \u001b[0md\u001b[0m\u001b[0;34m.\u001b[0m\u001b[0mget\u001b[0m\u001b[0;34m(\u001b[0m\u001b[0mx\u001b[0m\u001b[0;34m)\u001b[0m\u001b[0;34m,\u001b[0m\u001b[0mreverse\u001b[0m\u001b[0;34m=\u001b[0m\u001b[0mTrue\u001b[0m\u001b[0;34m)\u001b[0m\u001b[0;34m\u001b[0m\u001b[0m\n\u001b[1;32m      6\u001b[0m \u001b[0;32melse\u001b[0m\u001b[0;34m:\u001b[0m\u001b[0;34m\u001b[0m\u001b[0m\n\u001b[0;32m----> 7\u001b[0;31m     \u001b[0;32mprint\u001b[0m \u001b[0msorted\u001b[0m\u001b[0;34m(\u001b[0m\u001b[0mll\u001b[0m\u001b[0;34m.\u001b[0m\u001b[0mappend\u001b[0m\u001b[0;34m(\u001b[0m\u001b[0mlist\u001b[0m\u001b[0;34m(\u001b[0m\u001b[0mset\u001b[0m\u001b[0;34m(\u001b[0m\u001b[0md\u001b[0m\u001b[0;34m.\u001b[0m\u001b[0mkeys\u001b[0m\u001b[0;34m(\u001b[0m\u001b[0;34m)\u001b[0m\u001b[0;34m)\u001b[0m \u001b[0;34m-\u001b[0m \u001b[0mset\u001b[0m\u001b[0;34m(\u001b[0m\u001b[0mll\u001b[0m\u001b[0;34m)\u001b[0m\u001b[0;34m)\u001b[0m\u001b[0;34m)\u001b[0m\u001b[0;34m,\u001b[0m \u001b[0mkey\u001b[0m\u001b[0;34m=\u001b[0m\u001b[0;32mlambda\u001b[0m \u001b[0mx\u001b[0m\u001b[0;34m:\u001b[0m \u001b[0md\u001b[0m\u001b[0;34m.\u001b[0m\u001b[0mget\u001b[0m\u001b[0;34m(\u001b[0m\u001b[0mx\u001b[0m\u001b[0;34m)\u001b[0m\u001b[0;34m,\u001b[0m\u001b[0mreverse\u001b[0m\u001b[0;34m=\u001b[0m\u001b[0mTrue\u001b[0m\u001b[0;34m)\u001b[0m\u001b[0;34m\u001b[0m\u001b[0m\n\u001b[0m",
      "\u001b[0;31mTypeError\u001b[0m: 'NoneType' object is not iterable"
     ]
    }
   ],
   "source": [
    "d = {'PROD':2,'BETA':1}\n",
    "ll = ['DELTA']\n",
    "\n",
    "if set(d.keys()).issubset(ll):\n",
    "    print sorted(ll, key=lambda x: d.get(x),reverse=True)\n",
    "else:\n",
    "    ll = ll.append(list(set(d.keys()) - set(ll)))\n",
    "    print sorted(ll), key=lambda x: d.get(x),reverse=True)"
   ]
  },
  {
   "cell_type": "code",
   "execution_count": 17,
   "metadata": {},
   "outputs": [
    {
     "data": {
      "text/plain": [
       "'issues'"
      ]
     },
     "execution_count": 17,
     "metadata": {},
     "output_type": "execute_result"
    }
   ],
   "source": [
    "col = '04/20/2018 04:41:36/failed table/issues'\n",
    "t , k = '/'.join(col.split('/',3)[:-1]), col.split('/',3)[-1]\n",
    "col.rsplit('/',1)[-1]"
   ]
  },
  {
   "cell_type": "code",
   "execution_count": 43,
   "metadata": {},
   "outputs": [
    {
     "data": {
      "text/plain": [
       "'{\"red\": 1}'"
      ]
     },
     "execution_count": 43,
     "metadata": {},
     "output_type": "execute_result"
    }
   ],
   "source": [
    "import json\n",
    "dd = {'red':1}\n",
    "json.dumps(dd)"
   ]
  },
  {
   "cell_type": "code",
   "execution_count": 61,
   "metadata": {},
   "outputs": [
    {
     "name": "stdout",
     "output_type": "stream",
     "text": [
      "['pass', '']\n",
      "['INC', '']\n",
      "True\n"
     ]
    }
   ],
   "source": [
    "ll = [['pass',''],['INC','']]\n",
    "for i in ll:\n",
    "    if i[0]:\n",
    "        print i\n",
    "        \n",
    "print 1 in [1,2]"
   ]
  },
  {
   "cell_type": "code",
   "execution_count": 51,
   "metadata": {},
   "outputs": [
    {
     "data": {
      "text/plain": [
       "[['pass', 'fail'], ['INC', 'info']]"
      ]
     },
     "execution_count": 51,
     "metadata": {},
     "output_type": "execute_result"
    }
   ],
   "source": [
    "for d in ll:\n",
    "    if d[0] not in ['pass','fail','info']:\n",
    "        d[0] = 'INC'\n",
    "        \n",
    "ll"
   ]
  },
  {
   "cell_type": "code",
   "execution_count": 2,
   "metadata": {},
   "outputs": [
    {
     "name": "stdout",
     "output_type": "stream",
     "text": [
      "k bye\n",
      "3\n",
      "o\n",
      "0\n",
      "3\n",
      "Hey, ok, ok bye\n",
      "**hey, ok, ok bye***\n",
      "00000hey, ok, ok bye\n",
      "     HI,  I    am   sakshi\n",
      "True\n",
      "True\n",
      "-------------\n",
      "2\n",
      "file.txt\n",
      "fcvvn\n",
      "['f', 'i', 'l', 'e', '.', 't', 'x', 't']\n",
      "f i l e . t x t\n",
      "l*e*.*t*x*t\n",
      "['hey,', 'ok, ok bye']\n",
      "8\n",
      "--------------\n",
      "HEY, OK, OK BYE\n",
      "hi, ok, ok bye\n",
      "HELLO\n",
      "HELLO----****    \n"
     ]
    }
   ],
   "source": [
    "# string variations\n",
    "\n",
    "str1 = \"hey, ok, ok bye\"\n",
    "str2 = \"\\tHI,\\tI\\tam\\tsakshi\"\n",
    "str3 = \"file.txt\"\n",
    "str4 = \"    ****----HELLO----****    \"\n",
    "print str1[-5:]\n",
    "print str1.find(\",\") # returns the index if the substring exists, and returns -1 if the string does not exists\n",
    "print str1[9]\n",
    "print str1.find('h',0,10) # find the string between this range, returns its index, else -1\n",
    "print str1.index(',') # returns index if found, else throws an error\n",
    "print str1.capitalize() # capitalize the first alphabet of the string\n",
    "print str1.center(20,'*') # aligns in center having 100 chars in total\n",
    "\n",
    "print str1.zfill(20)\n",
    "print str2.expandtabs(5)\n",
    "print str3.endswith('.txt')\n",
    "print str3.endswith('.', 0,5) # start and stop index \n",
    "\n",
    "print \"-------------\"\n",
    "print str1.count('ok') # number of occerences of the string, can also give start and stop index\n",
    "print ''.join(str3) # joins the string placing '_' in between\n",
    "l1 = list(str3)\n",
    "print \"fcvvn\"\n",
    "print l1\n",
    "print ' '.join(l1) # joins what is before join to the string that is inside join\n",
    "print '*'.join(str3)[4:]\n",
    "print str1.split(\" \",1) \n",
    "print len(l1)\n",
    "\n",
    "print(\"--------------\")\n",
    "print str1.upper()\n",
    "print str1.replace(\"hey\",\"hi\")\n",
    "print str4.strip(\" *-\")\n",
    "print str4.lstrip(\" *-\")"
   ]
  },
  {
   "cell_type": "code",
   "execution_count": 3,
   "metadata": {},
   "outputs": [
    {
     "name": "stdout",
     "output_type": "stream",
     "text": [
      "1\n"
     ]
    }
   ],
   "source": [
    "s = \"\"\n",
    "op = s.split(',',1)\n",
    "if op:\n",
    "    print 1"
   ]
  },
  {
   "cell_type": "code",
   "execution_count": 2,
   "metadata": {},
   "outputs": [
    {
     "name": "stdout",
     "output_type": "stream",
     "text": [
      "1\n",
      "a = [('One', 1), ('Two', 2), ('Three', 3), ('Four', 4), ('One', 8)]\n",
      "{'Four': 4, 'Three': 3, 'Two': 2, 'One': 8}\n",
      "{'Four': 4, 'Three': 3, 'Two': 2, 'One': 8}\n",
      "[4, 3, 2, 8]\n",
      "['Four', 'Three', 'Two', 'One']\n",
      "[('Four', 4), ('Three', 3), ('Two', 2), ('One', 8)]\n",
      "{'Four': 4, 'Three': 3, 'One': 8}\n",
      "['One', 'Two', 'Three', 'Four', 'One', 1, 2, 3, 4, 8]\n",
      "{'Four': 4, 'Three': 3, 'One': 8}\n",
      "00000\n",
      "0    141\n",
      "1     41\n",
      "2     24\n",
      "dtype: int64\n"
     ]
    },
    {
     "ename": "AttributeError",
     "evalue": "'Series' object has no attribute 'ilocmax'",
     "output_type": "error",
     "traceback": [
      "\u001b[0;31m---------------------------------------------------------------------------\u001b[0m",
      "\u001b[0;31mAttributeError\u001b[0m                            Traceback (most recent call last)",
      "\u001b[0;32m<ipython-input-2-6b4898f26106>\u001b[0m in \u001b[0;36m<module>\u001b[0;34m()\u001b[0m\n\u001b[1;32m     31\u001b[0m \u001b[0;32mprint\u001b[0m \u001b[0ml\u001b[0m\u001b[0;34m\u001b[0m\u001b[0m\n\u001b[1;32m     32\u001b[0m \u001b[0;31m#l = pd.Series([d1[i] for i in l[ll]])\u001b[0m\u001b[0;34m\u001b[0m\u001b[0;34m\u001b[0m\u001b[0m\n\u001b[0;32m---> 33\u001b[0;31m \u001b[0ml\u001b[0m\u001b[0;34m.\u001b[0m\u001b[0milocmax\u001b[0m\u001b[0;34m(\u001b[0m\u001b[0ml\u001b[0m\u001b[0;34m)\u001b[0m\u001b[0;34m\u001b[0m\u001b[0m\n\u001b[0m\u001b[1;32m     34\u001b[0m \u001b[0md1\u001b[0m\u001b[0;34m\u001b[0m\u001b[0m\n",
      "\u001b[0;32m/home/sa.goyal/anaconda2/lib/python2.7/site-packages/pandas/core/generic.pyc\u001b[0m in \u001b[0;36m__getattr__\u001b[0;34m(self, name)\u001b[0m\n\u001b[1;32m   4370\u001b[0m             \u001b[0;32mif\u001b[0m \u001b[0mself\u001b[0m\u001b[0;34m.\u001b[0m\u001b[0m_info_axis\u001b[0m\u001b[0;34m.\u001b[0m\u001b[0m_can_hold_identifiers_and_holds_name\u001b[0m\u001b[0;34m(\u001b[0m\u001b[0mname\u001b[0m\u001b[0;34m)\u001b[0m\u001b[0;34m:\u001b[0m\u001b[0;34m\u001b[0m\u001b[0m\n\u001b[1;32m   4371\u001b[0m                 \u001b[0;32mreturn\u001b[0m \u001b[0mself\u001b[0m\u001b[0;34m[\u001b[0m\u001b[0mname\u001b[0m\u001b[0;34m]\u001b[0m\u001b[0;34m\u001b[0m\u001b[0m\n\u001b[0;32m-> 4372\u001b[0;31m             \u001b[0;32mreturn\u001b[0m \u001b[0mobject\u001b[0m\u001b[0;34m.\u001b[0m\u001b[0m__getattribute__\u001b[0m\u001b[0;34m(\u001b[0m\u001b[0mself\u001b[0m\u001b[0;34m,\u001b[0m \u001b[0mname\u001b[0m\u001b[0;34m)\u001b[0m\u001b[0;34m\u001b[0m\u001b[0m\n\u001b[0m\u001b[1;32m   4373\u001b[0m \u001b[0;34m\u001b[0m\u001b[0m\n\u001b[1;32m   4374\u001b[0m     \u001b[0;32mdef\u001b[0m \u001b[0m__setattr__\u001b[0m\u001b[0;34m(\u001b[0m\u001b[0mself\u001b[0m\u001b[0;34m,\u001b[0m \u001b[0mname\u001b[0m\u001b[0;34m,\u001b[0m \u001b[0mvalue\u001b[0m\u001b[0;34m)\u001b[0m\u001b[0;34m:\u001b[0m\u001b[0;34m\u001b[0m\u001b[0m\n",
      "\u001b[0;31mAttributeError\u001b[0m: 'Series' object has no attribute 'ilocmax'"
     ]
    }
   ],
   "source": [
    "# dictonaries\n",
    "# {key : value}\n",
    "d1 = {} # one way to declare, and faster way than the other\n",
    "d2 = dict() # another way to declare\n",
    "d1['one'] = 1\n",
    "d1['two'] = 2\n",
    "print d1['one']\n",
    "\n",
    "l1 = ['One', 'Two', 'Three', 'Four', 'One']\n",
    "l2 = [1, 2, 3, 4, 8]\n",
    "\n",
    "a = zip(l1,l2) # combines two lists and makes each element to a tuple\n",
    "print \"a =\", a\n",
    "print dict(a)\n",
    "d1.clear() # to clear dictonary\n",
    "# creating dict using for loop\n",
    "for i in range(len(l1)):\n",
    "    d1[l1[i]] = l2[i]\n",
    "print d1\n",
    "print d1.values()\n",
    "print d1.keys()\n",
    "print d1.items()\n",
    "d1.pop('Two')\n",
    "print d1\n",
    "print l1 + l2\n",
    "print d1\n",
    "import pandas as pd\n",
    "ll = pd.Series([True, True, True])\n",
    "l = pd.Series([141, 41,24])\n",
    "print '00000'\n",
    "print l\n",
    "#l = pd.Series([d1[i] for i in l[ll]])\n",
    "l.ilocmax(l)\n",
    "d1"
   ]
  },
  {
   "cell_type": "code",
   "execution_count": 38,
   "metadata": {},
   "outputs": [
    {
     "name": "stdout",
     "output_type": "stream",
     "text": [
      "['two', 'one']\n",
      "['one', 'Three']\n"
     ]
    }
   ],
   "source": [
    "d1 = {} # one way to declare, and faster way than the other\n",
    "d2 = dict() # another way to declare\n",
    "d1['one'] = 1\n",
    "d1['two'] = 2\n",
    "d2 = ['one','Three']\n",
    "print d1.keys()  #APi\n",
    "print d2  #html"
   ]
  },
  {
   "cell_type": "code",
   "execution_count": 60,
   "metadata": {},
   "outputs": [],
   "source": [
    "Api = [['a','b','c'],['d','e','f']]\n",
    "Html = [['a','ba','ca'],['da','ea','fa']]"
   ]
  },
  {
   "cell_type": "code",
   "execution_count": 76,
   "metadata": {},
   "outputs": [
    {
     "data": {
      "text/plain": [
       "[['a', 'b', 'c'], ['d', 'e', 'f']]"
      ]
     },
     "execution_count": 76,
     "metadata": {},
     "output_type": "execute_result"
    }
   ],
   "source": [
    "Api"
   ]
  },
  {
   "cell_type": "code",
   "execution_count": 77,
   "metadata": {},
   "outputs": [
    {
     "data": {
      "text/plain": [
       "[['a', 'ba', 'ca'], ['da', 'ea', 'fa']]"
      ]
     },
     "execution_count": 77,
     "metadata": {},
     "output_type": "execute_result"
    }
   ],
   "source": [
    "Html"
   ]
  },
  {
   "cell_type": "code",
   "execution_count": 80,
   "metadata": {},
   "outputs": [],
   "source": [
    "l1 = ['a','b','c']\n",
    "l2 = ['a','b','c']"
   ]
  },
  {
   "cell_type": "code",
   "execution_count": 82,
   "metadata": {},
   "outputs": [],
   "source": [
    "if set(l1) - set(l2):\n",
    "    print 'ok'"
   ]
  },
  {
   "cell_type": "code",
   "execution_count": 74,
   "metadata": {},
   "outputs": [
    {
     "data": {
      "text/plain": [
       "1"
      ]
     },
     "execution_count": 74,
     "metadata": {},
     "output_type": "execute_result"
    }
   ],
   "source": [
    "d1['one']"
   ]
  },
  {
   "cell_type": "code",
   "execution_count": 8,
   "metadata": {},
   "outputs": [
    {
     "name": "stdout",
     "output_type": "stream",
     "text": [
      "30 Gemini\n",
      "30Gemini\n",
      "1 1\n"
     ]
    }
   ],
   "source": [
    "x = 10\n",
    "y = 20\n",
    "xy = \"Gemini\"\n",
    "print x+y, xy\n",
    "print str(x+y) + xy\n",
    "\n",
    "c = d = 1\n",
    "print c,d"
   ]
  },
  {
   "cell_type": "code",
   "execution_count": 9,
   "metadata": {},
   "outputs": [
    {
     "name": "stdout",
     "output_type": "stream",
     "text": [
      "5\n",
      "2\n",
      "1.4\n",
      "1.0\n",
      "1\n",
      "27\n",
      "--------\n",
      "0\n",
      "3\n",
      "3\n",
      "-2\n",
      "2\n",
      "0b0\n"
     ]
    }
   ],
   "source": [
    "# relational operators\n",
    "print 3+2\n",
    "print 5-3\n",
    "print 2.8/2.0\n",
    "print 2.8//2.0 #floor division\n",
    "print 5 % 2 #mod\n",
    "print 3**3 #power of\n",
    "\n",
    "print \"--------\"\n",
    "# bitwise operators\n",
    "a = 1 #01\n",
    "b = 2 #10\n",
    "print a & b\n",
    "print a | b\n",
    "print a ^ b #XOR\n",
    "print ~a\n",
    "print a << 1 #left shift\n",
    "print bin(a&b)"
   ]
  },
  {
   "cell_type": "code",
   "execution_count": 11,
   "metadata": {},
   "outputs": [
    {
     "name": "stdout",
     "output_type": "stream",
     "text": [
      "0xaa\n",
      "170\n",
      "010\n",
      "8\n",
      "a\n",
      "97\n",
      "2.45\n",
      "5.38516480713\n",
      "(4, 1)\n",
      "True\n",
      "False\n",
      "<type 'complex'>\n",
      "<type 'complex'>\n",
      "1\n",
      "8\n",
      "1\n",
      "[0, 1, 2]\n",
      "[1, 2, 3, 4, 5, 6, 7, 8, 9, 10]\n",
      "[1, 3, 5, 7, 9]\n",
      "--------\n",
      "8\n",
      "170\n",
      "10\n"
     ]
    }
   ],
   "source": [
    "# some preloaded functions\n",
    "print hex(170)\n",
    "print 0xAA\n",
    "\n",
    "print oct(8)\n",
    "print 010\n",
    "\n",
    "print chr(97) #ASCII char of the number\n",
    "print ord('a') #ASCII code of the char\n",
    "\n",
    "print round(2.45465,2)\n",
    "c = complex('5+2j')\n",
    "print abs(c)\n",
    "print divmod(9,2) #prints quotient and remainder\n",
    "\n",
    "print isinstance(1,int) #prints boolean value if the value is int and so on\n",
    "print isinstance(1, (str,float)) #prints boolean value if the datatype matches in any of the options\n",
    "print type(c)\n",
    "print c.__class__\n",
    "\n",
    "print cmp(4,2) # x>y -> 1, x<y -> -1, x==y -> 0\n",
    "print pow(2,3) # 2 to the power 3\n",
    "print pow(2,3,7) # x ^ y % z\n",
    "print range (3)\n",
    "print range(1,11)\n",
    "print range(1,11,2) # range at an interval of 2\n",
    "\n",
    "print \"--------\"\n",
    "print int('010',8)\n",
    "print int('0xaa',16)\n",
    "print int('1010',2)"
   ]
  },
  {
   "cell_type": "code",
   "execution_count": 1,
   "metadata": {},
   "outputs": [
    {
     "name": "stdout",
     "output_type": "stream",
     "text": [
      "Type something: 0\n",
      "0\n",
      "Enter an integer: s\n"
     ]
    },
    {
     "ename": "NameError",
     "evalue": "name 's' is not defined",
     "output_type": "error",
     "traceback": [
      "\u001b[0;31m---------------------------------------------------------------------------\u001b[0m",
      "\u001b[0;31mNameError\u001b[0m                                 Traceback (most recent call last)",
      "\u001b[0;32m<ipython-input-1-22d09e5e0bb5>\u001b[0m in \u001b[0;36m<module>\u001b[0;34m()\u001b[0m\n\u001b[1;32m      2\u001b[0m \u001b[0;32mprint\u001b[0m \u001b[0ma\u001b[0m\u001b[0;34m\u001b[0m\u001b[0m\n\u001b[1;32m      3\u001b[0m \u001b[0;34m\u001b[0m\u001b[0m\n\u001b[0;32m----> 4\u001b[0;31m \u001b[0mb\u001b[0m \u001b[0;34m=\u001b[0m \u001b[0minput\u001b[0m\u001b[0;34m(\u001b[0m\u001b[0;34m\"Enter an integer: \"\u001b[0m\u001b[0;34m)\u001b[0m \u001b[0;31m# takes only integer values\u001b[0m\u001b[0;34m\u001b[0m\u001b[0m\n\u001b[0m\u001b[1;32m      5\u001b[0m \u001b[0;32mprint\u001b[0m \u001b[0mb\u001b[0m\u001b[0;34m\u001b[0m\u001b[0m\n",
      "\u001b[0;32m/home/sa.goyal/anaconda2/lib/python2.7/site-packages/ipykernel/ipkernel.pyc\u001b[0m in \u001b[0;36m<lambda>\u001b[0;34m(prompt)\u001b[0m\n\u001b[1;32m    174\u001b[0m             \u001b[0mself\u001b[0m\u001b[0;34m.\u001b[0m\u001b[0m_sys_eval_input\u001b[0m \u001b[0;34m=\u001b[0m \u001b[0mbuiltin_mod\u001b[0m\u001b[0;34m.\u001b[0m\u001b[0minput\u001b[0m\u001b[0;34m\u001b[0m\u001b[0m\n\u001b[1;32m    175\u001b[0m             \u001b[0mbuiltin_mod\u001b[0m\u001b[0;34m.\u001b[0m\u001b[0mraw_input\u001b[0m \u001b[0;34m=\u001b[0m \u001b[0mself\u001b[0m\u001b[0;34m.\u001b[0m\u001b[0mraw_input\u001b[0m\u001b[0;34m\u001b[0m\u001b[0m\n\u001b[0;32m--> 176\u001b[0;31m             \u001b[0mbuiltin_mod\u001b[0m\u001b[0;34m.\u001b[0m\u001b[0minput\u001b[0m \u001b[0;34m=\u001b[0m \u001b[0;32mlambda\u001b[0m \u001b[0mprompt\u001b[0m\u001b[0;34m=\u001b[0m\u001b[0;34m''\u001b[0m\u001b[0;34m:\u001b[0m \u001b[0meval\u001b[0m\u001b[0;34m(\u001b[0m\u001b[0mself\u001b[0m\u001b[0;34m.\u001b[0m\u001b[0mraw_input\u001b[0m\u001b[0;34m(\u001b[0m\u001b[0mprompt\u001b[0m\u001b[0;34m)\u001b[0m\u001b[0;34m)\u001b[0m\u001b[0;34m\u001b[0m\u001b[0m\n\u001b[0m\u001b[1;32m    177\u001b[0m         \u001b[0mself\u001b[0m\u001b[0;34m.\u001b[0m\u001b[0m_save_getpass\u001b[0m \u001b[0;34m=\u001b[0m \u001b[0mgetpass\u001b[0m\u001b[0;34m.\u001b[0m\u001b[0mgetpass\u001b[0m\u001b[0;34m\u001b[0m\u001b[0m\n\u001b[1;32m    178\u001b[0m         \u001b[0mgetpass\u001b[0m\u001b[0;34m.\u001b[0m\u001b[0mgetpass\u001b[0m \u001b[0;34m=\u001b[0m \u001b[0mself\u001b[0m\u001b[0;34m.\u001b[0m\u001b[0mgetpass\u001b[0m\u001b[0;34m\u001b[0m\u001b[0m\n",
      "\u001b[0;32m/home/sa.goyal/anaconda2/lib/python2.7/site-packages/ipykernel/ipkernel.pyc\u001b[0m in \u001b[0;36m<module>\u001b[0;34m()\u001b[0m\n",
      "\u001b[0;31mNameError\u001b[0m: name 's' is not defined"
     ]
    }
   ],
   "source": [
    "a = raw_input(\"Type something: \") # takes input as string\n",
    "print a\n",
    "\n",
    "b = input(\"Enter an integer: \") # takes only integer values\n",
    "print b"
   ]
  },
  {
   "cell_type": "code",
   "execution_count": 15,
   "metadata": {},
   "outputs": [
    {
     "name": "stdout",
     "output_type": "stream",
     "text": [
      "a is equal to b\n"
     ]
    }
   ],
   "source": [
    "a = 1\n",
    "b = 1\n",
    "if a < b:\n",
    "    print(\"a is less then b\")\n",
    "elif a ==b:\n",
    "    print(\"a is equal to b\")\n",
    "else:\n",
    "    print(\"b is less than a\")"
   ]
  },
  {
   "cell_type": "code",
   "execution_count": 16,
   "metadata": {},
   "outputs": [
    {
     "name": "stdout",
     "output_type": "stream",
     "text": [
      "bmi : 8.832\n",
      "sakshi is not overweight\n"
     ]
    }
   ],
   "source": [
    "name = \"sakshi\"\n",
    "height_m = 2.5\n",
    "weight_kg = 55.2\n",
    "\n",
    "bmi = weight_kg / (height_m ** 2)\n",
    "\n",
    "print ('bmi : '+ str(bmi))\n",
    "if bmi < 25:\n",
    "    print(name + \" is not overweight\")\n",
    "else:\n",
    "    print(name + \" is OVERWEIGHT\")"
   ]
  },
  {
   "cell_type": "code",
   "execution_count": 17,
   "metadata": {},
   "outputs": [
    {
     "name": "stdout",
     "output_type": "stream",
     "text": [
      "40\n"
     ]
    }
   ],
   "source": [
    "def sum(a,b):\n",
    "    return a+b\n",
    "\n",
    "c = sum(10, 30)\n",
    "print(c)"
   ]
  },
  {
   "cell_type": "code",
   "execution_count": 18,
   "metadata": {},
   "outputs": [
    {
     "name": "stdout",
     "output_type": "stream",
     "text": [
      "3.2\n"
     ]
    }
   ],
   "source": [
    "def convert_miles_to_km(miles):\n",
    "    km = 1.6 * miles\n",
    "    return km\n",
    "\n",
    "miles = 2\n",
    "km = convert_miles_to_km(miles)\n",
    "print (km)"
   ]
  },
  {
   "cell_type": "code",
   "execution_count": 16,
   "metadata": {},
   "outputs": [
    {
     "name": "stdout",
     "output_type": "stream",
     "text": [
      "['apple', 'a']\n",
      "[1, 3, 5]\n",
      "8\n",
      "1\n",
      "b\n",
      "[1, 2, 3, 7, 5, 7, 6, 4, 'apple', 'a', 'mango']\n",
      "True\n",
      "20000\n",
      "100\n",
      "['H', 'e', 'l', 'l', 'o', ' ', 'f', 'r', 'i', 'e', 'n', 'd', 's', '!']\n",
      "[1, 2, 3, 7, 5, 7, 6, 4, 'hello', [4, 5], 'apple', 'a', 'mango']\n",
      "2\n",
      "----\n",
      "5\n",
      "['mango', 'hello', 'apple', 'a', [4, 5], 7, 7, 6, 5, 4, 3]\n",
      "['mango', 'hello', 'apple', 'a', [4, 5], 7, 7, 6, 5, 4, 3, 'ok']\n",
      "['mango', 'hello', 'apple', 'a', [4, 5], 7, 7, 6, 5, 4, 3, 'ok']\n"
     ]
    }
   ],
   "source": [
    "# data structures\n",
    "a = [1, 2 , 3, 7, 5, 7, 6, 4]\n",
    "b = ['apple','a','mango']\n",
    "c = [1, 2, 'a', 'b', 97]\n",
    "d = ['100', '20000', '3000', '4']\n",
    "str = \"Hello friends!\"\n",
    "# print(c[0][0])\n",
    "print b[0:2] # Slicing end point is not included\n",
    "print a[:6:2]\n",
    "\n",
    "# list functions\n",
    "print len(a) # length of the list\n",
    "print min(c) # if list contains integer elements, prints the min element.\n",
    "             # And if list contains string then prints min ASCII element\n",
    "print max(c)\n",
    "print a+b\n",
    "print 'apple' in b # check for exsistance of the element in the list\n",
    "print max(d, key=len) # to find the max or min string based on length\n",
    "print min(d) # if number is declared a string, max and min use ASCII value\n",
    "\n",
    "print list(str)\n",
    "a.append(\"hello\")\n",
    "a.append([4,5])\n",
    "a.extend(b) # appends the elements as elements not as complete list\n",
    "print a\n",
    "print a.count(7)\n",
    "\n",
    "print \"----\"\n",
    "print a.index(7,4)\n",
    "a.insert(5,\"name\")\n",
    "a.pop(1) # deletes the element at that index\n",
    "a.remove('name') # removes that element from the list\n",
    "del a[0] # deleted the element at that index\n",
    "a.reverse()\n",
    "a.sort(reverse=True) # same ASCII concept\n",
    "print a\n",
    "\n",
    "list1 = a\n",
    "list1.append('ok')\n",
    "print a # operations are performed in list1 but reflect in a as well,\n",
    "# listb has also changed though no operation has been performed on it. \n",
    "# This is because you have assigned the same memory space of lista to listb. So how do fix this?\n",
    "# If you recall, in slicing we had seen that parentlist[a:b] returns a list from parent list with start \n",
    "# index a and end index b and if a and b is not mentioned then by default it considers the first and last element.\n",
    "# We use the same concept here. By doing so, we are assigning the data of lista to listb as a variable.\n",
    "\n",
    "list2 = a[:]\n",
    "list2.append(\"hello\")\n",
    "print a"
   ]
  },
  {
   "cell_type": "code",
   "execution_count": 21,
   "metadata": {},
   "outputs": [
    {
     "name": "stdout",
     "output_type": "stream",
     "text": [
      "<type 'tuple'>\n",
      "<type 'tuple'>\n",
      "(3, 1)\n",
      "(27, 27) <type 'tuple'>\n",
      "(1, 2, 3)\n",
      "('h', 'e', 'l', 'l', 'o')\n",
      "(2,)\n",
      "<type 'str'>\n",
      "3\n",
      "3\n"
     ]
    }
   ],
   "source": [
    "# tuples\n",
    "a = (1, 2, 3, 2 , 2)\n",
    "d = (1,)\n",
    "print type(d)\n",
    "b = divmod(10,3)\n",
    "c = 2*(27,)\n",
    "print type(a)\n",
    "print b\n",
    "print c, c.__class__\n",
    "\n",
    "print tuple([1,2,3])\n",
    "print tuple(\"hello\")\n",
    "print a[1:2]\n",
    "\n",
    "(d,e,f) = ('alpha', 'beta', 'gamma') # maping the tuples\n",
    "print d.__class__\n",
    "\n",
    "# built in tuple functions\n",
    "print a.count(2)\n",
    "print a.index(2, 2, 5)"
   ]
  },
  {
   "cell_type": "code",
   "execution_count": 3,
   "metadata": {},
   "outputs": [
    {
     "name": "stdout",
     "output_type": "stream",
     "text": [
      "set([1, 2, 3, 4, 5])\n",
      "set([1, 2, 3, 4, 5, 'ewfcwe', 'refg'])\n",
      "set([1, 2, 3, 4, 5, 10])\n",
      "set([1])\n",
      "set([10, 2, 3, 4, 5])\n",
      "set([2, 3, 4, 5, 'ewfcwe', 10, 'refg'])\n",
      "set([1, 2, 3, 4, 5, 10])\n",
      "True\n",
      "False\n",
      "True\n",
      "set([2, 3, 4, 5, 10])\n",
      "set([3, 4, 5, 10])\n",
      "set([])\n"
     ]
    }
   ],
   "source": [
    "# sets\n",
    "# Sets are mainly used to eliminate repeated numbers in a sequence/list\n",
    "a = set([2,3,4,5,1,3,2,4]) \n",
    "print a\n",
    "b = set([1,'refg','ewfcwe'])\n",
    "c = set([1,2])\n",
    "print b.union(a)\n",
    "a.add(10)\n",
    "print a\n",
    "print a.intersection(b) # a intersection b\n",
    "print a.difference(b) # a - b\n",
    "print a.symmetric_difference(b)\n",
    "print a # by default store in sorted order\n",
    "\n",
    "print c.issubset(a)\n",
    "print a.isdisjoint(b) # no element is common\n",
    "print a.issuperset(c)\n",
    "a.pop() # deletes an element from the top\n",
    "print a\n",
    "a.remove(2) # delete an element at that index, index start from 1\n",
    "print a\n",
    "b.clear()\n",
    "print b"
   ]
  },
  {
   "cell_type": "code",
   "execution_count": 23,
   "metadata": {},
   "outputs": [
    {
     "name": "stdout",
     "output_type": "stream",
     "text": [
      "['microsoft', 'apple', 'banana']\n"
     ]
    }
   ],
   "source": [
    "b = [\"banana\", \"apple\", \"microsoft\"]\n",
    "temp = b[0]\n",
    "b[0] = b[2]\n",
    "b[2] = temp\n",
    "\n",
    "print (b)"
   ]
  },
  {
   "cell_type": "code",
   "execution_count": 24,
   "metadata": {},
   "outputs": [
    {
     "name": "stdout",
     "output_type": "stream",
     "text": [
      "['banana', 'apple', 'microsoft']\n"
     ]
    }
   ],
   "source": [
    "b[0], b[2] = b[2], b[0]\n",
    "print(b)"
   ]
  },
  {
   "cell_type": "code",
   "execution_count": 25,
   "metadata": {},
   "outputs": [
    {
     "name": "stdout",
     "output_type": "stream",
     "text": [
      "60\n"
     ]
    }
   ],
   "source": [
    "a = [10, 20, 30]\n",
    "total = 0;\n",
    "for i in a:\n",
    "    total = total + i\n",
    "print(total)"
   ]
  },
  {
   "cell_type": "code",
   "execution_count": 26,
   "metadata": {},
   "outputs": [
    {
     "name": "stdout",
     "output_type": "stream",
     "text": [
      "[1, 2, 3, 4, 5, 6, 7, 8, 9, 10]\n"
     ]
    }
   ],
   "source": [
    "c = list(range(1,11))\n",
    "print(c)"
   ]
  },
  {
   "cell_type": "code",
   "execution_count": 27,
   "metadata": {},
   "outputs": [
    {
     "name": "stdout",
     "output_type": "stream",
     "text": [
      "[1, 2, 3, 4, 5, 6, 7, 8, 9, 10]\n",
      "total =  33\n"
     ]
    }
   ],
   "source": [
    "total2 = 0;\n",
    "print list(range(1,11))\n",
    "for i in range(1,11):\n",
    "    if i % 3 == 0 or i % 5 == 0:\n",
    "        total2 += i\n",
    "print\"total = \", total2"
   ]
  },
  {
   "cell_type": "code",
   "execution_count": 28,
   "metadata": {},
   "outputs": [
    {
     "name": "stdout",
     "output_type": "stream",
     "text": [
      "18\n"
     ]
    }
   ],
   "source": [
    "d = [5, 4, 4, 3, 2, -2, -4, -9]\n",
    "i = 0\n",
    "total3=0\n",
    "while d[i] > 0:\n",
    "    total3 += d[i]\n",
    "    i +=1\n",
    "print (total3)"
   ]
  },
  {
   "cell_type": "code",
   "execution_count": 15,
   "metadata": {},
   "outputs": [
    {
     "data": {
      "text/plain": [
       "'a,b,c,d'"
      ]
     },
     "execution_count": 15,
     "metadata": {},
     "output_type": "execute_result"
    }
   ],
   "source": [
    "ll = ['a','b','c','d']\n",
    "#s = \"insert into table {} values ({},{})\".format(ll, 'qece','wefw')\n",
    "\",\".join(ll)"
   ]
  },
  {
   "cell_type": "code",
   "execution_count": 7,
   "metadata": {},
   "outputs": [
    {
     "ename": "NameError",
     "evalue": "name '__file__' is not defined",
     "output_type": "error",
     "traceback": [
      "\u001b[0;31m---------------------------------------------------------------------------\u001b[0m",
      "\u001b[0;31mNameError\u001b[0m                                 Traceback (most recent call last)",
      "\u001b[0;32m<ipython-input-7-acd4e2a016ef>\u001b[0m in \u001b[0;36m<module>\u001b[0;34m()\u001b[0m\n\u001b[1;32m      1\u001b[0m \u001b[0;32mimport\u001b[0m \u001b[0mos\u001b[0m\u001b[0;34m\u001b[0m\u001b[0m\n\u001b[0;32m----> 2\u001b[0;31m \u001b[0;32mprint\u001b[0m \u001b[0mos\u001b[0m\u001b[0;34m.\u001b[0m\u001b[0mpath\u001b[0m\u001b[0;34m.\u001b[0m\u001b[0mrealpath\u001b[0m\u001b[0;34m(\u001b[0m\u001b[0m__file__\u001b[0m\u001b[0;34m)\u001b[0m\u001b[0;34m\u001b[0m\u001b[0m\n\u001b[0m",
      "\u001b[0;31mNameError\u001b[0m: name '__file__' is not defined"
     ]
    }
   ],
   "source": [
    "import os\n",
    "print os.path.realpath(__file__)"
   ]
  }
 ],
 "metadata": {
  "kernelspec": {
   "display_name": "Python 2",
   "language": "python",
   "name": "python2"
  },
  "language_info": {
   "codemirror_mode": {
    "name": "ipython",
    "version": 2
   },
   "file_extension": ".py",
   "mimetype": "text/x-python",
   "name": "python",
   "nbconvert_exporter": "python",
   "pygments_lexer": "ipython2",
   "version": "2.7.15"
  }
 },
 "nbformat": 4,
 "nbformat_minor": 2
}
