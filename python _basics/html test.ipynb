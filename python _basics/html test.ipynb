{
 "cells": [
  {
   "cell_type": "code",
   "execution_count": 1,
   "metadata": {},
   "outputs": [
    {
     "ename": "IOError",
     "evalue": "[Errno 2] No such file or directory: '/home/sa.goyal/Desktop/excel.xlsx'",
     "output_type": "error",
     "traceback": [
      "\u001b[0;31m---------------------------------------------------------------------------\u001b[0m",
      "\u001b[0;31mIOError\u001b[0m                                   Traceback (most recent call last)",
      "\u001b[0;32m<ipython-input-1-347fd400256c>\u001b[0m in \u001b[0;36m<module>\u001b[0;34m()\u001b[0m\n\u001b[1;32m      3\u001b[0m \u001b[0;31m#from openpyxl.utils import coordinate_from_string, column_index_from_string\u001b[0m\u001b[0;34m\u001b[0m\u001b[0;34m\u001b[0m\u001b[0m\n\u001b[1;32m      4\u001b[0m \u001b[0;34m\u001b[0m\u001b[0m\n\u001b[0;32m----> 5\u001b[0;31m \u001b[0mdf\u001b[0m \u001b[0;34m=\u001b[0m \u001b[0mpd\u001b[0m\u001b[0;34m.\u001b[0m\u001b[0mread_excel\u001b[0m\u001b[0;34m(\u001b[0m\u001b[0;34m'/home/sa.goyal/Desktop/excel.xlsx'\u001b[0m\u001b[0;34m)\u001b[0m\u001b[0;34m\u001b[0m\u001b[0m\n\u001b[0m\u001b[1;32m      6\u001b[0m \u001b[0;31m#xy = coordinate_from_string('D1') # returns ('A',4)\u001b[0m\u001b[0;34m\u001b[0m\u001b[0;34m\u001b[0m\u001b[0m\n\u001b[1;32m      7\u001b[0m \u001b[0;31m#col = column_index_from_string(xy[0]) # returns 1\u001b[0m\u001b[0;34m\u001b[0m\u001b[0;34m\u001b[0m\u001b[0m\n",
      "\u001b[0;32m/home/sa.goyal/anaconda2/lib/python2.7/site-packages/pandas/util/_decorators.pyc\u001b[0m in \u001b[0;36mwrapper\u001b[0;34m(*args, **kwargs)\u001b[0m\n\u001b[1;32m    175\u001b[0m                 \u001b[0;32melse\u001b[0m\u001b[0;34m:\u001b[0m\u001b[0;34m\u001b[0m\u001b[0m\n\u001b[1;32m    176\u001b[0m                     \u001b[0mkwargs\u001b[0m\u001b[0;34m[\u001b[0m\u001b[0mnew_arg_name\u001b[0m\u001b[0;34m]\u001b[0m \u001b[0;34m=\u001b[0m \u001b[0mnew_arg_value\u001b[0m\u001b[0;34m\u001b[0m\u001b[0m\n\u001b[0;32m--> 177\u001b[0;31m             \u001b[0;32mreturn\u001b[0m \u001b[0mfunc\u001b[0m\u001b[0;34m(\u001b[0m\u001b[0;34m*\u001b[0m\u001b[0margs\u001b[0m\u001b[0;34m,\u001b[0m \u001b[0;34m**\u001b[0m\u001b[0mkwargs\u001b[0m\u001b[0;34m)\u001b[0m\u001b[0;34m\u001b[0m\u001b[0m\n\u001b[0m\u001b[1;32m    178\u001b[0m         \u001b[0;32mreturn\u001b[0m \u001b[0mwrapper\u001b[0m\u001b[0;34m\u001b[0m\u001b[0m\n\u001b[1;32m    179\u001b[0m     \u001b[0;32mreturn\u001b[0m \u001b[0m_deprecate_kwarg\u001b[0m\u001b[0;34m\u001b[0m\u001b[0m\n",
      "\u001b[0;32m/home/sa.goyal/anaconda2/lib/python2.7/site-packages/pandas/util/_decorators.pyc\u001b[0m in \u001b[0;36mwrapper\u001b[0;34m(*args, **kwargs)\u001b[0m\n\u001b[1;32m    175\u001b[0m                 \u001b[0;32melse\u001b[0m\u001b[0;34m:\u001b[0m\u001b[0;34m\u001b[0m\u001b[0m\n\u001b[1;32m    176\u001b[0m                     \u001b[0mkwargs\u001b[0m\u001b[0;34m[\u001b[0m\u001b[0mnew_arg_name\u001b[0m\u001b[0;34m]\u001b[0m \u001b[0;34m=\u001b[0m \u001b[0mnew_arg_value\u001b[0m\u001b[0;34m\u001b[0m\u001b[0m\n\u001b[0;32m--> 177\u001b[0;31m             \u001b[0;32mreturn\u001b[0m \u001b[0mfunc\u001b[0m\u001b[0;34m(\u001b[0m\u001b[0;34m*\u001b[0m\u001b[0margs\u001b[0m\u001b[0;34m,\u001b[0m \u001b[0;34m**\u001b[0m\u001b[0mkwargs\u001b[0m\u001b[0;34m)\u001b[0m\u001b[0;34m\u001b[0m\u001b[0m\n\u001b[0m\u001b[1;32m    178\u001b[0m         \u001b[0;32mreturn\u001b[0m \u001b[0mwrapper\u001b[0m\u001b[0;34m\u001b[0m\u001b[0m\n\u001b[1;32m    179\u001b[0m     \u001b[0;32mreturn\u001b[0m \u001b[0m_deprecate_kwarg\u001b[0m\u001b[0;34m\u001b[0m\u001b[0m\n",
      "\u001b[0;32m/home/sa.goyal/anaconda2/lib/python2.7/site-packages/pandas/io/excel.pyc\u001b[0m in \u001b[0;36mread_excel\u001b[0;34m(io, sheet_name, header, names, index_col, usecols, squeeze, dtype, engine, converters, true_values, false_values, skiprows, nrows, na_values, parse_dates, date_parser, thousands, comment, skipfooter, convert_float, **kwds)\u001b[0m\n\u001b[1;32m    305\u001b[0m \u001b[0;34m\u001b[0m\u001b[0m\n\u001b[1;32m    306\u001b[0m     \u001b[0;32mif\u001b[0m \u001b[0;32mnot\u001b[0m \u001b[0misinstance\u001b[0m\u001b[0;34m(\u001b[0m\u001b[0mio\u001b[0m\u001b[0;34m,\u001b[0m \u001b[0mExcelFile\u001b[0m\u001b[0;34m)\u001b[0m\u001b[0;34m:\u001b[0m\u001b[0;34m\u001b[0m\u001b[0m\n\u001b[0;32m--> 307\u001b[0;31m         \u001b[0mio\u001b[0m \u001b[0;34m=\u001b[0m \u001b[0mExcelFile\u001b[0m\u001b[0;34m(\u001b[0m\u001b[0mio\u001b[0m\u001b[0;34m,\u001b[0m \u001b[0mengine\u001b[0m\u001b[0;34m=\u001b[0m\u001b[0mengine\u001b[0m\u001b[0;34m)\u001b[0m\u001b[0;34m\u001b[0m\u001b[0m\n\u001b[0m\u001b[1;32m    308\u001b[0m \u001b[0;34m\u001b[0m\u001b[0m\n\u001b[1;32m    309\u001b[0m     return io.parse(\n",
      "\u001b[0;32m/home/sa.goyal/anaconda2/lib/python2.7/site-packages/pandas/io/excel.pyc\u001b[0m in \u001b[0;36m__init__\u001b[0;34m(self, io, **kwds)\u001b[0m\n\u001b[1;32m    392\u001b[0m             \u001b[0mself\u001b[0m\u001b[0;34m.\u001b[0m\u001b[0mbook\u001b[0m \u001b[0;34m=\u001b[0m \u001b[0mxlrd\u001b[0m\u001b[0;34m.\u001b[0m\u001b[0mopen_workbook\u001b[0m\u001b[0;34m(\u001b[0m\u001b[0mfile_contents\u001b[0m\u001b[0;34m=\u001b[0m\u001b[0mdata\u001b[0m\u001b[0;34m)\u001b[0m\u001b[0;34m\u001b[0m\u001b[0m\n\u001b[1;32m    393\u001b[0m         \u001b[0;32melif\u001b[0m \u001b[0misinstance\u001b[0m\u001b[0;34m(\u001b[0m\u001b[0mself\u001b[0m\u001b[0;34m.\u001b[0m\u001b[0m_io\u001b[0m\u001b[0;34m,\u001b[0m \u001b[0mcompat\u001b[0m\u001b[0;34m.\u001b[0m\u001b[0mstring_types\u001b[0m\u001b[0;34m)\u001b[0m\u001b[0;34m:\u001b[0m\u001b[0;34m\u001b[0m\u001b[0m\n\u001b[0;32m--> 394\u001b[0;31m             \u001b[0mself\u001b[0m\u001b[0;34m.\u001b[0m\u001b[0mbook\u001b[0m \u001b[0;34m=\u001b[0m \u001b[0mxlrd\u001b[0m\u001b[0;34m.\u001b[0m\u001b[0mopen_workbook\u001b[0m\u001b[0;34m(\u001b[0m\u001b[0mself\u001b[0m\u001b[0;34m.\u001b[0m\u001b[0m_io\u001b[0m\u001b[0;34m)\u001b[0m\u001b[0;34m\u001b[0m\u001b[0m\n\u001b[0m\u001b[1;32m    395\u001b[0m         \u001b[0;32melse\u001b[0m\u001b[0;34m:\u001b[0m\u001b[0;34m\u001b[0m\u001b[0m\n\u001b[1;32m    396\u001b[0m             raise ValueError('Must explicitly set engine if not passing in'\n",
      "\u001b[0;32m/home/sa.goyal/anaconda2/lib/python2.7/site-packages/xlrd/__init__.pyc\u001b[0m in \u001b[0;36mopen_workbook\u001b[0;34m(filename, logfile, verbosity, use_mmap, file_contents, encoding_override, formatting_info, on_demand, ragged_rows)\u001b[0m\n\u001b[1;32m    114\u001b[0m         \u001b[0mpeek\u001b[0m \u001b[0;34m=\u001b[0m \u001b[0mfile_contents\u001b[0m\u001b[0;34m[\u001b[0m\u001b[0;34m:\u001b[0m\u001b[0mpeeksz\u001b[0m\u001b[0;34m]\u001b[0m\u001b[0;34m\u001b[0m\u001b[0m\n\u001b[1;32m    115\u001b[0m     \u001b[0;32melse\u001b[0m\u001b[0;34m:\u001b[0m\u001b[0;34m\u001b[0m\u001b[0m\n\u001b[0;32m--> 116\u001b[0;31m         \u001b[0;32mwith\u001b[0m \u001b[0mopen\u001b[0m\u001b[0;34m(\u001b[0m\u001b[0mfilename\u001b[0m\u001b[0;34m,\u001b[0m \u001b[0;34m\"rb\"\u001b[0m\u001b[0;34m)\u001b[0m \u001b[0;32mas\u001b[0m \u001b[0mf\u001b[0m\u001b[0;34m:\u001b[0m\u001b[0;34m\u001b[0m\u001b[0m\n\u001b[0m\u001b[1;32m    117\u001b[0m             \u001b[0mpeek\u001b[0m \u001b[0;34m=\u001b[0m \u001b[0mf\u001b[0m\u001b[0;34m.\u001b[0m\u001b[0mread\u001b[0m\u001b[0;34m(\u001b[0m\u001b[0mpeeksz\u001b[0m\u001b[0;34m)\u001b[0m\u001b[0;34m\u001b[0m\u001b[0m\n\u001b[1;32m    118\u001b[0m     \u001b[0;32mif\u001b[0m \u001b[0mpeek\u001b[0m \u001b[0;34m==\u001b[0m \u001b[0;34mb\"PK\\x03\\x04\"\u001b[0m\u001b[0;34m:\u001b[0m \u001b[0;31m# a ZIP file\u001b[0m\u001b[0;34m\u001b[0m\u001b[0m\n",
      "\u001b[0;31mIOError\u001b[0m: [Errno 2] No such file or directory: '/home/sa.goyal/Desktop/excel.xlsx'"
     ]
    }
   ],
   "source": [
    "import pandas as pd\n",
    "import numpy as np\n",
    "#from openpyxl.utils import coordinate_from_string, column_index_from_string\n",
    "\n",
    "df = pd.read_excel('/home/sa.goyal/Desktop/excel.xlsx')\n",
    "#xy = coordinate_from_string('D1') # returns ('A',4)\n",
    "#col = column_index_from_string(xy[0]) # returns 1\n",
    "#row = xy[1]\n",
    "df.iloc[:,-1]"
   ]
  },
  {
   "cell_type": "code",
   "execution_count": 9,
   "metadata": {},
   "outputs": [
    {
     "ename": "AttributeError",
     "evalue": "'list' object has no attribute 'split'",
     "output_type": "error",
     "traceback": [
      "\u001b[0;31m---------------------------------------------------------------------------\u001b[0m",
      "\u001b[0;31mAttributeError\u001b[0m                            Traceback (most recent call last)",
      "\u001b[0;32m<ipython-input-9-714a3d6bda95>\u001b[0m in \u001b[0;36m<module>\u001b[0;34m()\u001b[0m\n\u001b[1;32m      5\u001b[0m \u001b[0misinstance\u001b[0m\u001b[0;34m(\u001b[0m\u001b[0mp\u001b[0m\u001b[0;34m,\u001b[0m\u001b[0mpd\u001b[0m\u001b[0;34m.\u001b[0m\u001b[0mSeries\u001b[0m\u001b[0;34m)\u001b[0m\u001b[0;34m\u001b[0m\u001b[0m\n\u001b[1;32m      6\u001b[0m \u001b[0ml\u001b[0m \u001b[0;34m=\u001b[0m \u001b[0;34m[\u001b[0m\u001b[0;36m8\u001b[0m\u001b[0;34m,\u001b[0m\u001b[0;36m9\u001b[0m\u001b[0;34m]\u001b[0m\u001b[0;34m\u001b[0m\u001b[0m\n\u001b[0;32m----> 7\u001b[0;31m \u001b[0ma\u001b[0m \u001b[0;34m=\u001b[0m \u001b[0ml\u001b[0m\u001b[0;34m.\u001b[0m\u001b[0msplit\u001b[0m\u001b[0;34m(\u001b[0m\u001b[0;34m','\u001b[0m\u001b[0;34m)\u001b[0m\u001b[0;34m\u001b[0m\u001b[0m\n\u001b[0m",
      "\u001b[0;31mAttributeError\u001b[0m: 'list' object has no attribute 'split'"
     ]
    }
   ],
   "source": [
    "import pandas as pd\n",
    "import numpy as np\n",
    "\n",
    "p = pd.Series([4,3,5])\n",
    "isinstance(p,pd.Series)\n",
    "l = [8,9]\n",
    "a = l.split(',')"
   ]
  },
  {
   "cell_type": "code",
   "execution_count": 6,
   "metadata": {},
   "outputs": [
    {
     "data": {
      "text/plain": [
       "[u'<style  type=\"text/css\" >',\n",
       " u'</style>  ',\n",
       " u'<table id=\"T_bc650d7e_9f9b_11e8_aad2_90324b783997\" > ',\n",
       " u'<thead>    <tr> ',\n",
       " u'        <th class=\"blank level0\" ></th> ',\n",
       " u'        <th class=\"col_heading level0 col0\" >absd</th> ',\n",
       " u'        <th class=\"col_heading level0 col1\" >qsdqw</th> ',\n",
       " u'        <th class=\"col_heading level0 col2\" >wqdqw</th> ',\n",
       " u'        <th class=\"col_heading level0 col3\" >dqw</th> ',\n",
       " u'    </tr></thead> ']"
      ]
     },
     "execution_count": 6,
     "metadata": {},
     "output_type": "execute_result"
    }
   ],
   "source": [
    "df.style.highlight_null().render().split('\\n')[:10]"
   ]
  },
  {
   "cell_type": "code",
   "execution_count": 16,
   "metadata": {},
   "outputs": [
    {
     "ename": "AttributeError",
     "evalue": "'module' object has no attribute 'ExcelFile'",
     "output_type": "error",
     "traceback": [
      "\u001b[0;31m---------------------------------------------------------------------------\u001b[0m",
      "\u001b[0;31mAttributeError\u001b[0m                            Traceback (most recent call last)",
      "\u001b[0;32m<ipython-input-16-78cbf919fdd2>\u001b[0m in \u001b[0;36m<module>\u001b[0;34m()\u001b[0m\n\u001b[1;32m      1\u001b[0m \u001b[0;32mimport\u001b[0m \u001b[0mxlrd\u001b[0m\u001b[0;34m\u001b[0m\u001b[0m\n\u001b[0;32m----> 2\u001b[0;31m \u001b[0mbook\u001b[0m \u001b[0;34m=\u001b[0m \u001b[0mxlrd\u001b[0m\u001b[0;34m.\u001b[0m\u001b[0mExcelFile\u001b[0m\u001b[0;34m(\u001b[0m\u001b[0;34m\"/home/sa.goyal/Desktop/excel.xlsx\"\u001b[0m\u001b[0;34m,\u001b[0m \u001b[0mformatting_info\u001b[0m\u001b[0;34m=\u001b[0m\u001b[0mTrue\u001b[0m\u001b[0;34m)\u001b[0m\u001b[0;34m\u001b[0m\u001b[0m\n\u001b[0m\u001b[1;32m      3\u001b[0m \u001b[0msheets\u001b[0m \u001b[0;34m=\u001b[0m \u001b[0mdf\u001b[0m\u001b[0;34m.\u001b[0m\u001b[0msheet_names\u001b[0m\u001b[0;34m(\u001b[0m\u001b[0;34m)\u001b[0m\u001b[0;34m\u001b[0m\u001b[0m\n\u001b[1;32m      4\u001b[0m \u001b[0;32mprint\u001b[0m \u001b[0;34m\"sheets are:\"\u001b[0m\u001b[0;34m,\u001b[0m \u001b[0msheets\u001b[0m\u001b[0;34m\u001b[0m\u001b[0m\n\u001b[1;32m      5\u001b[0m \u001b[0;32mfor\u001b[0m \u001b[0mindex\u001b[0m\u001b[0;34m,\u001b[0m \u001b[0msh\u001b[0m \u001b[0;32min\u001b[0m \u001b[0menumerate\u001b[0m\u001b[0;34m(\u001b[0m\u001b[0msheets\u001b[0m\u001b[0;34m)\u001b[0m\u001b[0;34m:\u001b[0m\u001b[0;34m\u001b[0m\u001b[0m\n",
      "\u001b[0;31mAttributeError\u001b[0m: 'module' object has no attribute 'ExcelFile'"
     ]
    }
   ],
   "source": [
    "import xlrd\n",
    "book = xlrd.ExcelFile(\"/home/sa.goyal/Desktop/excel.xlsx\", formatting_info=True)\n",
    "sheets = df.sheet_names()\n",
    "print \"sheets are:\", sheets\n",
    "for index, sh in enumerate(sheets):\n",
    "    sheet = book.sheet_by_index(index)\n",
    "    print \"Sheet:\", sheet.name\n",
    "    rows, cols = sheet.nrows, sheet.ncols\n",
    "    print \"Number of rows: %s   Number of cols: %s\" % (rows, cols)\n",
    "    for row in range(rows):\n",
    "        for col in range(cols):\n",
    "            print \"row, col is:\", row+1, col+1,\n",
    "            thecell = sheet.cell(row, col)      \n",
    "            # could get 'dump', 'value', 'xf_index'\n",
    "            print thecell.value,\n",
    "            xfx = sheet.cell_xf_index(row, col)\n",
    "            xf = book.xf_list[xfx]\n",
    "            bgx = xf.background.pattern_colour_index\n",
    "            print bgx"
   ]
  },
  {
   "cell_type": "code",
   "execution_count": 321,
   "metadata": {},
   "outputs": [
    {
     "name": "stdout",
     "output_type": "stream",
     "text": [
      "    absd     qsdqw        wqdqw   dqw color_code\n",
      "0  eefe3     F3 ##       f3ef f  0.34       fail\n",
      "1   efef  f43gh ff  f33f ffv ff  0.14        mid\n",
      "2    2ef     efeef  ef3ef e3ff3  0.87       pass\n",
      "3   fe3e      ef34        3f3f   0.00   No color\n"
     ]
    }
   ],
   "source": [
    "#!usr/bin/env python\n",
    "\n",
    "import pandas as pd\n",
    "import numpy as np\n",
    "import re\n",
    "import os\n",
    "import sys\n",
    "import xlrd\n",
    "\n",
    "def func(file_path):\n",
    "\n",
    "        dict_color = {\n",
    "                '#FF6600' : 'fail',\n",
    "                '#FFFF00' : 'mid',\n",
    "                '#FF0000' : 'pass',\n",
    "                }\n",
    "        df = {}\n",
    "        excel_file = pd.ExcelFile(file_path)\n",
    "\n",
    "        sheets = excel_file.sheet_names\n",
    "        f_list, ll, final_list = [], [], []\n",
    "        j = 0\n",
    "        for i in sheets:\n",
    "                df[i] = pd.read_excel(file_path, i)\n",
    "                row, col = df[i].shape\n",
    "                last_col = df[i].iloc[:, -1]\n",
    "                last_col_list = list(last_col)\n",
    "                f_list += last_col_list\n",
    "                fi_list = map(str,f_list)\n",
    "      \n",
    "        with open('/home/sa.goyal/Desktop/excel_html.html', 'r+') as fh:\n",
    "            text = fh.read()\n",
    "            cell = re.findall('bgcolor=\"(\\S+)\" \\S+ \\S+(\\d\\d+)', text)\n",
    "            for i in cell:\n",
    "                ll.append(i)\n",
    "\n",
    "            col_code = [x[0] for x in ll]\n",
    "            sheet1_col = col_code[:row]\n",
    "                \n",
    "            col_val = [x[1] for x in ll]\n",
    "            for i in col_val:\n",
    "                final_list.append(\"0.\"+i)\n",
    "            i = 0\n",
    "            new_s = []\n",
    "            for i in sheet1_col:\n",
    "                if i in dict_color:\n",
    "                    new_s.append(dict_color[i])\n",
    "                else:\n",
    "                    new_s.append(\"No color\")\n",
    "            #print new_s\n",
    "            new_se = pd.Series(new_s, name='color_code')\n",
    "\n",
    "            df_1 = pd.read_excel(file_path, 'first')\n",
    "            df_f = pd.concat([df_1,new_se], axis=1)\n",
    "            print df_f\n",
    "            \n",
    "def main():\n",
    "        '''args = sys.argv[1:]\n",
    "\n",
    "        if not args:\n",
    "                print 'usage: [--in excel_path]'\n",
    "                sys.exit(1)\n",
    "\n",
    "        if args[0] == '--in':\n",
    "                file_path = args[1]\n",
    "                del args[0:2]'''\n",
    "        \n",
    "        func('/home/sa.goyal/Desktop/excel.xlsx')\n",
    "\n",
    "if __name__ == '__main__':\n",
    "        main()\n",
    "# bgcolor=\"#007826\" sdval=\"0\" sdnum=\"16393;0;0%\">0%</td>\n",
    "# bgcolor=\"#FF0000\" sdval=\"0.87\" sdnum=\"16393;0;0%\">87%</td>"
   ]
  },
  {
   "cell_type": "code",
   "execution_count": 586,
   "metadata": {},
   "outputs": [
    {
     "name": "stdout",
     "output_type": "stream",
     "text": [
      "<Cell u'first'.D3> No color\n",
      "<Cell u'second'.G2> pass\n",
      "<Cell u'first'.D5> No color\n",
      "<Cell u'second'.G5> No color\n",
      "<Cell u'second'.G4> pass\n",
      "<Cell u'first'.D4> No color\n",
      "<Cell u'first'.D2> pass\n",
      "<Cell u'second'.G3> No color\n"
     ]
    },
    {
     "name": "stderr",
     "output_type": "stream",
     "text": [
      "/home/sa.goyal/anaconda2/lib/python2.7/site-packages/ipykernel_launcher.py:24: DeprecationWarning: Call to deprecated function get_sheet_names (Use wb.sheetnames).\n",
      "/home/sa.goyal/anaconda2/lib/python2.7/site-packages/ipykernel_launcher.py:25: DeprecationWarning: Call to deprecated function get_sheet_by_name (Use wb[sheetname]).\n"
     ]
    }
   ],
   "source": [
    "from openpyxl import load_workbook\n",
    "import itertools\n",
    "\n",
    "file_path = '/home/sa.goyal/Desktop/excel.xlsx'\n",
    "file_obj = load_workbook(file_path)\n",
    "\n",
    "excel_file = pd.ExcelFile(file_path) \n",
    "sheets = excel_file.sheet_names\n",
    "\n",
    "df_dict, series_dict = {}, {}\n",
    "for i in sheets:\n",
    "    df_dict[i] = pd.read_excel(file_path,i)\n",
    "\n",
    "dict_color = {\n",
    "                'FFFF9900' : 'fail',      # orange\n",
    "                'FF993300' : 'mid',       # red\n",
    "                'FFFFFF00' : 'pass',      # yellow\n",
    "                'FF008080' : 'fine'       # green\n",
    "            }\n",
    "\n",
    "obj, sheet = [], []\n",
    "\n",
    "for i in range(0,len(df_dict.keys())):\n",
    "    obj.append(file_obj.get_sheet_names()[i])\n",
    "    sheet.append(file_obj.get_sheet_by_name(obj[i]))\n",
    "\n",
    "for lineSheet1, lineSheet2 in itertools.izip(sheet[0]['D2': 'D' + str(sheet[0].max_row)],sheet[1]['G2':'G' + str(sheet[1].max_row)]):\n",
    "    for columnSheet1, columnSheet2 in itertools.izip(lineSheet1,lineSheet2):\n",
    "        if columnSheet1.fill.bgColor.rgb in dict_color:\n",
    "            series_dict[columnSheet1] = dict_color[columnSheet1.fill.bgColor.rgb]\n",
    "        else:\n",
    "            series_dict[columnSheet1] = 'No color'\n",
    "        if columnSheet2.fill.bgColor.rgb in dict_color:\n",
    "            series_dict[columnSheet2] = dict_color[columnSheet2.fill.bgColor.rgb]\n",
    "        else:\n",
    "            series_dict[columnSheet2] = 'No color'\n",
    "\n",
    "# df_1 = pd.concat([df_1, pd.Series(s1, name='color_code')], axis=1)\n",
    "# df_2 = pd.concat([df_2, pd.Series(s2, name='color_code')], axis=1)\n",
    "\n",
    "for i in df_dict:\n",
    "    df_dict[i] = pd.concat([df_dict[i], ])\n",
    "    \n",
    "for k, v in series_dict.iteritems():\n",
    "    print k, v"
   ]
  },
  {
   "cell_type": "code",
   "execution_count": 567,
   "metadata": {},
   "outputs": [
    {
     "name": "stdout",
     "output_type": "stream",
     "text": [
      "0.34\n",
      "0.14\n",
      "0.87\n",
      "0\n"
     ]
    },
    {
     "name": "stderr",
     "output_type": "stream",
     "text": [
      "/home/sa.goyal/anaconda2/lib/python2.7/site-packages/ipykernel_launcher.py:19: DeprecationWarning: Call to deprecated function get_sheet_names (Use wb.sheetnames).\n",
      "/home/sa.goyal/anaconda2/lib/python2.7/site-packages/ipykernel_launcher.py:20: DeprecationWarning: Call to deprecated function get_sheet_by_name (Use wb[sheetname]).\n"
     ]
    },
    {
     "data": {
      "text/plain": [
       "'r,j = 2, 0\\nfor i in s1:\\n    sheet[0].cell(row=r, column=5).value = s1[j]\\n    j += 1\\n    r += 1\\n\\nr,j = 2, 0\\nfor i in s2:\\n    sheet[1].cell(row=r, column=8).value = s2[j]\\n    j += 1\\n    r += 1\\n    \\nfor a,b in itertools.izip(s1,s2):\\n    sheet[0].cell(row=r, column=5).value = s1[j]\\n    sheet[1].cell(row=r, column=8).value = s2[j]\\n    j += 1\\n    r += 1'"
      ]
     },
     "execution_count": 567,
     "metadata": {},
     "output_type": "execute_result"
    }
   ],
   "source": [
    "from openpyxl import load_workbook\n",
    "\n",
    "file_path = '/home/sa.goyal/Desktop/excel.xlsx'\n",
    "file_obj = load_workbook(file_path)\n",
    "excel_file = pd.ExcelFile(file_path)\n",
    "df_1 = pd.read_excel(file_path, 'first')\n",
    "df_2 = pd.read_excel(file_path, 'second')\n",
    "\n",
    "dict_color = {\n",
    "                'FFFF9900' : 'fail',      # orange\n",
    "                'FF993300' : 'mid',       # red\n",
    "                'FFFFFF00' : 'pass',      # yellow\n",
    "                'FF008080' : 'fine'       # green\n",
    "            }\n",
    "\n",
    "obj = []\n",
    "sheet = []\n",
    "for i in range(0,2):\n",
    "    obj.append(file_obj.get_sheet_names()[i])\n",
    "    sheet.append(file_obj.get_sheet_by_name(obj[i]))\n",
    "\n",
    "l1, l2, s1, s2 = [], [], [], []\n",
    "\n",
    "for line in sheet[0]['D2':'D5']:\n",
    "    for column in line:\n",
    "        l1.append(column.fill.bgColor.rgb)\n",
    "\n",
    "\n",
    "for line in sheet[1]['G2':'G5']:\n",
    "    for column in line:\n",
    "        l2.append(column.fill.bgColor.rgb)\n",
    "        print column.value\n",
    "        \n",
    "for i in l1:\n",
    "    if i in dict_color:\n",
    "        s1.append(dict_color[i])\n",
    "    else:\n",
    "        s1.append(\"No color\")\n",
    "\n",
    "for i in l2:\n",
    "    if i in dict_color:\n",
    "        s2.append(dict_color[i])\n",
    "    else:\n",
    "        s2.append(\"No color\")\n",
    "        \n",
    "'''r,j = 2, 0\n",
    "for i in s1:\n",
    "    sheet[0].cell(row=r, column=5).value = s1[j]\n",
    "    j += 1\n",
    "    r += 1\n",
    "\n",
    "r,j = 2, 0\n",
    "for i in s2:\n",
    "    sheet[1].cell(row=r, column=8).value = s2[j]\n",
    "    j += 1\n",
    "    r += 1\n",
    "    \n",
    "for a,b in itertools.izip(s1,s2):\n",
    "    sheet[0].cell(row=r, column=5).value = s1[j]\n",
    "    sheet[1].cell(row=r, column=8).value = s2[j]\n",
    "    j += 1\n",
    "    r += 1'''\n",
    "    \n",
    "#file_obj.save(filepath)"
   ]
  },
  {
   "cell_type": "code",
   "execution_count": 433,
   "metadata": {},
   "outputs": [
    {
     "name": "stdout",
     "output_type": "stream",
     "text": [
      "<Worksheet \"first\">\n",
      "<Cell u'first'.A1>\n"
     ]
    }
   ],
   "source": [
    "# import load_workbook\n",
    "from openpyxl import load_workbook\n",
    "# set file path\n",
    "filepath='/home/sa.goyal/Desktop/excel.xlsx'\n",
    "# load demo.xlsx \n",
    "wb=load_workbook(filepath)\n",
    "# activate demo.xlsx\n",
    "sheet=wb.active\n",
    "print sheet\n",
    "# set value for cell A1=1\n",
    "print sheet['A1']\n",
    "# set value for cell B2=2\n",
    "sheet.cell(row=2, column=2).value = 2\n",
    "# save workbook \n",
    "wb.save(filepath)"
   ]
  },
  {
   "cell_type": "code",
   "execution_count": 332,
   "metadata": {},
   "outputs": [
    {
     "ename": "ImportError",
     "evalue": "No module named win32com.client",
     "output_type": "error",
     "traceback": [
      "\u001b[0;31m---------------------------------------------------------------------------\u001b[0m",
      "\u001b[0;31mImportError\u001b[0m                               Traceback (most recent call last)",
      "\u001b[0;32m<ipython-input-332-4756a521680f>\u001b[0m in \u001b[0;36m<module>\u001b[0;34m()\u001b[0m\n\u001b[0;32m----> 1\u001b[0;31m \u001b[0;32mfrom\u001b[0m \u001b[0mwin32com\u001b[0m\u001b[0;34m.\u001b[0m\u001b[0mclient\u001b[0m \u001b[0;32mimport\u001b[0m \u001b[0mDispatch\u001b[0m\u001b[0;34m\u001b[0m\u001b[0m\n\u001b[0m\u001b[1;32m      2\u001b[0m \u001b[0;34m\u001b[0m\u001b[0m\n\u001b[1;32m      3\u001b[0m '''xl = Dispatch('Excel.Application')\n\u001b[1;32m      4\u001b[0m \u001b[0mxl\u001b[0m\u001b[0;34m.\u001b[0m\u001b[0mWorkbooks\u001b[0m\u001b[0;34m.\u001b[0m\u001b[0mOpen\u001b[0m\u001b[0;34m(\u001b[0m\u001b[0;34m'/home/sa.goyal/Desktop/excel.xlsx'\u001b[0m\u001b[0;34m)\u001b[0m\u001b[0;34m\u001b[0m\u001b[0m\n\u001b[1;32m      5\u001b[0m \u001b[0;31m#xl.Visible = True -- optional\u001b[0m\u001b[0;34m\u001b[0m\u001b[0;34m\u001b[0m\u001b[0m\n",
      "\u001b[0;31mImportError\u001b[0m: No module named win32com.client"
     ]
    }
   ],
   "source": [
    "from win32com.client import Dispatch\n",
    "\n",
    "'''xl = Dispatch('Excel.Application')\n",
    "xl.Workbooks.Open('/home/sa.goyal/Desktop/excel.xlsx')\n",
    "#xl.Visible = True -- optional\n",
    "xl.Application.Run(\"SaveHTML\")\n",
    "xl.Workbooks.Close'''\n",
    "\n",
    "xl = Dispatch('Excel.Application')\n",
    "wb = xl.Workbooks.Add('/home/sa.goyal/Desktop/excel.xlsx')\n",
    "wb.SaveAs(my_xlsx_excel_file[:-1], FileFormat=44)\n",
    "xl.Quit()"
   ]
  },
  {
   "cell_type": "code",
   "execution_count": 56,
   "metadata": {},
   "outputs": [
    {
     "data": {
      "text/plain": [
       "['bgcolor=\"#999999\">']"
      ]
     },
     "execution_count": 56,
     "metadata": {},
     "output_type": "execute_result"
    }
   ],
   "source": [
    "ss ='<td style=\"border-top: 1px solid #000000; border-bottom: 1px solid #000000; border-left: 1px solid #000000; border-right: 1px solid #000000\" align=\"left\" bgcolor=\"#999999\"><b>dqw</b></td>'\n",
    "\n",
    "re.findall('bgcolor\\S+\">',ss)"
   ]
  },
  {
   "cell_type": "code",
   "execution_count": 630,
   "metadata": {},
   "outputs": [
    {
     "name": "stdout",
     "output_type": "stream",
     "text": [
      "      0         1            2     3           4\n",
      "0  absd     qsdqw        wqdqw   dqw  color_code\n",
      "1    kh     F3 ##       f3ef f  0.34        pass\n",
      "2  efef  f43gh ff  f33f ffv ff  0.14    No color\n",
      "3   2ef     efeef  ef3ef e3ff3  0.87    No color\n",
      "4  fe3e      ef34        3f3f      0    No color\n",
      "     0       1     2          3         4            5     6           7\n",
      "0  Abc     Xyz   mno       absd     qsdqw        wqdqw   dqw  color_code\n",
      "1    1   ewdwe    ##      eefe3     F3 ##       f3ef f  0.34        pass\n",
      "2    2  wefwew    EE  jggiuguhk  f43gh ff  f33f ffv ff  0.14    No color\n",
      "3    3     efe   231        2ef     efeef  ef3ef e3ff3  0.87        pass\n",
      "4    4     2ef  @###       fe3e      ef34        3f3f      0    No color\n"
     ]
    }
   ],
   "source": [
    "import openpyxl\n",
    "excel_document = openpyxl.load_workbook('/home/sa.goyal/Desktop/excel2.xlsx')\n",
    "\n",
    "def func(col):\n",
    "    dict_color = {\n",
    "                'FFFF9900' : 'fail',      # orange\n",
    "                'FF993300' : 'mid',       # red\n",
    "                'FFFFFF00' : 'pass',      # yellow\n",
    "                'FF008080' : 'fine',      # green\n",
    "                '00000000' : 'color_code'\n",
    "            }\n",
    "    return dict_color.get(col, \"No color\")\n",
    "        \n",
    "df_list = []\n",
    "for sheet in excel_document:\n",
    "    sheet_list = []\n",
    "    for row in sheet:\n",
    "        row_list = []\n",
    "        col = row[-1].fill.bgColor.rgb\n",
    "        for cell in row:\n",
    "            row_list.append(cell.value)\n",
    "        status = func(col)\n",
    "        row_list.append(status)\n",
    "        sheet_list.append(tuple(row_list))\n",
    "    df_list.append(pd.DataFrame(sheet_list))\n",
    "for i in df_list:\n",
    "    print i"
   ]
  },
  {
   "cell_type": "code",
   "execution_count": null,
   "metadata": {},
   "outputs": [],
   "source": []
  }
 ],
 "metadata": {
  "kernelspec": {
   "display_name": "Python 2",
   "language": "python",
   "name": "python2"
  },
  "language_info": {
   "codemirror_mode": {
    "name": "ipython",
    "version": 2
   },
   "file_extension": ".py",
   "mimetype": "text/x-python",
   "name": "python",
   "nbconvert_exporter": "python",
   "pygments_lexer": "ipython2",
   "version": "2.7.15"
  }
 },
 "nbformat": 4,
 "nbformat_minor": 2
}
