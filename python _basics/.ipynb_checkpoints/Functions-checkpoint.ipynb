{
 "cells": [
  {
   "cell_type": "code",
   "execution_count": 20,
   "metadata": {},
   "outputs": [
    {
     "name": "stdout",
     "output_type": "stream",
     "text": [
      "find_fun\n",
      "7 1 4.05311584473e-06\n"
     ]
    }
   ],
   "source": [
    "import time\n",
    "import sys\n",
    "\n",
    "list1 = [1,4,6,3,6,7]\n",
    "def find_fun():\n",
    "    print sys._getframe().f_code.co_name\n",
    "    start = time.time()\n",
    "    high = max(list1)\n",
    "    low = min (list1)\n",
    "    end = time.time()\n",
    "    return high, low, (end - start)\n",
    "\n",
    "a, b, c = find_fun()\n",
    "print a,b,c"
   ]
  },
  {
   "cell_type": "code",
   "execution_count": 2,
   "metadata": {},
   "outputs": [
    {
     "name": "stdout",
     "output_type": "stream",
     "text": [
      "name : sakshi\n"
     ]
    }
   ],
   "source": [
    "def implement_kwargs(**args):\n",
    "    for key, value in args.iteritems():\n",
    "        print \"%s : %s\" % (key,value)\n",
    "        \n",
    "implement_kwargs(name=\"sakshi\")"
   ]
  },
  {
   "cell_type": "code",
   "execution_count": 3,
   "metadata": {},
   "outputs": [
    {
     "data": {
      "text/plain": [
       "11"
      ]
     },
     "execution_count": 3,
     "metadata": {},
     "output_type": "execute_result"
    }
   ],
   "source": [
    "def fun_implicit(x,y=9): #constant value should be assigned at the end\n",
    "    return x+y\n",
    "\n",
    "fun_implicit(2)"
   ]
  },
  {
   "cell_type": "code",
   "execution_count": 4,
   "metadata": {},
   "outputs": [
    {
     "name": "stdout",
     "output_type": "stream",
     "text": [
      "[2, 3, 5, 7, 4, 7, 9]\n"
     ]
    }
   ],
   "source": [
    "# any number of arguments\n",
    "def fun_add_n(*args):\n",
    "    list1 = []\n",
    "    for i in args:\n",
    "        list1.append(i)\n",
    "    print list1\n",
    "            \n",
    "fun_add_n(2,3,5,7,4,7,9)"
   ]
  },
  {
   "cell_type": "code",
   "execution_count": 5,
   "metadata": {},
   "outputs": [
    {
     "name": "stdout",
     "output_type": "stream",
     "text": [
      "4\n"
     ]
    }
   ],
   "source": [
    "l = lambda x,y: x+y\n",
    "print l(2,2)"
   ]
  },
  {
   "cell_type": "code",
   "execution_count": 23,
   "metadata": {},
   "outputs": [
    {
     "name": "stdout",
     "output_type": "stream",
     "text": [
      "[2, 4, 6, 8]\n"
     ]
    }
   ],
   "source": [
    "m = map(lambda x,y: x+y, [1,2,3,4], [1,2,3,4])\n",
    "print m"
   ]
  },
  {
   "cell_type": "code",
   "execution_count": 7,
   "metadata": {},
   "outputs": [
    {
     "name": "stdout",
     "output_type": "stream",
     "text": [
      "['10', '12', '14', '1', '5']\n"
     ]
    }
   ],
   "source": [
    "m2 = map(str, [10,12,14,1,5])\n",
    "print m2"
   ]
  },
  {
   "cell_type": "code",
   "execution_count": 8,
   "metadata": {},
   "outputs": [
    {
     "name": "stdout",
     "output_type": "stream",
     "text": [
      "[False, False, True, False, True, False]\n"
     ]
    }
   ],
   "source": [
    "m3 = map(lambda x:x>5,[1,4,6,5,9,3])\n",
    "print m3"
   ]
  },
  {
   "cell_type": "code",
   "execution_count": 9,
   "metadata": {},
   "outputs": [
    {
     "name": "stdout",
     "output_type": "stream",
     "text": [
      "[9, 5, 7]\n"
     ]
    }
   ],
   "source": [
    "f = filter(lambda x:x>=5,[1,2,4,9,3,5,7])\n",
    "print f"
   ]
  },
  {
   "cell_type": "code",
   "execution_count": 1,
   "metadata": {},
   "outputs": [
    {
     "name": "stdout",
     "output_type": "stream",
     "text": [
      "8\n"
     ]
    }
   ],
   "source": [
    "r = reduce(lambda x,y:x+y,[1,2,5])   # takes the sum of all the elements in the list\n",
    "print r"
   ]
  },
  {
   "cell_type": "code",
   "execution_count": 29,
   "metadata": {},
   "outputs": [
    {
     "data": {
      "text/plain": [
       "2"
      ]
     },
     "execution_count": 29,
     "metadata": {},
     "output_type": "execute_result"
    }
   ],
   "source": [
    "l = ['u', 'x', 'xy', 'xyx', 'xx']\n",
    "len(filter(lambda i: i[0] == i[len(i)-1] and len(i)>=2, l))"
   ]
  },
  {
   "cell_type": "code",
   "execution_count": 34,
   "metadata": {},
   "outputs": [
    {
     "name": "stdout",
     "output_type": "stream",
     "text": [
      "['x', 'xx', 'xy', 'xyx', 'u']\n"
     ]
    }
   ],
   "source": [
    "a,b =[],[]\n",
    "for i in l:\n",
    "    a.append(i) if i[0] == \"x\" else b.append(i)\n",
    "\n",
    "a.sort()\n",
    "b.sort()\n",
    "print a+b"
   ]
  },
  {
   "cell_type": "code",
   "execution_count": null,
   "metadata": {},
   "outputs": [],
   "source": []
  }
 ],
 "metadata": {
  "kernelspec": {
   "display_name": "Python 2",
   "language": "python",
   "name": "python2"
  },
  "language_info": {
   "codemirror_mode": {
    "name": "ipython",
    "version": 2
   },
   "file_extension": ".py",
   "mimetype": "text/x-python",
   "name": "python",
   "nbconvert_exporter": "python",
   "pygments_lexer": "ipython2",
   "version": "2.7.15"
  }
 },
 "nbformat": 4,
 "nbformat_minor": 2
}
