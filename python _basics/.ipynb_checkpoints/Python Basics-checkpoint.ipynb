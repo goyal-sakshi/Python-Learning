{
 "cells": [
  {
   "cell_type": "code",
   "execution_count": 5,
   "metadata": {},
   "outputs": [
    {
     "name": "stdout",
     "output_type": "stream",
     "text": [
      "hello world\n",
      "HEY\n",
      "Hi\n",
      "    I am Sakshi\n",
      "heyy! ok Byee!!\n",
      "heyy!ok Byee!!\n",
      "heyy!, I am SAKSHI\n",
      "-----\n",
      "18 - %d integer\n",
      "18.000000 - %f float\n",
      "12 - %x hexadecimal\n",
      "1.800000e+01 - %e exponential\n",
      "22 - %o octal\n",
      "**********\n",
      "I wanna TRY I\n",
      "My name is sakshi, I work at Gemini. I am from Mohali\n",
      "_A_A_A_A_A_A_A_A\n",
      "000003.01246\n",
      "3.055    \n"
     ]
    }
   ],
   "source": [
    "# print variations\n",
    "\n",
    "print \"hello world\"\n",
    "print 'HEY'\n",
    "print \"\"\"Hi\n",
    "    I am Sakshi\"\"\"   # triple quotes prints the way it is typed\n",
    "\n",
    "str1 = \"heyy!\"\n",
    "str2 = \"ok Byee!!\"\n",
    "print str1, str2 # , by default generates a space\n",
    "print str1 + str2 # + does not add a space, it concats the strings\n",
    "\n",
    "print \"%s, I am SAKSHI\" % str1 # %s referes to a variable containing string\n",
    "# %d -> integer\n",
    "# %f -> float\n",
    "# %x -> hexadecimal\n",
    "# %e -> exponential\n",
    "# %o -> octal\n",
    "\n",
    "print \"-----\"\n",
    "print \"\"\"%d - %%d integer\n",
    "%f - %%f float\n",
    "%x - %%x hexadecimal\n",
    "%e - %%e exponential\n",
    "%o - %%o octal\"\"\" % (18,18,18,18,18) # %% to print %, passing variables to coresponding data types\n",
    "\n",
    "print\"**********\"\n",
    "print \"{0} {1} TRY {0}\".format(\"I\", \"wanna\")\n",
    "l1 = \"My name is {my_name}, I work at {company_name}. I am from {location}\"\n",
    "print l1.format(my_name = 'sakshi', location = 'Mohali', company_name = 'Gemini')\n",
    "print \"_A\"*8\n",
    "print \"%012.5f\" % 3.012455214\n",
    "print \"%-9.3f\" % 3.054654"
   ]
  },
  {
   "cell_type": "code",
   "execution_count": 10,
   "metadata": {},
   "outputs": [
    {
     "name": "stdout",
     "output_type": "stream",
     "text": [
      "k bye\n",
      "3\n",
      "o\n",
      "0\n",
      "3\n",
      "Hey, ok, ok bye\n",
      "**hey, ok, ok bye***\n",
      "00000hey, ok, ok bye\n",
      "     HI,  I    am   sakshi\n",
      "True\n",
      "True\n",
      "-------------\n",
      "2\n",
      "file.txt\n",
      "fcvvn\n",
      "['f', 'i', 'l', 'e', '.', 't', 'x', 't']\n",
      "f i l e . t x t\n",
      "l*e*.*t*x*t\n",
      "['hey,', 'ok, ok bye']\n",
      "8\n",
      "--------------\n",
      "HEY, OK, OK BYE\n",
      "hi, ok, ok bye\n",
      "HELLO\n",
      "HELLO----****    \n"
     ]
    }
   ],
   "source": [
    "# string variations\n",
    "\n",
    "str1 = \"hey, ok, ok bye\"\n",
    "str2 = \"\\tHI,\\tI\\tam\\tsakshi\"\n",
    "str3 = \"file.txt\"\n",
    "str4 = \"    ****----HELLO----****    \"\n",
    "print str1[-5:]\n",
    "print str1.find(\",\") # returns the index if the substring exists, and returns -1 if the string does not exists\n",
    "print str1[9]\n",
    "print str1.find('h',0,10) # find the string between this range, returns its index, else -1\n",
    "print str1.index(',') # returns index if found, else throws an error\n",
    "print str1.capitalize() # capitalize the first alphabet of the string\n",
    "print str1.center(20,'*') # aligns in center having 100 chars in total\n",
    "\n",
    "print str1.zfill(20)\n",
    "print str2.expandtabs(5)\n",
    "print str3.endswith('.txt')\n",
    "print str3.endswith('.', 0,5) # start and stop index \n",
    "\n",
    "print \"-------------\"\n",
    "print str1.count('ok') # number of occerences of the string, can also give start and stop index\n",
    "print ''.join(str3) # joins the string placing '_' in between\n",
    "l1 = list(str3)\n",
    "print \"fcvvn\"\n",
    "print l1\n",
    "print ' '.join(l1) # joins what is before join to the string that is inside join\n",
    "print '*'.join(str3)[4:]\n",
    "print str1.split(\" \",1) \n",
    "print len(l1)\n",
    "\n",
    "print(\"--------------\")\n",
    "print str1.upper()\n",
    "print str1.replace(\"hey\",\"hi\")\n",
    "print str4.strip(\" *-\")\n",
    "print str4.lstrip(\" *-\")"
   ]
  },
  {
   "cell_type": "code",
   "execution_count": 8,
   "metadata": {},
   "outputs": [
    {
     "name": "stdout",
     "output_type": "stream",
     "text": [
      "1\n",
      "a = [('One', 1), ('Two', 2), ('Three', 3), ('Four', 4), ('One', 8)]\n",
      "{'Four': 4, 'Three': 3, 'Two': 2, 'One': 8}\n",
      "{'Four': 4, 'Three': 3, 'Two': 2, 'One': 8}\n",
      "[4, 3, 2, 8]\n",
      "['Four', 'Three', 'Two', 'One']\n",
      "[('Four', 4), ('Three', 3), ('Two', 2), ('One', 8)]\n",
      "{'Four': 4, 'Three': 3, 'One': 8}\n",
      "['One', 'Two', 'Three', 'Four', 'One', 1, 2, 3, 4, 8]\n",
      "{'Four': 4, 'Three': 3, 'One': 8}\n"
     ]
    },
    {
     "data": {
      "text/plain": [
       "numpy.bool_"
      ]
     },
     "execution_count": 8,
     "metadata": {},
     "output_type": "execute_result"
    }
   ],
   "source": [
    "# dictonaries\n",
    "# {key : value}\n",
    "d1 = {} # one way to declare, and faster way than the other\n",
    "d2 = dict() # another way to declare\n",
    "d1['one'] = 1\n",
    "d1['two'] = 2\n",
    "print d1['one']\n",
    "\n",
    "l1 = ['One', 'Two', 'Three', 'Four', 'One']\n",
    "l2 = [1, 2, 3, 4, 8]\n",
    "\n",
    "a = zip(l1,l2) # combines two lists and makes each element to a tuple\n",
    "print \"a =\", a\n",
    "print dict(a)\n",
    "d1.clear() # to clear dictonary\n",
    "# creating dict using for loop\n",
    "for i in range(len(l1)):\n",
    "    d1[l1[i]] = l2[i]\n",
    "print d1\n",
    "print d1.values()\n",
    "print d1.keys()\n",
    "print d1.items()\n",
    "d1.pop('Two')\n",
    "print d1\n",
    "print l1 + l2\n",
    "print d1\n",
    "import pandas as pd\n",
    "ll = pd.Series([True, False])\n",
    "l = pd.Series(['Four', 'Three'])\n"
   ]
  },
  {
   "cell_type": "code",
   "execution_count": 2,
   "metadata": {},
   "outputs": [
    {
     "data": {
      "text/plain": [
       "{'Four': 4, 'One': 8, 'Three': 3}"
      ]
     },
     "execution_count": 2,
     "metadata": {},
     "output_type": "execute_result"
    }
   ],
   "source": [
    "d1"
   ]
  },
  {
   "cell_type": "code",
   "execution_count": 8,
   "metadata": {},
   "outputs": [
    {
     "name": "stdout",
     "output_type": "stream",
     "text": [
      "30 Gemini\n",
      "30Gemini\n",
      "1 1\n"
     ]
    }
   ],
   "source": [
    "x = 10\n",
    "y = 20\n",
    "xy = \"Gemini\"\n",
    "print x+y, xy\n",
    "print str(x+y) + xy\n",
    "\n",
    "c = d = 1\n",
    "print c,d"
   ]
  },
  {
   "cell_type": "code",
   "execution_count": 9,
   "metadata": {},
   "outputs": [
    {
     "name": "stdout",
     "output_type": "stream",
     "text": [
      "5\n",
      "2\n",
      "1.4\n",
      "1.0\n",
      "1\n",
      "27\n",
      "--------\n",
      "0\n",
      "3\n",
      "3\n",
      "-2\n",
      "2\n",
      "0b0\n"
     ]
    }
   ],
   "source": [
    "# relational operators\n",
    "print 3+2\n",
    "print 5-3\n",
    "print 2.8/2.0\n",
    "print 2.8//2.0 #floor division\n",
    "print 5 % 2 #mod\n",
    "print 3**3 #power of\n",
    "\n",
    "print \"--------\"\n",
    "# bitwise operators\n",
    "a = 1 #01\n",
    "b = 2 #10\n",
    "print a & b\n",
    "print a | b\n",
    "print a ^ b #XOR\n",
    "print ~a\n",
    "print a << 1 #left shift\n",
    "print bin(a&b)"
   ]
  },
  {
   "cell_type": "code",
   "execution_count": 11,
   "metadata": {},
   "outputs": [
    {
     "name": "stdout",
     "output_type": "stream",
     "text": [
      "0xaa\n",
      "170\n",
      "010\n",
      "8\n",
      "a\n",
      "97\n",
      "2.45\n",
      "5.38516480713\n",
      "(4, 1)\n",
      "True\n",
      "False\n",
      "<type 'complex'>\n",
      "<type 'complex'>\n",
      "1\n",
      "8\n",
      "1\n",
      "[0, 1, 2]\n",
      "[1, 2, 3, 4, 5, 6, 7, 8, 9, 10]\n",
      "[1, 3, 5, 7, 9]\n",
      "--------\n",
      "8\n",
      "170\n",
      "10\n"
     ]
    }
   ],
   "source": [
    "# some preloaded functions\n",
    "print hex(170)\n",
    "print 0xAA\n",
    "\n",
    "print oct(8)\n",
    "print 010\n",
    "\n",
    "print chr(97) #ASCII char of the number\n",
    "print ord('a') #ASCII code of the char\n",
    "\n",
    "print round(2.45465,2)\n",
    "c = complex('5+2j')\n",
    "print abs(c)\n",
    "print divmod(9,2) #prints quotient and remainder\n",
    "\n",
    "print isinstance(1,int) #prints boolean value if the value is int and so on\n",
    "print isinstance(1, (str,float)) #prints boolean value if the datatype matches in any of the options\n",
    "print type(c)\n",
    "print c.__class__\n",
    "\n",
    "print cmp(4,2) # x>y -> 1, x<y -> -1, x==y -> 0\n",
    "print pow(2,3) # 2 to the power 3\n",
    "print pow(2,3,7) # x ^ y % z\n",
    "print range (3)\n",
    "print range(1,11)\n",
    "print range(1,11,2) # range at an interval of 2\n",
    "\n",
    "print \"--------\"\n",
    "print int('010',8)\n",
    "print int('0xaa',16)\n",
    "print int('1010',2)"
   ]
  },
  {
   "cell_type": "code",
   "execution_count": 1,
   "metadata": {},
   "outputs": [
    {
     "name": "stdout",
     "output_type": "stream",
     "text": [
      "Type something: 0\n",
      "0\n",
      "Enter an integer: s\n"
     ]
    },
    {
     "ename": "NameError",
     "evalue": "name 's' is not defined",
     "output_type": "error",
     "traceback": [
      "\u001b[0;31m---------------------------------------------------------------------------\u001b[0m",
      "\u001b[0;31mNameError\u001b[0m                                 Traceback (most recent call last)",
      "\u001b[0;32m<ipython-input-1-22d09e5e0bb5>\u001b[0m in \u001b[0;36m<module>\u001b[0;34m()\u001b[0m\n\u001b[1;32m      2\u001b[0m \u001b[0;32mprint\u001b[0m \u001b[0ma\u001b[0m\u001b[0;34m\u001b[0m\u001b[0m\n\u001b[1;32m      3\u001b[0m \u001b[0;34m\u001b[0m\u001b[0m\n\u001b[0;32m----> 4\u001b[0;31m \u001b[0mb\u001b[0m \u001b[0;34m=\u001b[0m \u001b[0minput\u001b[0m\u001b[0;34m(\u001b[0m\u001b[0;34m\"Enter an integer: \"\u001b[0m\u001b[0;34m)\u001b[0m \u001b[0;31m# takes only integer values\u001b[0m\u001b[0;34m\u001b[0m\u001b[0m\n\u001b[0m\u001b[1;32m      5\u001b[0m \u001b[0;32mprint\u001b[0m \u001b[0mb\u001b[0m\u001b[0;34m\u001b[0m\u001b[0m\n",
      "\u001b[0;32m/home/sa.goyal/anaconda2/lib/python2.7/site-packages/ipykernel/ipkernel.pyc\u001b[0m in \u001b[0;36m<lambda>\u001b[0;34m(prompt)\u001b[0m\n\u001b[1;32m    174\u001b[0m             \u001b[0mself\u001b[0m\u001b[0;34m.\u001b[0m\u001b[0m_sys_eval_input\u001b[0m \u001b[0;34m=\u001b[0m \u001b[0mbuiltin_mod\u001b[0m\u001b[0;34m.\u001b[0m\u001b[0minput\u001b[0m\u001b[0;34m\u001b[0m\u001b[0m\n\u001b[1;32m    175\u001b[0m             \u001b[0mbuiltin_mod\u001b[0m\u001b[0;34m.\u001b[0m\u001b[0mraw_input\u001b[0m \u001b[0;34m=\u001b[0m \u001b[0mself\u001b[0m\u001b[0;34m.\u001b[0m\u001b[0mraw_input\u001b[0m\u001b[0;34m\u001b[0m\u001b[0m\n\u001b[0;32m--> 176\u001b[0;31m             \u001b[0mbuiltin_mod\u001b[0m\u001b[0;34m.\u001b[0m\u001b[0minput\u001b[0m \u001b[0;34m=\u001b[0m \u001b[0;32mlambda\u001b[0m \u001b[0mprompt\u001b[0m\u001b[0;34m=\u001b[0m\u001b[0;34m''\u001b[0m\u001b[0;34m:\u001b[0m \u001b[0meval\u001b[0m\u001b[0;34m(\u001b[0m\u001b[0mself\u001b[0m\u001b[0;34m.\u001b[0m\u001b[0mraw_input\u001b[0m\u001b[0;34m(\u001b[0m\u001b[0mprompt\u001b[0m\u001b[0;34m)\u001b[0m\u001b[0;34m)\u001b[0m\u001b[0;34m\u001b[0m\u001b[0m\n\u001b[0m\u001b[1;32m    177\u001b[0m         \u001b[0mself\u001b[0m\u001b[0;34m.\u001b[0m\u001b[0m_save_getpass\u001b[0m \u001b[0;34m=\u001b[0m \u001b[0mgetpass\u001b[0m\u001b[0;34m.\u001b[0m\u001b[0mgetpass\u001b[0m\u001b[0;34m\u001b[0m\u001b[0m\n\u001b[1;32m    178\u001b[0m         \u001b[0mgetpass\u001b[0m\u001b[0;34m.\u001b[0m\u001b[0mgetpass\u001b[0m \u001b[0;34m=\u001b[0m \u001b[0mself\u001b[0m\u001b[0;34m.\u001b[0m\u001b[0mgetpass\u001b[0m\u001b[0;34m\u001b[0m\u001b[0m\n",
      "\u001b[0;32m/home/sa.goyal/anaconda2/lib/python2.7/site-packages/ipykernel/ipkernel.pyc\u001b[0m in \u001b[0;36m<module>\u001b[0;34m()\u001b[0m\n",
      "\u001b[0;31mNameError\u001b[0m: name 's' is not defined"
     ]
    }
   ],
   "source": [
    "a = raw_input(\"Type something: \") # takes input as string\n",
    "print a\n",
    "\n",
    "b = input(\"Enter an integer: \") # takes only integer values\n",
    "print b"
   ]
  },
  {
   "cell_type": "code",
   "execution_count": 15,
   "metadata": {},
   "outputs": [
    {
     "name": "stdout",
     "output_type": "stream",
     "text": [
      "a is equal to b\n"
     ]
    }
   ],
   "source": [
    "a = 1\n",
    "b = 1\n",
    "if a < b:\n",
    "    print(\"a is less then b\")\n",
    "elif a ==b:\n",
    "    print(\"a is equal to b\")\n",
    "else:\n",
    "    print(\"b is less than a\")"
   ]
  },
  {
   "cell_type": "code",
   "execution_count": 16,
   "metadata": {},
   "outputs": [
    {
     "name": "stdout",
     "output_type": "stream",
     "text": [
      "bmi : 8.832\n",
      "sakshi is not overweight\n"
     ]
    }
   ],
   "source": [
    "name = \"sakshi\"\n",
    "height_m = 2.5\n",
    "weight_kg = 55.2\n",
    "\n",
    "bmi = weight_kg / (height_m ** 2)\n",
    "\n",
    "print ('bmi : '+ str(bmi))\n",
    "if bmi < 25:\n",
    "    print(name + \" is not overweight\")\n",
    "else:\n",
    "    print(name + \" is OVERWEIGHT\")"
   ]
  },
  {
   "cell_type": "code",
   "execution_count": 17,
   "metadata": {},
   "outputs": [
    {
     "name": "stdout",
     "output_type": "stream",
     "text": [
      "40\n"
     ]
    }
   ],
   "source": [
    "def sum(a,b):\n",
    "    return a+b\n",
    "\n",
    "c = sum(10, 30)\n",
    "print(c)"
   ]
  },
  {
   "cell_type": "code",
   "execution_count": 18,
   "metadata": {},
   "outputs": [
    {
     "name": "stdout",
     "output_type": "stream",
     "text": [
      "3.2\n"
     ]
    }
   ],
   "source": [
    "def convert_miles_to_km(miles):\n",
    "    km = 1.6 * miles\n",
    "    return km\n",
    "\n",
    "miles = 2\n",
    "km = convert_miles_to_km(miles)\n",
    "print (km)"
   ]
  },
  {
   "cell_type": "code",
   "execution_count": 16,
   "metadata": {},
   "outputs": [
    {
     "name": "stdout",
     "output_type": "stream",
     "text": [
      "['apple', 'a']\n",
      "[1, 3, 5]\n",
      "8\n",
      "1\n",
      "b\n",
      "[1, 2, 3, 7, 5, 7, 6, 4, 'apple', 'a', 'mango']\n",
      "True\n",
      "20000\n",
      "100\n",
      "['H', 'e', 'l', 'l', 'o', ' ', 'f', 'r', 'i', 'e', 'n', 'd', 's', '!']\n",
      "[1, 2, 3, 7, 5, 7, 6, 4, 'hello', [4, 5], 'apple', 'a', 'mango']\n",
      "2\n",
      "----\n",
      "5\n",
      "['mango', 'hello', 'apple', 'a', [4, 5], 7, 7, 6, 5, 4, 3]\n",
      "['mango', 'hello', 'apple', 'a', [4, 5], 7, 7, 6, 5, 4, 3, 'ok']\n",
      "['mango', 'hello', 'apple', 'a', [4, 5], 7, 7, 6, 5, 4, 3, 'ok']\n"
     ]
    }
   ],
   "source": [
    "# data structures\n",
    "a = [1, 2 , 3, 7, 5, 7, 6, 4]\n",
    "b = ['apple','a','mango']\n",
    "c = [1, 2, 'a', 'b', 97]\n",
    "d = ['100', '20000', '3000', '4']\n",
    "str = \"Hello friends!\"\n",
    "# print(c[0][0])\n",
    "print b[0:2] # Slicing end point is not included\n",
    "print a[:6:2]\n",
    "\n",
    "# list functions\n",
    "print len(a) # length of the list\n",
    "print min(c) # if list contains integer elements, prints the min element.\n",
    "             # And if list contains string then prints min ASCII element\n",
    "print max(c)\n",
    "print a+b\n",
    "print 'apple' in b # check for exsistance of the element in the list\n",
    "print max(d, key=len) # to find the max or min string based on length\n",
    "print min(d) # if number is declared a string, max and min use ASCII value\n",
    "\n",
    "print list(str)\n",
    "a.append(\"hello\")\n",
    "a.append([4,5])\n",
    "a.extend(b) # appends the elements as elements not as complete list\n",
    "print a\n",
    "print a.count(7)\n",
    "\n",
    "print \"----\"\n",
    "print a.index(7,4)\n",
    "a.insert(5,\"name\")\n",
    "a.pop(1) # deletes the element at that index\n",
    "a.remove('name') # removes that element from the list\n",
    "del a[0] # deleted the element at that index\n",
    "a.reverse()\n",
    "a.sort(reverse=True) # same ASCII concept\n",
    "print a\n",
    "\n",
    "list1 = a\n",
    "list1.append('ok')\n",
    "print a # operations are performed in list1 but reflect in a as well,\n",
    "# listb has also changed though no operation has been performed on it. \n",
    "# This is because you have assigned the same memory space of lista to listb. So how do fix this?\n",
    "# If you recall, in slicing we had seen that parentlist[a:b] returns a list from parent list with start \n",
    "# index a and end index b and if a and b is not mentioned then by default it considers the first and last element.\n",
    "# We use the same concept here. By doing so, we are assigning the data of lista to listb as a variable.\n",
    "\n",
    "list2 = a[:]\n",
    "list2.append(\"hello\")\n",
    "print a"
   ]
  },
  {
   "cell_type": "code",
   "execution_count": 21,
   "metadata": {},
   "outputs": [
    {
     "name": "stdout",
     "output_type": "stream",
     "text": [
      "<type 'tuple'>\n",
      "<type 'tuple'>\n",
      "(3, 1)\n",
      "(27, 27) <type 'tuple'>\n",
      "(1, 2, 3)\n",
      "('h', 'e', 'l', 'l', 'o')\n",
      "(2,)\n",
      "<type 'str'>\n",
      "3\n",
      "3\n"
     ]
    }
   ],
   "source": [
    "# tuples\n",
    "a = (1, 2, 3, 2 , 2)\n",
    "d = (1,)\n",
    "print type(d)\n",
    "b = divmod(10,3)\n",
    "c = 2*(27,)\n",
    "print type(a)\n",
    "print b\n",
    "print c, c.__class__\n",
    "\n",
    "print tuple([1,2,3])\n",
    "print tuple(\"hello\")\n",
    "print a[1:2]\n",
    "\n",
    "(d,e,f) = ('alpha', 'beta', 'gamma') # maping the tuples\n",
    "print d.__class__\n",
    "\n",
    "# built in tuple functions\n",
    "print a.count(2)\n",
    "print a.index(2, 2, 5)"
   ]
  },
  {
   "cell_type": "code",
   "execution_count": 3,
   "metadata": {},
   "outputs": [
    {
     "name": "stdout",
     "output_type": "stream",
     "text": [
      "set([1, 2, 3, 4, 5])\n",
      "set([1, 2, 3, 4, 5, 'ewfcwe', 'refg'])\n",
      "set([1, 2, 3, 4, 5, 10])\n",
      "set([1])\n",
      "set([10, 2, 3, 4, 5])\n",
      "set([2, 3, 4, 5, 'ewfcwe', 10, 'refg'])\n",
      "set([1, 2, 3, 4, 5, 10])\n",
      "True\n",
      "False\n",
      "True\n",
      "set([2, 3, 4, 5, 10])\n",
      "set([3, 4, 5, 10])\n",
      "set([])\n"
     ]
    }
   ],
   "source": [
    "# sets\n",
    "# Sets are mainly used to eliminate repeated numbers in a sequence/list\n",
    "a = set([2,3,4,5,1,3,2,4]) \n",
    "print a\n",
    "b = set([1,'refg','ewfcwe'])\n",
    "c = set([1,2])\n",
    "print b.union(a)\n",
    "a.add(10)\n",
    "print a\n",
    "print a.intersection(b) # a intersection b\n",
    "print a.difference(b) # a - b\n",
    "print a.symmetric_difference(b)\n",
    "print a # by default store in sorted order\n",
    "\n",
    "print c.issubset(a)\n",
    "print a.isdisjoint(b) # no element is common\n",
    "print a.issuperset(c)\n",
    "a.pop() # deletes an element from the top\n",
    "print a\n",
    "a.remove(2) # delete an element at that index, index start from 1\n",
    "print a\n",
    "b.clear()\n",
    "print b"
   ]
  },
  {
   "cell_type": "code",
   "execution_count": 23,
   "metadata": {},
   "outputs": [
    {
     "name": "stdout",
     "output_type": "stream",
     "text": [
      "['microsoft', 'apple', 'banana']\n"
     ]
    }
   ],
   "source": [
    "b = [\"banana\", \"apple\", \"microsoft\"]\n",
    "temp = b[0]\n",
    "b[0] = b[2]\n",
    "b[2] = temp\n",
    "\n",
    "print (b)"
   ]
  },
  {
   "cell_type": "code",
   "execution_count": 24,
   "metadata": {},
   "outputs": [
    {
     "name": "stdout",
     "output_type": "stream",
     "text": [
      "['banana', 'apple', 'microsoft']\n"
     ]
    }
   ],
   "source": [
    "b[0], b[2] = b[2], b[0]\n",
    "print(b)"
   ]
  },
  {
   "cell_type": "code",
   "execution_count": 25,
   "metadata": {},
   "outputs": [
    {
     "name": "stdout",
     "output_type": "stream",
     "text": [
      "60\n"
     ]
    }
   ],
   "source": [
    "a = [10, 20, 30]\n",
    "total = 0;\n",
    "for i in a:\n",
    "    total = total + i\n",
    "print(total)"
   ]
  },
  {
   "cell_type": "code",
   "execution_count": 26,
   "metadata": {},
   "outputs": [
    {
     "name": "stdout",
     "output_type": "stream",
     "text": [
      "[1, 2, 3, 4, 5, 6, 7, 8, 9, 10]\n"
     ]
    }
   ],
   "source": [
    "c = list(range(1,11))\n",
    "print(c)"
   ]
  },
  {
   "cell_type": "code",
   "execution_count": 27,
   "metadata": {},
   "outputs": [
    {
     "name": "stdout",
     "output_type": "stream",
     "text": [
      "[1, 2, 3, 4, 5, 6, 7, 8, 9, 10]\n",
      "total =  33\n"
     ]
    }
   ],
   "source": [
    "total2 = 0;\n",
    "print list(range(1,11))\n",
    "for i in range(1,11):\n",
    "    if i % 3 == 0 or i % 5 == 0:\n",
    "        total2 += i\n",
    "print\"total = \", total2"
   ]
  },
  {
   "cell_type": "code",
   "execution_count": 28,
   "metadata": {},
   "outputs": [
    {
     "name": "stdout",
     "output_type": "stream",
     "text": [
      "18\n"
     ]
    }
   ],
   "source": [
    "d = [5, 4, 4, 3, 2, -2, -4, -9]\n",
    "i = 0\n",
    "total3=0\n",
    "while d[i] > 0:\n",
    "    total3 += d[i]\n",
    "    i +=1\n",
    "print (total3)"
   ]
  },
  {
   "cell_type": "code",
   "execution_count": 15,
   "metadata": {},
   "outputs": [
    {
     "data": {
      "text/plain": [
       "'a,b,c,d'"
      ]
     },
     "execution_count": 15,
     "metadata": {},
     "output_type": "execute_result"
    }
   ],
   "source": [
    "ll = ['a','b','c','d']\n",
    "#s = \"insert into table {} values ({},{})\".format(ll, 'qece','wefw')\n",
    "\",\".join(ll)"
   ]
  }
 ],
 "metadata": {
  "kernelspec": {
   "display_name": "Python 2",
   "language": "python",
   "name": "python2"
  },
  "language_info": {
   "codemirror_mode": {
    "name": "ipython",
    "version": 2
   },
   "file_extension": ".py",
   "mimetype": "text/x-python",
   "name": "python",
   "nbconvert_exporter": "python",
   "pygments_lexer": "ipython2",
   "version": "2.7.15"
  }
 },
 "nbformat": 4,
 "nbformat_minor": 2
}
