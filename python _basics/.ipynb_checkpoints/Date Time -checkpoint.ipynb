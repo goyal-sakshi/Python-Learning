{
 "cells": [
  {
   "cell_type": "code",
   "execution_count": 1,
   "metadata": {},
   "outputs": [
    {
     "name": "stdout",
     "output_type": "stream",
     "text": [
      "Number of ticks since 12:00am, January 1, 1970: 1530772751.98\n"
     ]
    }
   ],
   "source": [
    "import time\n",
    "\n",
    "print \"Number of ticks since 12:00am, January 1, 1970:\",time.time()"
   ]
  },
  {
   "cell_type": "code",
   "execution_count": 2,
   "metadata": {},
   "outputs": [
    {
     "name": "stdout",
     "output_type": "stream",
     "text": [
      "Thu Jul  5 12:09:14 2018\n"
     ]
    }
   ],
   "source": [
    "print time.asctime(time.localtime(time.time()))"
   ]
  },
  {
   "cell_type": "code",
   "execution_count": 3,
   "metadata": {},
   "outputs": [
    {
     "name": "stdout",
     "output_type": "stream",
     "text": [
      "     March 2018\n",
      "Mo Tu We Th Fr Sa Su\n",
      "          1  2  3  4\n",
      " 5  6  7  8  9 10 11\n",
      "12 13 14 15 16 17 18\n",
      "19 20 21 22 23 24 25\n",
      "26 27 28 29 30 31\n",
      "\n"
     ]
    }
   ],
   "source": [
    "import calendar\n",
    "\n",
    "print calendar.month(2018,3)"
   ]
  },
  {
   "cell_type": "code",
   "execution_count": 4,
   "metadata": {},
   "outputs": [
    {
     "name": "stdout",
     "output_type": "stream",
     "text": [
      "Feb 17 2018 11:33:38\n"
     ]
    }
   ],
   "source": [
    "t = (2018, 2, 17, 17, 3, 38, 1, 48, 0)\n",
    "t = time.mktime(t)\n",
    "print time.strftime(\"%b %d %Y %H:%M:%S\",time.gmtime(t))"
   ]
  },
  {
   "cell_type": "code",
   "execution_count": 5,
   "metadata": {},
   "outputs": [
    {
     "name": "stdout",
     "output_type": "stream",
     "text": [
      "2018-07-05 12:09:19.811000\n",
      "2018\n",
      "7\n",
      "07/05/18\n",
      "5\n",
      "Thu Jul  5 12:09:19 2018\n"
     ]
    }
   ],
   "source": [
    "import time\n",
    "import datetime\n",
    "print datetime.datetime.today()\n",
    "print datetime.datetime.today().year\n",
    "print datetime.datetime.today().month\n",
    "print datetime.datetime.today().strftime(\"%x\")\n",
    "# %A - full weekday name\n",
    "# %B - full month name\n",
    "# %c - preferred date and time representation\n",
    "# %d - day of the month (01 to 31)\n",
    "# %H - hour, using a 24-hour clock (00 to 23)\n",
    "# %I - hour, using a 12-hour clock (01 to 12)\n",
    "# %M - minute\n",
    "# %S - second\n",
    "# %x - preferred date representation without the time\n",
    "# %y - year without a century (range 00 to 99)\n",
    "# %Y - year including the century\n",
    "print datetime.datetime.today().day\n",
    "\n",
    "print time.ctime()"
   ]
  },
  {
   "cell_type": "code",
   "execution_count": 6,
   "metadata": {},
   "outputs": [
    {
     "name": "stdout",
     "output_type": "stream",
     "text": [
      "0:00:00\n"
     ]
    }
   ],
   "source": [
    "day1 = datetime.date(2018,1,1)\n",
    "day2 = datetime.date(2018,1,1)\n",
    "print day2 - day1"
   ]
  },
  {
   "cell_type": "code",
   "execution_count": 7,
   "metadata": {},
   "outputs": [
    {
     "name": "stdout",
     "output_type": "stream",
     "text": [
      "2018-07-01 12:09:25.261000\n"
     ]
    }
   ],
   "source": [
    "today = datetime.datetime.today()\n",
    "no_of_days = datetime.timedelta(days=4)\n",
    "print today - no_of_days"
   ]
  },
  {
   "cell_type": "code",
   "execution_count": 8,
   "metadata": {},
   "outputs": [
    {
     "name": "stdout",
     "output_type": "stream",
     "text": [
      "returned tuple: time.struct_time(tm_year=2000, tm_mon=11, tm_mday=30, tm_hour=0, tm_min=0, tm_sec=0, tm_wday=3, tm_yday=335, tm_isdst=-1) \n"
     ]
    }
   ],
   "source": [
    "import time\n",
    "\n",
    "struct_time = time.strptime(\"30 Nov 00\", \"%d %b %y\")\n",
    "print \"returned tuple: %s \" % struct_time"
   ]
  }
 ],
 "metadata": {
  "kernelspec": {
   "display_name": "Python 2",
   "language": "python",
   "name": "python2"
  },
  "language_info": {
   "codemirror_mode": {
    "name": "ipython",
    "version": 2
   },
   "file_extension": ".py",
   "mimetype": "text/x-python",
   "name": "python",
   "nbconvert_exporter": "python",
   "pygments_lexer": "ipython2",
   "version": "2.7.15rc1"
  }
 },
 "nbformat": 4,
 "nbformat_minor": 2
}
