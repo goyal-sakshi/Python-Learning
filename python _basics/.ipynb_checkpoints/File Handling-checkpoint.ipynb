{
 "cells": [
  {
   "cell_type": "code",
   "execution_count": 2,
   "metadata": {},
   "outputs": [],
   "source": [
    "l1 = ['my','name','is','sakshi']\n",
    "with open('test.txt','w') as fh:\n",
    "    for i in l1:\n",
    "        fh.write(i + \"\\n\")\n",
    "        \n",
    "with open('test.txt','r') as fh:\n",
    "    l2 = fh.readlines()\n",
    "    l2.reverse()\n",
    "    \n",
    "with open('test.txt','w') as fh:\n",
    "        fh.writelines(l2)"
   ]
  },
  {
   "cell_type": "code",
   "execution_count": 3,
   "metadata": {},
   "outputs": [
    {
     "name": "stdout",
     "output_type": "stream",
     "text": [
      "number of words in the file:  4\n"
     ]
    }
   ],
   "source": [
    "tot = 0\n",
    "with open('test.txt','r') as fh:\n",
    "    \n",
    "    for i in fh.readlines():\n",
    "        tot += 1\n",
    "        \n",
    "print \"number of words in the file: \", tot"
   ]
  },
  {
   "cell_type": "code",
   "execution_count": 4,
   "metadata": {},
   "outputs": [
    {
     "data": {
      "text/plain": [
       "['abc.py', 'ff.html']"
      ]
     },
     "execution_count": 4,
     "metadata": {},
     "output_type": "execute_result"
    }
   ],
   "source": [
    "import os\n",
    "os.listdir('/home/sa.goyal/Desktop/')"
   ]
  }
 ],
 "metadata": {
  "kernelspec": {
   "display_name": "Python 2",
   "language": "python",
   "name": "python2"
  },
  "language_info": {
   "codemirror_mode": {
    "name": "ipython",
    "version": 2
   },
   "file_extension": ".py",
   "mimetype": "text/x-python",
   "name": "python",
   "nbconvert_exporter": "python",
   "pygments_lexer": "ipython2",
   "version": "2.7.15"
  }
 },
 "nbformat": 4,
 "nbformat_minor": 2
}
