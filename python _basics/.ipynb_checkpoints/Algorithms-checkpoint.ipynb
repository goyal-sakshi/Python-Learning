{
 "cells": [
  {
   "cell_type": "code",
   "execution_count": 2,
   "metadata": {},
   "outputs": [
    {
     "name": "stdout",
     "output_type": "stream",
     "text": [
      "-1\n",
      "3\n"
     ]
    }
   ],
   "source": [
    "# Binary Search\n",
    "# O(log(n))\n",
    "\n",
    "def binary_search(input_array, value):\n",
    "    \"\"\"Your code goes here.\"\"\"\n",
    "    lb = 0\n",
    "    ub = len(input_array)-1\n",
    "    mid = (ub + lb)/2\n",
    "    index = -1\n",
    "    \n",
    "    while True:\n",
    "\n",
    "        mid = ((ub + lb)/2)\n",
    "        # print input_array[lb:ub]\n",
    "        if lb>=ub:\n",
    "            break\n",
    "        if input_array[mid] == value:\n",
    "            index = midD\n",
    "            break\n",
    "        elif value > input_array[mid]:\n",
    "            lb = mid + 1\n",
    "        elif value < input_array[mid]:\n",
    "            ub = mid - 1\n",
    "    \n",
    "    return index\n",
    "    \n",
    "\n",
    "test_list = [1,3,9,11,15,19,29]\n",
    "print binary_search(test_list, 2)\n",
    "print binary_search(test_list, 11)"
   ]
  }
 ],
 "metadata": {
  "kernelspec": {
   "display_name": "Python 2",
   "language": "python",
   "name": "python2"
  },
  "language_info": {
   "codemirror_mode": {
    "name": "ipython",
    "version": 2
   },
   "file_extension": ".py",
   "mimetype": "text/x-python",
   "name": "python",
   "nbconvert_exporter": "python",
   "pygments_lexer": "ipython2",
   "version": "2.7.15rc1"
  }
 },
 "nbformat": 4,
 "nbformat_minor": 2
}
