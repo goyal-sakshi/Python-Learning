{
 "cells": [
  {
   "cell_type": "code",
   "execution_count": 1,
   "metadata": {},
   "outputs": [
    {
     "name": "stdout",
     "output_type": "stream",
     "text": [
      "19\n"
     ]
    }
   ],
   "source": [
    "tot = 0\n",
    "i = 0\n",
    "l1 = [5, 4, 4, 3, 2, 1]\n",
    "while i < len(l1) and l1[i] > 0:\n",
    "    tot += l1[i]\n",
    "    i += 1\n",
    "    \n",
    "print tot"
   ]
  },
  {
   "cell_type": "code",
   "execution_count": 2,
   "metadata": {},
   "outputs": [
    {
     "name": "stdout",
     "output_type": "stream",
     "text": [
      "-10\n"
     ]
    }
   ],
   "source": [
    "l2 = [5, 4, 4, 3, 2, 1, -1, -2, -3, -4]\n",
    "tot2 = 0\n",
    "for i in l2:\n",
    "    if i < 0:\n",
    "        tot2 += l2[i]\n",
    "    \n",
    "print tot2"
   ]
  },
  {
   "cell_type": "code",
   "execution_count": 9,
   "metadata": {},
   "outputs": [
    {
     "name": "stdout",
     "output_type": "stream",
     "text": [
      "in cons\n",
      "Jerry\n",
      "del called\n",
      "{'color': 'black', 'name': 'Jerry', 'weight': 10}\n"
     ]
    },
    {
     "data": {
      "text/plain": [
       "['__del__', '__init__', 'introduce_self']"
      ]
     },
     "execution_count": 9,
     "metadata": {},
     "output_type": "execute_result"
    }
   ],
   "source": [
    "class Robot:\n",
    "    def __init__(self, name, color, weight):\n",
    "        self.name = name\n",
    "        print 'in cons'\n",
    "        print self.name \n",
    "        self.color = color\n",
    "        self.weight = weight\n",
    "        \n",
    "    def introduce_self(self):\n",
    "        print \"My name is\", self.name\n",
    "        \n",
    "    def __del__(self):\n",
    "        print 'del called'\n",
    "        \n",
    "#Robot(\"Tom\", \"blue\", 52).introduce_self()\n",
    "r2 = Robot(\"Jerry\",\"black\", 10)\n",
    "print vars(r2)\n",
    "[method_name for method_name in dir(r2) if callable(getattr(r2, method_name))]"
   ]
  },
  {
   "cell_type": "code",
   "execution_count": 11,
   "metadata": {},
   "outputs": [
    {
     "name": "stdout",
     "output_type": "stream",
     "text": [
      "in cons\n",
      "dc\n",
      "in fun\n",
      "dc\n",
      "in f2\n",
      "dc\n",
      "before del\n",
      "del called\n"
     ]
    }
   ],
   "source": [
    "def fun():\n",
    "    r = Robot('dc','rv3',12)\n",
    "    print 'in fun'\n",
    "    print r.name\n",
    "    return r\n",
    "\n",
    "def fun2():\n",
    "    rlist=[]\n",
    "    r1=fun()\n",
    "    print 'in f2'\n",
    "    print r1.name\n",
    "    print 'before del'\n",
    "    \n",
    "    \n",
    "fun2()\n"
   ]
  },
  {
   "cell_type": "code",
   "execution_count": 5,
   "metadata": {},
   "outputs": [
    {
     "data": {
      "text/plain": [
       "'Sakshi'"
      ]
     },
     "execution_count": 5,
     "metadata": {},
     "output_type": "execute_result"
    }
   ],
   "source": [
    "class Person:\n",
    "    \n",
    "    def __init__(self, name, personality, is_sitting):\n",
    "        self.name = name\n",
    "        self.personality = personality\n",
    "        self.is_sitting = is_sitting\n",
    "        \n",
    "    def sitDown(self):\n",
    "        self.is_sitting = True\n",
    "        \n",
    "    def standUp(self):\n",
    "        self.is_sitting = False\n",
    "        \n",
    "p1 = Person(\"Sakshi\", \"nice\", True)\n",
    "p2 = Person(\"Goyal\", \"good\", False)\n",
    "p1.name\n",
    "\n",
    "#p1.robotOwned = r1\n",
    "#p1.robotOwned.introduce_self()"
   ]
  },
  {
   "cell_type": "code",
   "execution_count": 5,
   "metadata": {},
   "outputs": [
    {
     "data": {
      "text/plain": [
       "'Yes, I am sad'"
      ]
     },
     "execution_count": 5,
     "metadata": {},
     "output_type": "execute_result"
    }
   ],
   "source": [
    "def are_you_sad(is_rainy, has_umbrella):\n",
    "    if is_rainy and not has_umbrella:\n",
    "        return \"Yes, I am sad\"\n",
    "\n",
    "are_you_sad(True, False)"
   ]
  },
  {
   "cell_type": "code",
   "execution_count": 7,
   "metadata": {},
   "outputs": [
    {
     "data": {
      "text/plain": [
       "True"
      ]
     },
     "execution_count": 7,
     "metadata": {},
     "output_type": "execute_result"
    }
   ],
   "source": [
    "runid = 'run'\n",
    "ss = 'run_evrv'\n",
    "runid in ss"
   ]
  },
  {
   "cell_type": "code",
   "execution_count": 50,
   "metadata": {},
   "outputs": [
    {
     "name": "stdout",
     "output_type": "stream",
     "text": [
      "in class\n",
      "in class A\n"
     ]
    },
    {
     "data": {
      "text/plain": [
       "2"
      ]
     },
     "execution_count": 50,
     "metadata": {},
     "output_type": "execute_result"
    }
   ],
   "source": [
    "class A:\n",
    "    print 'in class'\n",
    "    a = 1\n",
    "    def __init__(self):\n",
    "        print \"in class A\"\n",
    "        self.a=2\n",
    "A().a    "
   ]
  },
  {
   "cell_type": "code",
   "execution_count": 65,
   "metadata": {},
   "outputs": [
    {
     "data": {
      "text/plain": [
       "{'a', 'b', 'c', 'd'}"
      ]
     },
     "execution_count": 65,
     "metadata": {},
     "output_type": "execute_result"
    }
   ],
   "source": [
    "lst = [['a','b','c'],['a','b','c'],['a','b','d']]\n",
    "flat_list = [item for sublist in lst for item in sublist]\n",
    "set(flat_list)"
   ]
  }
 ],
 "metadata": {
  "kernelspec": {
   "display_name": "Python 2",
   "language": "python",
   "name": "python2"
  },
  "language_info": {
   "codemirror_mode": {
    "name": "ipython",
    "version": 2
   },
   "file_extension": ".py",
   "mimetype": "text/x-python",
   "name": "python",
   "nbconvert_exporter": "python",
   "pygments_lexer": "ipython2",
   "version": "2.7.15rc1"
  }
 },
 "nbformat": 4,
 "nbformat_minor": 2
}
