{
 "cells": [
  {
   "cell_type": "code",
   "execution_count": 3,
   "metadata": {},
   "outputs": [
    {
     "name": "stdout",
     "output_type": "stream",
     "text": [
      "2019-01-11 12:47:09,818 INFO sqlalchemy.engine.base.Engine SELECT CAST('test plain returns' AS VARCHAR(60)) AS anon_1\n",
      "2019-01-11 12:47:09,819 INFO sqlalchemy.engine.base.Engine ()\n",
      "2019-01-11 12:47:09,821 INFO sqlalchemy.engine.base.Engine SELECT CAST('test unicode returns' AS VARCHAR(60)) AS anon_1\n",
      "2019-01-11 12:47:09,822 INFO sqlalchemy.engine.base.Engine ()\n",
      "2019-01-11 12:47:09,824 INFO sqlalchemy.engine.base.Engine PRAGMA table_info(\"testcase_table\")\n",
      "2019-01-11 12:47:09,826 INFO sqlalchemy.engine.base.Engine ()\n"
     ]
    }
   ],
   "source": [
    "from sqlalchemy import create_engine, Column, Integer, String, ForeignKey\n",
    "from sqlalchemy.ext.declarative import declarative_base\n",
    "\n",
    "Base = declarative_base()\n",
    "\n",
    "class User(Base):\n",
    "    # creating table into db\n",
    "    __tablename__ = \"testcase_table\"\n",
    "    \n",
    "    # columns required\n",
    "    id = Column('id', Integer, primary_key=True)\n",
    "    tc_name = Column('tc_name', String, unique=True)\n",
    "\n",
    "# echo true means that it will print SQL queries\n",
    "\n",
    "'''CREATE ENGINE - what db api will we use to establish the connection '''\n",
    "\n",
    "engine = create_engine('sqlite:///users.db', echo=True)\n",
    "Base.metadata.create_all(bind=engine)"
   ]
  },
  {
   "cell_type": "code",
   "execution_count": 21,
   "metadata": {},
   "outputs": [
    {
     "name": "stdout",
     "output_type": "stream",
     "text": [
      "1233\n",
      "2019-01-11 20:41:14,039 INFO sqlalchemy.engine.base.Engine BEGIN (implicit)\n",
      "2019-01-11 20:41:14,043 INFO sqlalchemy.engine.base.Engine SELECT testcase_table.id AS testcase_table_id, testcase_table.tc_name AS testcase_table_tc_name \n",
      "FROM testcase_table\n",
      "2019-01-11 20:41:14,044 INFO sqlalchemy.engine.base.Engine ()\n",
      "1233\n",
      "1234\n",
      "12345\n",
      "2019-01-11 20:41:14,046 INFO sqlalchemy.engine.base.Engine ROLLBACK\n"
     ]
    }
   ],
   "source": [
    "from sqlalchemy.orm import sessionmaker, relationship\n",
    "\n",
    "\n",
    "\n",
    "Session = sessionmaker(bind=engine)\n",
    "session = Session()\n",
    "\n",
    "# assining values to a User class variable\n",
    "tc1 = User()\n",
    "tc1.id = 12345\n",
    "tc1.tc_name = 'tc_5'\n",
    "\n",
    "tc2 = User()\n",
    "tc2.id = 1233\n",
    "tc2.tc_name = 'tc_4'\n",
    "\n",
    "\n",
    "# inserting the row into db\n",
    "#session.add(tc)\n",
    "#session.commit()\n",
    "\n",
    "#session.bulk_save_objects([tc1,tc2])\n",
    "#session.commit()\n",
    "\n",
    "print tc2.id\n",
    "\n",
    "# select\n",
    "testcases = session.query(User).all()\n",
    "for tc in testcases:\n",
    "    print tc.id\n",
    "\n",
    "# closing sessoin\n",
    "session.close()"
   ]
  },
  {
   "cell_type": "markdown",
   "metadata": {},
   "source": [
    "# Another Example"
   ]
  },
  {
   "cell_type": "code",
   "execution_count": null,
   "metadata": {},
   "outputs": [],
   "source": [
    "#CONNECTING\n",
    "\n",
    "from sqlalchemy import create_engine\n",
    "\n",
    "engine = create_engine('sqlite://:memory:', echo=True)\n",
    "\n",
    "'''\n",
    "CREATE ENGINE - what db api will we use to establish the connection \n",
    "'''"
   ]
  },
  {
   "cell_type": "code",
   "execution_count": null,
   "metadata": {},
   "outputs": [],
   "source": [
    "# ESTABLISHING A SEESION\n",
    "\n",
    "from sqlalchemy.orm import sessionmaker\n",
    "\n",
    "Session = sessionmaker(bind=engine)\n",
    "\n",
    "session = Session()\n",
    "\n",
    "'''\n",
    "CREATING SESSIONS - session wraps the db connection that we created with the engine and \n",
    "the it provides the identity map that connects the objects that we are going to create to that sesion\n",
    "and then ultimately relates them to the objects that are in our db right to the rows.\n",
    "\n",
    "The session is a way we are going to interact with anytime we want to go into or out of the database.\n",
    "GATEWAY TO DATA..\n",
    "\n",
    "'''"
   ]
  },
  {
   "cell_type": "code",
   "execution_count": null,
   "metadata": {},
   "outputs": [],
   "source": [
    "# MODEL BASE - Declarative Base\n",
    "\n",
    "from sqlalchemy.ext.declarative import declarative_base\n",
    "\n",
    "Base = declarative_base()\n",
    "\n",
    "'''\n",
    "Way to talk to the database.\n",
    "'''"
   ]
  },
  {
   "cell_type": "code",
   "execution_count": null,
   "metadata": {},
   "outputs": [],
   "source": [
    "# COOKIE MODEL\n",
    "\n",
    "from sqlalchemy import Column, Integer, Numeric, String\n",
    "\n",
    "class Cookie(Base):\n",
    "    __tablename__ = 'cookies'\n",
    "    \n",
    "    cookie_id = Column(Integer, primary_key=True)\n",
    "    cookie_name = Column(String(50), index=True)\n",
    "    cookie_recipe_url = Column(String(255))\n",
    "    cookie_sku = Column(String(55))\n",
    "    quantity = Column(Integer())\n",
    "    unit_cost = Column(Numeric(12,2))\n",
    "    \n",
    "    \n",
    "'''\n",
    "When we create model for sqlalchemy it should have the following pro\n",
    "1) It must be inherited from the declarative_base\n",
    "2) __tablename__ to know where in the db we will be stroing it\n",
    "3) one or more columns of which one or more is a primary_key\n",
    "'''\n",
    "    "
   ]
  },
  {
   "cell_type": "code",
   "execution_count": null,
   "metadata": {},
   "outputs": [],
   "source": [
    "# PERSISTING OUR TABLE\n",
    "\n",
    "Base.metadata.create_all(engine)\n",
    "\n",
    "'''\n",
    "Creat our Cookies object in our in memory sql db.\n",
    "'''"
   ]
  },
  {
   "cell_type": "code",
   "execution_count": null,
   "metadata": {},
   "outputs": [],
   "source": [
    "# ADDING A COOKIE\n",
    "\n",
    "cc_cookie = Cookie(cookie_name = 'choco chip',\n",
    "                   cookie_recipe_url = 'some url',\n",
    "                   cookie_sku = 'CC01',\n",
    "                   quantity = 12,\n",
    "                   unit_cost = 0.50)\n",
    "\n",
    "'''\n",
    "The declarative_base automaticaly maps every one of those attribtes. \n",
    "'''"
   ]
  },
  {
   "cell_type": "code",
   "execution_count": null,
   "metadata": {},
   "outputs": [],
   "source": [
    "# ADDING A SESSION\n",
    "\n",
    "session.add(cc_cookie)        # flush\n",
    "session.commit()              # actualy adds\n",
    "\n",
    "print cc_cookie.cookie_id     # Accessing Attributes\n",
    "'''\n",
    "This actualy pullls that cc_cookie infomation and puts it into the session.\n",
    "'''"
   ]
  },
  {
   "cell_type": "code",
   "execution_count": null,
   "metadata": {},
   "outputs": [],
   "source": [
    "c1 and c1 # objects of Cookie\n",
    "\n",
    "session.bulk_save_objects([c1, c2])   # bulk insert\n",
    "session.commit()\n",
    "\n",
    "'''\n",
    "similar to cursor.execute_many\n",
    "objects are not connected to the session\n",
    "'''"
   ]
  },
  {
   "cell_type": "code",
   "execution_count": null,
   "metadata": {},
   "outputs": [],
   "source": [
    "# ALL THE COOKIES\n",
    "\n",
    "cookies = session.query(Cookie).all()\n",
    "print cookies\n",
    "\n",
    "#OR\n",
    "\n",
    "for cookie in session.query(Cookie):\n",
    "    print cookie\n",
    "\n",
    "'''\n",
    "prints all the rows of Cookies\n",
    "__wrapper__\n",
    "'''"
   ]
  },
  {
   "cell_type": "code",
   "execution_count": null,
   "metadata": {},
   "outputs": [],
   "source": [
    "# PARTICULAR ATTRBUTES\n",
    "\n",
    "print (session.query(Cookie.cookie_name, Cookie.quantity).first())\n",
    "\n",
    "'''\n",
    "give the first entry\n",
    "return s tuple\n",
    "'''"
   ]
  },
  {
   "cell_type": "code",
   "execution_count": null,
   "metadata": {},
   "outputs": [],
   "source": [
    "# ORDER BY\n",
    "\n",
    "for cookie in session.query(Cookie).order_by(Cookie.quanity):\n",
    "    print \"{:3}, {}\".format(cookie.quanity, cookie.cookie_name)\n",
    "    \n",
    "    \n",
    "'''\n",
    "orders by asc\n",
    "'''\n",
    "    \n",
    "    \n",
    "import sqlalchemy import desc\n",
    "\n",
    "for cookie in session.query(Cookie).order_by(desc(Cookie.quantity)):\n",
    "    print \"{:3}, {}\".format(cookie.quanity, cookie.cookie_name)\n",
    "    \n",
    "    \n",
    "'''\n",
    "orders by desc\n",
    "'''\n",
    "    "
   ]
  },
  {
   "cell_type": "code",
   "execution_count": null,
   "metadata": {},
   "outputs": [],
   "source": [
    "# LIMITING\n",
    "\n",
    "q = session.query(Cookie).order_by(Cookie.quantity).limit(2)\n",
    "print [r.cookie_name for r in q]\n",
    "\n",
    "'''\n",
    "similar to rownum\n",
    "i.e. getting limited number of rows\n",
    "\n",
    "if we string the seesion.query it will print out the SQL query. (helpfull in debugging)\n",
    "'''"
   ]
  }
 ],
 "metadata": {
  "kernelspec": {
   "display_name": "Python 2",
   "language": "python",
   "name": "python2"
  },
  "language_info": {
   "codemirror_mode": {
    "name": "ipython",
    "version": 2
   },
   "file_extension": ".py",
   "mimetype": "text/x-python",
   "name": "python",
   "nbconvert_exporter": "python",
   "pygments_lexer": "ipython2",
   "version": "2.7.15"
  },
  "widgets": {
   "application/vnd.jupyter.widget-state+json": {
    "state": {},
    "version_major": 2,
    "version_minor": 0
   }
  }
 },
 "nbformat": 4,
 "nbformat_minor": 2
}
