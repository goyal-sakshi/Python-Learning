{
 "cells": [
  {
   "cell_type": "code",
   "execution_count": 3,
   "metadata": {},
   "outputs": [
    {
     "name": "stdout",
     "output_type": "stream",
     "text": [
      "2019-01-11 12:47:09,818 INFO sqlalchemy.engine.base.Engine SELECT CAST('test plain returns' AS VARCHAR(60)) AS anon_1\n",
      "2019-01-11 12:47:09,819 INFO sqlalchemy.engine.base.Engine ()\n",
      "2019-01-11 12:47:09,821 INFO sqlalchemy.engine.base.Engine SELECT CAST('test unicode returns' AS VARCHAR(60)) AS anon_1\n",
      "2019-01-11 12:47:09,822 INFO sqlalchemy.engine.base.Engine ()\n",
      "2019-01-11 12:47:09,824 INFO sqlalchemy.engine.base.Engine PRAGMA table_info(\"testcase_table\")\n",
      "2019-01-11 12:47:09,826 INFO sqlalchemy.engine.base.Engine ()\n"
     ]
    }
   ],
   "source": [
    "from sqlalchemy import create_engine, Column, Integer, String, ForeignKey\n",
    "from sqlalchemy.ext.declarative import declarative_base\n",
    "\n",
    "Base = declarative_base()\n",
    "\n",
    "class User(Base):\n",
    "    # creating table into db\n",
    "    __tablename__ = \"testcase_table\"\n",
    "    \n",
    "    # columns required\n",
    "    id = Column('id', Integer, primary_key=True)\n",
    "    tc_name = Column('tc_name', String, unique=True)\n",
    "\n",
    "# echo true means that it will print SQL queries\n",
    "\n",
    "'''CREATE ENGINE - what db api will we use to establish the connection '''\n",
    "\n",
    "engine = create_engine('sqlite:///users.db', echo=True)\n",
    "Base.metadata.create_all(bind=engine)"
   ]
  },
  {
   "cell_type": "code",
   "execution_count": 21,
   "metadata": {},
   "outputs": [
    {
     "name": "stdout",
     "output_type": "stream",
     "text": [
      "1233\n",
      "2019-01-11 20:41:14,039 INFO sqlalchemy.engine.base.Engine BEGIN (implicit)\n",
      "2019-01-11 20:41:14,043 INFO sqlalchemy.engine.base.Engine SELECT testcase_table.id AS testcase_table_id, testcase_table.tc_name AS testcase_table_tc_name \n",
      "FROM testcase_table\n",
      "2019-01-11 20:41:14,044 INFO sqlalchemy.engine.base.Engine ()\n",
      "1233\n",
      "1234\n",
      "12345\n",
      "2019-01-11 20:41:14,046 INFO sqlalchemy.engine.base.Engine ROLLBACK\n"
     ]
    }
   ],
   "source": [
    "from sqlalchemy.orm import sessionmaker, relationship\n",
    "\n",
    "\n",
    "\n",
    "Session = sessionmaker(bind=engine)\n",
    "session = Session()\n",
    "\n",
    "# assining values to a User class variable\n",
    "tc1 = User()\n",
    "tc1.id = 12345\n",
    "tc1.tc_name = 'tc_5'\n",
    "\n",
    "tc2 = User()\n",
    "tc2.id = 1233\n",
    "tc2.tc_name = 'tc_4'\n",
    "\n",
    "\n",
    "# inserting the row into db\n",
    "#session.add(tc)\n",
    "#session.commit()\n",
    "\n",
    "#session.bulk_save_objects([tc1,tc2])\n",
    "#session.commit()\n",
    "\n",
    "print tc2.id\n",
    "\n",
    "# select\n",
    "testcases = session.query(User).all()\n",
    "for tc in testcases:\n",
    "    print tc.id\n",
    "\n",
    "# closing sessoin\n",
    "session.close()"
   ]
  },
  {
   "cell_type": "markdown",
   "metadata": {},
   "source": [
    "# Another Example"
   ]
  },
  {
   "cell_type": "code",
   "execution_count": null,
   "metadata": {},
   "outputs": [],
   "source": [
    "#CONNECTING\n",
    "\n",
    "from sqlalchemy import create_engine\n",
    "\n",
    "engine = create_engine('sqlite://:memory:', echo=True)\n",
    "\n",
    "'''\n",
    "CREATE ENGINE - what db api will we use to establish the connection \n",
    "'''"
   ]
  },
  {
   "cell_type": "code",
   "execution_count": null,
   "metadata": {},
   "outputs": [],
   "source": [
    "# ESTABLISHING A SEESION\n",
    "\n",
    "from sqlalchemy.orm import sessionmaker\n",
    "\n",
    "Session = sessionmaker(bind=engine)\n",
    "\n",
    "session = Session()\n",
    "\n",
    "'''\n",
    "CREATING SESSIONS - session wraps the db connection that we created with the engine and \n",
    "the it provides the identity map that connects the objects that we are going to create to that sesion\n",
    "and then ultimately relates them to the objects that are in our db right to the rows.\n",
    "\n",
    "The session is a way we are going to interact with anytime we want to go into or out of the database.\n",
    "GATEWAY TO DATA..\n",
    "\n",
    "'''"
   ]
  },
  {
   "cell_type": "code",
   "execution_count": null,
   "metadata": {},
   "outputs": [],
   "source": [
    "# MODEL BASE - Declarative Base\n",
    "\n",
    "from sqlalchemy.ext.declarative import declarative_base\n",
    "\n",
    "Base = declarative_base()\n",
    "\n",
    "'''\n",
    "Way to talk to the database.\n",
    "'''"
   ]
  },
  {
   "cell_type": "code",
   "execution_count": null,
   "metadata": {},
   "outputs": [],
   "source": [
    "# COOKIE MODEL\n",
    "\n",
    "from sqlalchemy import Column, Integer, Numeric, String\n",
    "\n",
    "class Cookie(Base):\n",
    "    __tablename__ = 'cookies'\n",
    "    \n",
    "    cookie_id = Column(Integer, primary_key=True)\n",
    "    cookie_name = Column(String(50), index=True)\n",
    "    cookie_recipe_url = Column(String(255))\n",
    "    cookie_sku = Column(String(55))\n",
    "    quantity = Column(Integer())\n",
    "    unit_cost = Column(Numeric(12,2))\n",
    "    \n",
    "    \n",
    "'''\n",
    "When we create model for sqlalchemy it should have the following pro\n",
    "1) It must be inherited from the declarative_base\n",
    "2) __tablename__ to know where in the db we will be stroing it\n",
    "3) one or more columns of which one or more is a primary_key\n",
    "'''\n",
    "    "
   ]
  },
  {
   "cell_type": "code",
   "execution_count": null,
   "metadata": {},
   "outputs": [],
   "source": [
    "# PERSISTING OUR TABLE\n",
    "\n",
    "Base.metadata.create_all(engine)\n",
    "\n",
    "'''\n",
    "Creat our Cookies object in our in memory sql db.\n",
    "'''"
   ]
  },
  {
   "cell_type": "code",
   "execution_count": null,
   "metadata": {},
   "outputs": [],
   "source": [
    "# ADDING A COOKIE\n",
    "\n",
    "cc_cookie = Cookie(cookie_name = 'choco chip',\n",
    "                   cookie_recipe_url = 'some url',\n",
    "                   cookie_sku = 'CC01',\n",
    "                   quantity = 12,\n",
    "                   unit_cost = 0.50)\n",
    "\n",
    "'''\n",
    "The declarative_base automaticaly maps every one of those attribtes. \n",
    "'''"
   ]
  },
  {
   "cell_type": "code",
   "execution_count": null,
   "metadata": {},
   "outputs": [],
   "source": [
    "# ADDING A SESSION\n",
    "\n",
    "session.add(cc_cookie)        # flush\n",
    "session.commit()              # actualy adds\n",
    "\n",
    "print cc_cookie.cookie_id     # Accessing Attributes\n",
    "'''\n",
    "This actualy pullls that cc_cookie infomation and puts it into the session.\n",
    "'''"
   ]
  },
  {
   "cell_type": "code",
   "execution_count": null,
   "metadata": {},
   "outputs": [],
   "source": [
    "c1 and c1 # objects of Cookie\n",
    "\n",
    "session.bulk_save_objects([c1, c2])   # bulk insert\n",
    "session.commit()\n",
    "\n",
    "'''\n",
    "similar to cursor.execute_many\n",
    "objects are not connected to the session\n",
    "'''"
   ]
  },
  {
   "cell_type": "code",
   "execution_count": null,
   "metadata": {},
   "outputs": [],
   "source": [
    "# ALL THE COOKIES\n",
    "\n",
    "cookies = session.query(Cookie).all()\n",
    "print cookies\n",
    "\n",
    "#OR\n",
    "\n",
    "for cookie in session.query(Cookie):\n",
    "    print cookie\n",
    "\n",
    "'''\n",
    "prints all the rows of Cookies\n",
    "__wrapper__\n",
    "'''"
   ]
  },
  {
   "cell_type": "code",
   "execution_count": null,
   "metadata": {},
   "outputs": [],
   "source": [
    "# PARTICULAR ATTRBUTES\n",
    "\n",
    "print (session.query(Cookie.cookie_name, Cookie.quantity).first())\n",
    "\n",
    "'''\n",
    "give the first entry\n",
    "return s tuple\n",
    "'''"
   ]
  },
  {
   "cell_type": "code",
   "execution_count": null,
   "metadata": {},
   "outputs": [],
   "source": [
    "# ORDER BY\n",
    "\n",
    "for cookie in session.query(Cookie).order_by(Cookie.quanity):\n",
    "    print \"{:3}, {}\".format(cookie.quanity, cookie.cookie_name)\n",
    "    \n",
    "    \n",
    "'''\n",
    "orders by asc\n",
    "'''\n",
    "    \n",
    "    \n",
    "import sqlalchemy import desc\n",
    "\n",
    "for cookie in session.query(Cookie).order_by(desc(Cookie.quantity)):\n",
    "    print \"{:3}, {}\".format(cookie.quanity, cookie.cookie_name)\n",
    "    \n",
    "    \n",
    "'''\n",
    "orders by desc\n",
    "'''\n",
    "    "
   ]
  },
  {
   "cell_type": "code",
   "execution_count": null,
   "metadata": {},
   "outputs": [],
   "source": [
    "# LIMITING\n",
    "\n",
    "q = session.query(Cookie).order_by(Cookie.quantity).limit(2)\n",
    "print [r.cookie_name for r in q]\n",
    "\n",
    "'''\n",
    "similar to rownum\n",
    "i.e. getting limited number of rows\n",
    "\n",
    "if we string the seesion.query it will print out the SQL query. (helpfull in debugging)\n",
    "'''"
   ]
  },
  {
   "cell_type": "code",
   "execution_count": null,
   "metadata": {},
   "outputs": [],
   "source": [
    "# DATABASE FUNCTIONS\n",
    "\n",
    "from sqlalchemy import func\n",
    "\n",
    "inv_count = session.query(func.sum(Cookie.quantity)).scalar()\n",
    "print inv_count    # 139\n",
    "\n",
    "rec_count = session.query(func.count(Cookie.cookie_name)).first()\n",
    "print rec_count     # (3,0)\n",
    "\n",
    "'''\n",
    "func is not a module, its a module generator. It knows what the session is connected to. \n",
    "That it knows what kind of database its connected to.\n",
    "\n",
    "#1 sum - adds the quanties and gives thier scalar result. \n",
    "#2 count - counts the number of cookie names and returns a tuple with count and second part\n",
    "           tells any decimal places.\n",
    "'''"
   ]
  },
  {
   "cell_type": "code",
   "execution_count": null,
   "metadata": {},
   "outputs": [],
   "source": [
    "# LABELLING\n",
    "\n",
    "rec_count = session.query(func.count(Cookie.cookie_name).label('inventory_count')).first()\n",
    "\n",
    "print rec_count.keys()\n",
    "print rec_count.inventory_count\n",
    "\n",
    "'''\n",
    "{'inventory_count' : 3}\n",
    "'''"
   ]
  },
  {
   "cell_type": "code",
   "execution_count": null,
   "metadata": {},
   "outputs": [],
   "source": [
    "# FILTER BY - But do not use it\n",
    "\n",
    "session.query(Cookie).filter_by(cookie_name='choco chip').first()\n",
    "\n",
    "'''\n",
    "similar to where clause\n",
    "'''"
   ]
  },
  {
   "cell_type": "code",
   "execution_count": null,
   "metadata": {},
   "outputs": [],
   "source": [
    "# FILTER\n",
    "\n",
    "record = session.query(Cookie).filter(Cookie.cookie_name=='choco chip').first()\n",
    "\n",
    "'''\n",
    "better than filter_by coz is it filters specific object, no confusion\n",
    "'''"
   ]
  },
  {
   "cell_type": "code",
   "execution_count": null,
   "metadata": {},
   "outputs": [],
   "source": [
    "# CLAUSE ELEMENTS\n",
    "\n",
    "query = session.query(Cookie).filter(Cookie.cookie_name.like('%chocolate%')).first()\n",
    "\n",
    "for record in query:\n",
    "    print record.cookie_name\n",
    "    \n",
    "'''\n",
    "# like('string') - like operator \n",
    "# between(cleft, cright) - find where the column is between cleft and cright\n",
    "# distinct() - find only unique values for column\n",
    "# in_([list]) - find where the colun is in the list\n",
    "# is_(None) - fins where th ecolumn is None (Commonly used for null checks with None)\n",
    "# contains('string') - Find where the column has 'string' in it (case sensitive)\n",
    "# endswith('string') - Find where the column ends with 'string' (case sensitive)\n",
    "# startswith('string') - Find where the column begins with 'string' (case sensitive)\n",
    "# ilike('string') - similar to like, but case insensitive.\n",
    "\n",
    "'''"
   ]
  },
  {
   "cell_type": "code",
   "execution_count": null,
   "metadata": {},
   "outputs": [],
   "source": [
    "# OPERATORS\n",
    "\n",
    "from sqlalchemy import cast\n",
    "\n",
    "query = session.query(Cookie.cookie_name, \n",
    "                      cast((Cookie.quanity * Cookie.unit_cost), Numeric(12,2)).label('inv_cost'))\n",
    "\n",
    "for result in query:\n",
    "    print '{}, {}'.format(result.cookie_name, result.inv_cost)\n",
    "\n",
    "'''\n",
    "cast to cast it\n",
    "label to get the value\n",
    "'''"
   ]
  },
  {
   "cell_type": "code",
   "execution_count": null,
   "metadata": {},
   "outputs": [],
   "source": [
    "# CONJUNCTIONS\n",
    "\n",
    "from sqlalchemy import and_, or_, not_\n",
    "\n",
    "query = session.query(Cookie).filter(\n",
    "                    or_(\n",
    "                        Cookie.quanity.between(10,50),\n",
    "                        Cookie.cookie_name.contains('chip')\n",
    "                    )\n",
    ")\n",
    "\n",
    "for result in query:\n",
    "    print result.cookie_name\n",
    "    \n",
    "'''\n",
    "and, or, not statements\n",
    "\n",
    "for \"and\" you can either use and_ or use nothing in filter, just the conditions\n",
    "'''"
   ]
  },
  {
   "cell_type": "code",
   "execution_count": null,
   "metadata": {},
   "outputs": [],
   "source": [
    "# UPDATING COOKIES\n",
    "\n",
    "query = session.query(Cookie)\n",
    "cc_cookie = query.filter(Cookie.cookie_name == 'choco chip').first()\n",
    "cc_cookie.quantity = cc_cookie.quantity + 120\n",
    "\n",
    "session.commit()\n",
    "\n",
    "'''\n",
    "get the object associated with the session, perform the opertion and commit\n",
    "'''"
   ]
  },
  {
   "cell_type": "code",
   "execution_count": null,
   "metadata": {},
   "outputs": [],
   "source": [
    "# DELETING COOKIES\n",
    "\n",
    "query = session.query(Cookie)\n",
    "query = query.filter(Cookie.cookie_name == 'peanutbutter')\n",
    "\n",
    "del_cookie = query.one()\n",
    "session.delete(del_cookie)\n",
    "session.coomit()\n",
    "\n",
    "del_cookie = query.first()\n",
    "print del_cookie\n",
    "\n",
    "#None\n",
    "\n",
    "'''\n",
    "one - It queries all the rows and then raises an exception if other than a single value is found. \n",
    "      Means very specific. There must be one and only one row according to the filter.\n",
    "      \n",
    "delete - deletes the entry from the db.\n",
    "'''"
   ]
  },
  {
   "cell_type": "code",
   "execution_count": null,
   "metadata": {},
   "outputs": [],
   "source": [
    "# RELATIONSHIPS\n",
    "\n",
    "from datetime import datetime\n",
    "from sqlalchemy import DateTime, ForeignKey, Boolean\n",
    "from sqlalchemy.orm import relationship, backref\n",
    "\n"
   ]
  },
  {
   "cell_type": "code",
   "execution_count": null,
   "metadata": {},
   "outputs": [],
   "source": [
    "# UserModel\n",
    "\n",
    "class User(Base):\n",
    "    __tablename__ = 'users'\n",
    "    \n",
    "    user_id = Column(Integer(), primary_key=True)\n",
    "    username = Column(String(), nullable=False, unique=True)\n",
    "    email = Column(String(), nullable=False)\n",
    "    phone = Column(String(20), nullable=False)\n",
    "    password = Column(String(25), nullable=False)\n",
    "    created_on = Column(DateTime(), default=datetime.now())\n",
    "    updated_on = Column(DateTime(), default=datetime.now(), onupdate=datetime.now())\n",
    "    \n",
    "# OrdersModel\n",
    "\n",
    "class Order(Base):\n",
    "    __tablename__ = 'orders'\n",
    "    \n",
    "    order_id = Column(Integer(), primary_key=True)\n",
    "    user_id = Column(Integer(), ForeignKey('users.user_id'))\n",
    "    shipped = Column(Boolean(), default=False)\n",
    "    \n",
    "    user = relationship(\"User\", backref=backref('orders', order_by='Order.order_id'))\n",
    "    \n",
    "# LineitemModel\n",
    "\n",
    "class LineItem(Base):\n",
    "    __tablename__ = 'line_items'\n",
    "    \n",
    "    line_item_id = Column(Integer(), primary_key=True)\n",
    "    order_id = Column(Integer(), ForeignKey('orders.order_id'))\n",
    "    cookie_id = Column(Integer(), ForeignKey('cookies.cookie_id'))\n",
    "    quantity = Column(Integer())\n",
    "    extended_cost = Column(Numeric(12,2))\n",
    "    \n",
    "    order = relationship(\"Order\", backref=backref('line_items', order_by='Lineitem.line_item_id'))\n",
    "    cookie = relationship(\"Cookie\", uselist=False)\n",
    "    \n",
    "'''\n",
    "user.orders = to get all the orders associted with the user.\n",
    "orders.user = get a order this user is associted with.\n",
    "\n",
    "no backref in last because i dont want cookie.orders\n",
    "'''"
   ]
  },
  {
   "cell_type": "code",
   "execution_count": null,
   "metadata": {},
   "outputs": [],
   "source": [
    "# PERSIST ITEMS\n",
    "\n",
    "Base.metadata.create_all(engine)\n",
    "\n",
    "'''\n",
    "only the changes things are going to be added into the db\n",
    "'''"
   ]
  },
  {
   "cell_type": "code",
   "execution_count": null,
   "metadata": {},
   "outputs": [],
   "source": [
    "cookiemon = User(username = 'cookiemon',\n",
    "                email_address = 'mon@cookie.com',\n",
    "                phone = '111111111',\n",
    "                password = 'pass')\n",
    "\n",
    "session.add(cookiemon)\n",
    "session.commit()\n",
    "\n",
    "oi = Order()\n",
    "o1.user = cookiemon\n",
    "session.add(o1)\n",
    "\n",
    "cc = session.query(Cookie).filter(Cookie.cookie_name == 'choco chip').one()\n",
    "line1 = LineItem(cookie=cc, quantity=2, extended_cost=1.00)\n",
    "pb = session.query(Cookie).filter(Cookie.cookie_name == 'oatmeal raisin').one()\n",
    "line2 = LineItem(quantity-12, extended_cost=3.00)\n",
    "line2.cookie = pb\n",
    "\n",
    "o1.line_items.append(line1)\n",
    "o1.line_items.append(line2)\n",
    "\n",
    "session.commit()"
   ]
  },
  {
   "cell_type": "code",
   "execution_count": null,
   "metadata": {},
   "outputs": [],
   "source": [
    "# USING RELATIONSHIP IN QURIES\n",
    "\n",
    "query = session.query(Order.order_id, User.username, User.phone, Cookie.cookie_name, LineItem.quantity,\n",
    "                     LineItem.extended_cost)\n",
    "\n",
    "query = query.join(User).join(LineItem).join(Cookie)\n",
    "results = query.filter(User.username == 'cookiemon').all()\n",
    "\n",
    "print results\n",
    "\n",
    "# ANOTHER EXAMPLE\n",
    "\n",
    "query = session.query(User.username, func.count(Order.order_id))\n",
    "query = query.outerjoin(Order).group_by(User.username)\n",
    "for row in query:\n",
    "    print row\n",
    "\n",
    "'''\n",
    "join order doed not matter\n",
    "'''"
   ]
  },
  {
   "cell_type": "code",
   "execution_count": null,
   "metadata": {},
   "outputs": [],
   "source": [
    "#AUTOMAP\n",
    "\n",
    "'''\n",
    "Take the exisiting data structure and automaticaly map into classes\n",
    "'''"
   ]
  },
  {
   "cell_type": "code",
   "execution_count": null,
   "metadata": {},
   "outputs": [],
   "source": [
    "# GEOSPATIAL QUERIES"
   ]
  }
 ],
 "metadata": {
  "kernelspec": {
   "display_name": "Python 3",
   "language": "python",
   "name": "python3"
  },
  "language_info": {
   "codemirror_mode": {
    "name": "ipython",
    "version": 3
   },
   "file_extension": ".py",
   "mimetype": "text/x-python",
   "name": "python",
   "nbconvert_exporter": "python",
   "pygments_lexer": "ipython3",
   "version": "3.7.6"
  },
  "widgets": {
   "application/vnd.jupyter.widget-state+json": {
    "state": {},
    "version_major": 2,
    "version_minor": 0
   }
  }
 },
 "nbformat": 4,
 "nbformat_minor": 2
}
