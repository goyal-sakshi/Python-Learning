{
 "cells": [
  {
   "cell_type": "code",
   "execution_count": 1,
   "metadata": {},
   "outputs": [
    {
     "name": "stdout",
     "output_type": "stream",
     "text": [
      "19\n"
     ]
    }
   ],
   "source": [
    "tot = 0\n",
    "i = 0\n",
    "l1 = [5, 4, 4, 3, 2, 1]\n",
    "while i < len(l1) and l1[i] > 0:\n",
    "    tot += l1[i]\n",
    "    i += 1\n",
    "    \n",
    "print tot"
   ]
  },
  {
   "cell_type": "code",
   "execution_count": 2,
   "metadata": {},
   "outputs": [
    {
     "name": "stdout",
     "output_type": "stream",
     "text": [
      "-10\n"
     ]
    }
   ],
   "source": [
    "l2 = [5, 4, 4, 3, 2, 1, -1, -2, -3, -4]\n",
    "tot2 = 0\n",
    "for i in l2:\n",
    "    if i < 0:\n",
    "        tot2 += l2[i]\n",
    "    \n",
    "print tot2"
   ]
  },
  {
   "cell_type": "code",
   "execution_count": 3,
   "metadata": {},
   "outputs": [
    {
     "name": "stdout",
     "output_type": "stream",
     "text": [
      "My name is Tom\n",
      "My name is Jerry\n"
     ]
    }
   ],
   "source": [
    "class Robot:\n",
    "    def __init__(self, name, color, weight):\n",
    "        self.name = name\n",
    "        self.color = color\n",
    "        self.weight = weight\n",
    "        \n",
    "    def introduce_self(self):\n",
    "        print \"My name is\", self.name\n",
    "        \n",
    "r1 = Robot(\"Tom\", \"blue\", 52)\n",
    "r2 = Robot(\"Jerry\",\"black\", 10)\n",
    "\n",
    "r1.introduce_self()\n",
    "r2.introduce_self()"
   ]
  },
  {
   "cell_type": "code",
   "execution_count": 4,
   "metadata": {},
   "outputs": [
    {
     "name": "stdout",
     "output_type": "stream",
     "text": [
      "My name is Tom\n"
     ]
    }
   ],
   "source": [
    "class Person:\n",
    "    \n",
    "    def __init__(self, name, personality, is_sitting):\n",
    "        self.name = name\n",
    "        self.personality = personality\n",
    "        self.is_sitting = is_sitting\n",
    "        \n",
    "    def sitDown(self):\n",
    "        self.is_sitting = True\n",
    "        \n",
    "    def standUp(self):\n",
    "        self.is_sitting = False\n",
    "        \n",
    "p1 = Person(\"Sakshi\", \"nice\", True)\n",
    "p2 = Person(\"Goyal\", \"good\", False)\n",
    "\n",
    "p1.robotOwned = r1\n",
    "p1.robotOwned.introduce_self()"
   ]
  },
  {
   "cell_type": "code",
   "execution_count": 5,
   "metadata": {},
   "outputs": [
    {
     "data": {
      "text/plain": [
       "'Yes, I am sad'"
      ]
     },
     "execution_count": 5,
     "metadata": {},
     "output_type": "execute_result"
    }
   ],
   "source": [
    "def are_you_sad(is_rainy, has_umbrella):\n",
    "    if is_rainy and not has_umbrella:\n",
    "        return \"Yes, I am sad\"\n",
    "\n",
    "are_you_sad(True, False)"
   ]
  }
 ],
 "metadata": {
  "kernelspec": {
   "display_name": "Python 2",
   "language": "python",
   "name": "python2"
  },
  "language_info": {
   "codemirror_mode": {
    "name": "ipython",
    "version": 2
   },
   "file_extension": ".py",
   "mimetype": "text/x-python",
   "name": "python",
   "nbconvert_exporter": "python",
   "pygments_lexer": "ipython2",
   "version": "2.7.15"
  }
 },
 "nbformat": 4,
 "nbformat_minor": 2
}
