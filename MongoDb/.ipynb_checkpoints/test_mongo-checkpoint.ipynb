{
 "cells": [
  {
   "cell_type": "code",
   "execution_count": 7,
   "metadata": {},
   "outputs": [],
   "source": [
    "from pymongo import MongoClient\n",
    "import random\n",
    "from datetime import datetime\n",
    "from datetime import timedelta"
   ]
  },
  {
   "cell_type": "code",
   "execution_count": 8,
   "metadata": {},
   "outputs": [
    {
     "data": {
      "text/plain": [
       "MongoClient(host=['localhost:27017'], document_class=dict, tz_aware=False, connect=True)"
      ]
     },
     "execution_count": 8,
     "metadata": {},
     "output_type": "execute_result"
    }
   ],
   "source": [
    "client = MongoClient('localhost', 27017)\n",
    "client"
   ]
  },
  {
   "cell_type": "code",
   "execution_count": 9,
   "metadata": {},
   "outputs": [
    {
     "data": {
      "text/plain": [
       "[u'admin', u'config', u'local']"
      ]
     },
     "execution_count": 9,
     "metadata": {},
     "output_type": "execute_result"
    }
   ],
   "source": [
    "client.list_database_names()"
   ]
  },
  {
   "cell_type": "code",
   "execution_count": 10,
   "metadata": {},
   "outputs": [
    {
     "data": {
      "text/plain": [
       "Database(MongoClient(host=['localhost:27017'], document_class=dict, tz_aware=False, connect=True), u'sagoyal')"
      ]
     },
     "execution_count": 10,
     "metadata": {},
     "output_type": "execute_result"
    }
   ],
   "source": [
    "sagoyal = client['sagoyal']\n",
    "sagoyal"
   ]
  },
  {
   "cell_type": "code",
   "execution_count": 13,
   "metadata": {},
   "outputs": [
    {
     "data": {
      "text/plain": [
       "Collection(Database(MongoClient(host=['localhost:27017'], document_class=dict, tz_aware=False, connect=True), u'sagoyal'), u'suite_details')"
      ]
     },
     "execution_count": 13,
     "metadata": {},
     "output_type": "execute_result"
    }
   ],
   "source": [
    "suite_table = sagoyal['suite_details']\n",
    "suite_table"
   ]
  },
  {
   "cell_type": "code",
   "execution_count": 17,
   "metadata": {},
   "outputs": [],
   "source": [
    "suite_data = [\n",
    "    { str(random.randint(0,100)): {\n",
    "            'r_run_id': str(random.random()),\n",
    "            'tc_run_id': str(random.random()),\n",
    "            's_start_date': datetime.now(),\n",
    "            'end_date': datetime.now() + timedelta(1),\n",
    "            'overall_run_tye': 'AUTOSYS'}\n",
    "    },\n",
    "    { str(random.randint(0,100)): {\n",
    "            'r_run_id': str(random.random()),\n",
    "            'tc_run_id': str(random.random()),\n",
    "            's_start_date': datetime.now(),\n",
    "            'end_date': datetime.now() + timedelta(1),\n",
    "            'overall_run_tye': 'ON DEMAND'}\n",
    "    },\n",
    "    { str(random.randint(0,100)): {\n",
    "            'r_run_id': str(random.random()),\n",
    "            'tc_run_id': str(random.random()),\n",
    "            's_start_date': datetime.now(),\n",
    "            'end_date': datetime.now() + timedelta(1),\n",
    "            'overall_run_tye': 'AUTOSYS'}\n",
    "    },\n",
    "    { str(random.randint(0,100)): {\n",
    "            'r_run_id': str(random.random()),\n",
    "            'tc_run_id': str(random.random()),\n",
    "            's_start_date': datetime.now(),\n",
    "            'end_date': datetime.now() + timedelta(1),\n",
    "            'overall_run_tye': 'CI_CT'}\n",
    "    }\n",
    "]"
   ]
  },
  {
   "cell_type": "code",
   "execution_count": 18,
   "metadata": {},
   "outputs": [
    {
     "data": {
      "text/plain": [
       "<pymongo.results.InsertManyResult at 0x4eba748>"
      ]
     },
     "execution_count": 18,
     "metadata": {},
     "output_type": "execute_result"
    }
   ],
   "source": [
    "suite_table.insert_many(suite_data)"
   ]
  },
  {
   "cell_type": "code",
   "execution_count": 23,
   "metadata": {},
   "outputs": [
    {
     "data": {
      "text/plain": [
       "[u'suite_details']"
      ]
     },
     "execution_count": 23,
     "metadata": {},
     "output_type": "execute_result"
    }
   ],
   "source": [
    "sagoyal.list_collection_names()"
   ]
  },
  {
   "cell_type": "code",
   "execution_count": 31,
   "metadata": {},
   "outputs": [],
   "source": [
    "row = {\n",
    "    str(random.randint(0,100)): {\n",
    "            'r_run_id': str(random.random()),\n",
    "            'tc_run_id': str(random.random()),\n",
    "            's_start_date': datetime.now(),\n",
    "            'end_date': datetime.now() + timedelta(3),\n",
    "            'overall_run_tye': 'CI_CT'}\n",
    "                                       }"
   ]
  },
  {
   "cell_type": "code",
   "execution_count": 32,
   "metadata": {},
   "outputs": [
    {
     "data": {
      "text/plain": [
       "<pymongo.results.InsertOneResult at 0x641c948>"
      ]
     },
     "execution_count": 32,
     "metadata": {},
     "output_type": "execute_result"
    }
   ],
   "source": [
    "insert_result = suite_table.insert_one(row)\n",
    "insert_result"
   ]
  },
  {
   "cell_type": "code",
   "execution_count": 33,
   "metadata": {},
   "outputs": [
    {
     "name": "stdout",
     "output_type": "stream",
     "text": [
      "{u'_id': ObjectId('5eb0580770af624e7e574823'), u'7': {u'overall_run_tye': u'AUTOSYS', u'r_run_id': u'0.91249301878', u's_start_date': datetime.datetime(2020, 5, 4, 23, 29, 21, 704000), u'end_date': datetime.datetime(2020, 5, 5, 23, 29, 21, 704000), u'tc_run_id': u'0.208343218928'}}\n",
      "{u'77': {u'overall_run_tye': u'ON DEMAND', u'r_run_id': u'0.0600031815037', u's_start_date': datetime.datetime(2020, 5, 4, 23, 29, 21, 704000), u'end_date': datetime.datetime(2020, 5, 5, 23, 29, 21, 704000), u'tc_run_id': u'0.200558936679'}, u'_id': ObjectId('5eb0580770af624e7e574824')}\n",
      "{u'_id': ObjectId('5eb0580770af624e7e574825'), u'29': {u'overall_run_tye': u'AUTOSYS', u'r_run_id': u'0.231056262822', u's_start_date': datetime.datetime(2020, 5, 4, 23, 29, 21, 704000), u'end_date': datetime.datetime(2020, 5, 5, 23, 29, 21, 704000), u'tc_run_id': u'0.0040981530089'}}\n",
      "{u'_id': ObjectId('5eb0580770af624e7e574826'), u'16': {u'overall_run_tye': u'CI_CT', u'r_run_id': u'0.451730604352', u's_start_date': datetime.datetime(2020, 5, 4, 23, 29, 21, 704000), u'end_date': datetime.datetime(2020, 5, 5, 23, 29, 21, 704000), u'tc_run_id': u'0.941951860249'}}\n",
      "{u'_id': ObjectId('5eb05a6070af624e7e574827'), u'34': {u'overall_run_tye': u'CI_CT', u'r_run_id': u'0.235111223096', u's_start_date': datetime.datetime(2020, 5, 4, 23, 39, 36, 368000), u'end_date': datetime.datetime(2020, 5, 7, 23, 39, 36, 368000), u'tc_run_id': u'0.790640122766'}}\n",
      "{u'99': {u'overall_run_tye': u'CI_CT', u'r_run_id': u'0.638538090832', u's_start_date': datetime.datetime(2020, 5, 4, 23, 39, 38, 781000), u'end_date': datetime.datetime(2020, 5, 7, 23, 39, 38, 781000), u'tc_run_id': u'0.138540807923'}, u'_id': ObjectId('5eb05a6270af624e7e574828')}\n",
      "{u'54': {u'overall_run_tye': u'CI_CT', u'r_run_id': u'0.183103226008', u's_start_date': datetime.datetime(2020, 5, 4, 23, 41, 37, 268000), u'end_date': datetime.datetime(2020, 5, 7, 23, 41, 37, 268000), u'tc_run_id': u'0.613903180743'}, u'_id': ObjectId('5eb05ae070af624e7e574829')}\n",
      "{u'_id': ObjectId('5eb05b3470af624e7e57482a'), u'81': {u'overall_run_tye': u'CI_CT', u'r_run_id': u'0.971083879107', u's_start_date': datetime.datetime(2020, 5, 4, 23, 43, 8, 174000), u'end_date': datetime.datetime(2020, 5, 7, 23, 43, 8, 174000), u'tc_run_id': u'0.376353393544'}}\n"
     ]
    }
   ],
   "source": [
    "for i in suite_table.find():\n",
    "    print i"
   ]
  },
  {
   "cell_type": "code",
   "execution_count": 35,
   "metadata": {},
   "outputs": [
    {
     "data": {
      "text/plain": [
       "True"
      ]
     },
     "execution_count": 35,
     "metadata": {},
     "output_type": "execute_result"
    }
   ],
   "source": [
    "insert_result.acknowledged"
   ]
  },
  {
   "cell_type": "code",
   "execution_count": 37,
   "metadata": {},
   "outputs": [
    {
     "data": {
      "text/plain": [
       "ObjectId('5eb05b3470af624e7e57482a')"
      ]
     },
     "execution_count": 37,
     "metadata": {},
     "output_type": "execute_result"
    }
   ],
   "source": [
    "insert_result.inserted_id"
   ]
  },
  {
   "cell_type": "code",
   "execution_count": 39,
   "metadata": {},
   "outputs": [
    {
     "data": {
      "text/plain": [
       "{u'81': {u'end_date': datetime.datetime(2020, 5, 7, 23, 43, 8, 174000),\n",
       "  u'overall_run_tye': u'CI_CT',\n",
       "  u'r_run_id': u'0.971083879107',\n",
       "  u's_start_date': datetime.datetime(2020, 5, 4, 23, 43, 8, 174000),\n",
       "  u'tc_run_id': u'0.376353393544'},\n",
       " u'_id': ObjectId('5eb05b3470af624e7e57482a')}"
      ]
     },
     "execution_count": 39,
     "metadata": {},
     "output_type": "execute_result"
    }
   ],
   "source": [
    "suite_table.find_one(insert_result.inserted_id)"
   ]
  },
  {
   "cell_type": "code",
   "execution_count": 41,
   "metadata": {},
   "outputs": [],
   "source": [
    "r_run_id = {'r_run_id' :'0.91249301878'}"
   ]
  },
  {
   "cell_type": "code",
   "execution_count": null,
   "metadata": {},
   "outputs": [],
   "source": [
    "update_result = suite_table.update_one({r_run_id}, {'$set': {'r_run_id': 'M_0.91249301878'}, upsert=})"
   ]
  }
 ],
 "metadata": {
  "kernelspec": {
   "display_name": "Python 2",
   "language": "python",
   "name": "python2"
  },
  "language_info": {
   "codemirror_mode": {
    "name": "ipython",
    "version": 2
   },
   "file_extension": ".py",
   "mimetype": "text/x-python",
   "name": "python",
   "nbconvert_exporter": "python",
   "pygments_lexer": "ipython2",
   "version": "2.7.16"
  }
 },
 "nbformat": 4,
 "nbformat_minor": 2
}
